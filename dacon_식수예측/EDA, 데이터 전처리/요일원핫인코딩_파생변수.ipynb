{
  "cells": [
    {
      "cell_type": "markdown",
      "id": "62e3d501",
      "metadata": {
        "id": "62e3d501"
      },
      "source": [
        "## ✨ 요일 데이터 원핫 인코딩"
      ]
    },
    {
      "cell_type": "markdown",
      "id": "a005ea71",
      "metadata": {
        "id": "a005ea71"
      },
      "source": [
        "* 요일별 중식계/석식계 인원 확인\n",
        "* 요일별로 유의미한 차이를 보이는가"
      ]
    },
    {
      "cell_type": "code",
      "execution_count": null,
      "id": "ff03f075",
      "metadata": {
        "id": "ff03f075"
      },
      "outputs": [],
      "source": [
        "# 코드깨짐 방지 (폰트를 해당 파일 위치와 같은 곳에 깔아두고, 아래 코드 실행)\n",
        "from matplotlib import font_manager, rc\n",
        "font_path = './malgun.ttf' # 폰트 파일 위치\n",
        "font_name = font_manager.FontProperties(fname = font_path).get_name()\n",
        "rc('font', family = font_name)"
      ]
    },
    {
      "cell_type": "code",
      "execution_count": null,
      "id": "81f07af2",
      "metadata": {
        "id": "81f07af2",
        "outputId": "ddcf0c2b-296c-4f88-b186-cbd7bf7b9f43"
      },
      "outputs": [
        {
          "data": {
            "text/html": [
              "<div>\n",
              "<style scoped>\n",
              "    .dataframe tbody tr th:only-of-type {\n",
              "        vertical-align: middle;\n",
              "    }\n",
              "\n",
              "    .dataframe tbody tr th {\n",
              "        vertical-align: top;\n",
              "    }\n",
              "\n",
              "    .dataframe thead th {\n",
              "        text-align: right;\n",
              "    }\n",
              "</style>\n",
              "<table border=\"1\" class=\"dataframe\">\n",
              "  <thead>\n",
              "    <tr style=\"text-align: right;\">\n",
              "      <th></th>\n",
              "      <th>일자</th>\n",
              "      <th>요일</th>\n",
              "      <th>본사정원수</th>\n",
              "      <th>본사휴가자수</th>\n",
              "      <th>본사출장자수</th>\n",
              "      <th>본사시간외근무명령서승인건수</th>\n",
              "      <th>현본사소속재택근무자수</th>\n",
              "      <th>조식메뉴</th>\n",
              "      <th>중식메뉴</th>\n",
              "      <th>석식메뉴</th>\n",
              "      <th>중식계</th>\n",
              "      <th>석식계</th>\n",
              "    </tr>\n",
              "  </thead>\n",
              "  <tbody>\n",
              "    <tr>\n",
              "      <th>0</th>\n",
              "      <td>2016-02-01</td>\n",
              "      <td>월</td>\n",
              "      <td>2601</td>\n",
              "      <td>50</td>\n",
              "      <td>150</td>\n",
              "      <td>238</td>\n",
              "      <td>0.0</td>\n",
              "      <td>모닝롤/찐빵  우유/두유/주스 계란후라이  호두죽/쌀밥 (쌀:국내산) 된장찌개  쥐...</td>\n",
              "      <td>쌀밥/잡곡밥 (쌀,현미흑미:국내산) 오징어찌개  쇠불고기 (쇠고기:호주산) 계란찜 ...</td>\n",
              "      <td>쌀밥/잡곡밥 (쌀,현미흑미:국내산) 육개장  자반고등어구이  두부조림  건파래무침 ...</td>\n",
              "      <td>1039.0</td>\n",
              "      <td>331.0</td>\n",
              "    </tr>\n",
              "    <tr>\n",
              "      <th>1</th>\n",
              "      <td>2016-02-02</td>\n",
              "      <td>화</td>\n",
              "      <td>2601</td>\n",
              "      <td>50</td>\n",
              "      <td>173</td>\n",
              "      <td>319</td>\n",
              "      <td>0.0</td>\n",
              "      <td>모닝롤/단호박샌드  우유/두유/주스 계란후라이  팥죽/쌀밥 (쌀:국내산) 호박젓국찌...</td>\n",
              "      <td>쌀밥/잡곡밥 (쌀,현미흑미:국내산) 김치찌개  가자미튀김  모둠소세지구이  마늘쫑무...</td>\n",
              "      <td>콩나물밥*양념장 (쌀,현미흑미:국내산) 어묵국  유산슬 (쇠고기:호주산) 아삭고추무...</td>\n",
              "      <td>867.0</td>\n",
              "      <td>560.0</td>\n",
              "    </tr>\n",
              "    <tr>\n",
              "      <th>2</th>\n",
              "      <td>2016-02-03</td>\n",
              "      <td>수</td>\n",
              "      <td>2601</td>\n",
              "      <td>56</td>\n",
              "      <td>180</td>\n",
              "      <td>111</td>\n",
              "      <td>0.0</td>\n",
              "      <td>모닝롤/베이글  우유/두유/주스 계란후라이  표고버섯죽/쌀밥 (쌀:국내산) 콩나물국...</td>\n",
              "      <td>카레덮밥 (쌀,현미흑미:국내산) 팽이장국  치킨핑거 (닭고기:국내산) 쫄면야채무침 ...</td>\n",
              "      <td>쌀밥/잡곡밥 (쌀,현미흑미:국내산) 청국장찌개  황태양념구이 (황태:러시아산) 고기...</td>\n",
              "      <td>1017.0</td>\n",
              "      <td>573.0</td>\n",
              "    </tr>\n",
              "  </tbody>\n",
              "</table>\n",
              "</div>"
            ],
            "text/plain": [
              "           일자 요일  본사정원수  본사휴가자수  본사출장자수  본사시간외근무명령서승인건수  현본사소속재택근무자수  \\\n",
              "0  2016-02-01  월   2601      50     150             238          0.0   \n",
              "1  2016-02-02  화   2601      50     173             319          0.0   \n",
              "2  2016-02-03  수   2601      56     180             111          0.0   \n",
              "\n",
              "                                                조식메뉴  \\\n",
              "0  모닝롤/찐빵  우유/두유/주스 계란후라이  호두죽/쌀밥 (쌀:국내산) 된장찌개  쥐...   \n",
              "1  모닝롤/단호박샌드  우유/두유/주스 계란후라이  팥죽/쌀밥 (쌀:국내산) 호박젓국찌...   \n",
              "2  모닝롤/베이글  우유/두유/주스 계란후라이  표고버섯죽/쌀밥 (쌀:국내산) 콩나물국...   \n",
              "\n",
              "                                                중식메뉴  \\\n",
              "0  쌀밥/잡곡밥 (쌀,현미흑미:국내산) 오징어찌개  쇠불고기 (쇠고기:호주산) 계란찜 ...   \n",
              "1  쌀밥/잡곡밥 (쌀,현미흑미:국내산) 김치찌개  가자미튀김  모둠소세지구이  마늘쫑무...   \n",
              "2  카레덮밥 (쌀,현미흑미:국내산) 팽이장국  치킨핑거 (닭고기:국내산) 쫄면야채무침 ...   \n",
              "\n",
              "                                                석식메뉴     중식계    석식계  \n",
              "0  쌀밥/잡곡밥 (쌀,현미흑미:국내산) 육개장  자반고등어구이  두부조림  건파래무침 ...  1039.0  331.0  \n",
              "1  콩나물밥*양념장 (쌀,현미흑미:국내산) 어묵국  유산슬 (쇠고기:호주산) 아삭고추무...   867.0  560.0  \n",
              "2  쌀밥/잡곡밥 (쌀,현미흑미:국내산) 청국장찌개  황태양념구이 (황태:러시아산) 고기...  1017.0  573.0  "
            ]
          },
          "execution_count": 2,
          "metadata": {},
          "output_type": "execute_result"
        }
      ],
      "source": [
        "import pandas as pd\n",
        "import matplotlib.pyplot as plt\n",
        "plt.rcParams['axes.unicode_minus'] = False\n",
        "\n",
        "df = pd.read_csv('./train.csv')\n",
        "df.head(3)"
      ]
    },
    {
      "cell_type": "code",
      "execution_count": null,
      "id": "b68cd6b7",
      "metadata": {
        "id": "b68cd6b7"
      },
      "outputs": [],
      "source": [
        "# 요일별 중식계 / 석식계 식수 인원 확인 \n",
        "weekday_lunch_count = df.groupby('요일').sum()['중식계'].sort_values(ascending = False)\n",
        "weekday_dinner_count = df.groupby('요일').sum()['석식계'].sort_values(ascending = False)"
      ]
    },
    {
      "cell_type": "code",
      "execution_count": null,
      "id": "f9a942b5",
      "metadata": {
        "id": "f9a942b5",
        "outputId": "abe23b68-6e84-4903-dad6-2d3714cf433e"
      },
      "outputs": [
        {
          "data": {
            "image/png": "iVBORw0KGgoAAAANSUhEUgAAAmQAAAI+CAYAAAASBBYtAAAAOXRFWHRTb2Z0d2FyZQBNYXRwbG90bGliIHZlcnNpb24zLjQuMywgaHR0cHM6Ly9tYXRwbG90bGliLm9yZy/MnkTPAAAACXBIWXMAAAsTAAALEwEAmpwYAAAh10lEQVR4nO3df6zd913f8dd7dePQ0S1OcmNYUONSSiCJkCZZDVGXpttKKU75oRDQBgVNC9jLxsYUsZFuWsZm0KJ43aIxTcPqGJNA6UgitIgAirDkxKRlizOVLWoaQMNFIaK7ddrUQDCE+94f5+vl5Pq2vvfa8eee28dDinq+n+/7xJ+roybPfM/3nFvdHQAAxvlzozcAAPClTpABAAwmyAAABhNkAACDCTIAgMEEGQDAYDtGb+B8XHnllb1nz57R2wAAOKenn376M929tNa5hQ6yPXv25Pjx46O3AQBwTlX1qS90zluWAACDCTIAgMEEGQDAYIIMAGAwQQYAMJggAwAYTJABAAwmyAAABhNkAACDLfQ39V8se+5+dPQWtpUT9946egsAsKW4QgYAMJggAwAYTJABAAwmyAAABhNkAACDCTIAgMEEGQDAYIIMAGAwQQYAMJggAwAYTJABAAwmyAAABhNkAACDCTIAgMEEGQDAYIIMAGAwQQYAMJggAwAY7JxBVlWXVdVHqupoVT1RVW+tqu+rqk9Ma4/NzR6sqser6smqun5au7aqjkxrhzYzCwCwne1Yx8ybktzV3S9U1a1JfiTJJ5N8sLv/25mhqro5ye7uvqWqbkhyKMm+JPcnuaO7T1TVg1V1Y5JL1jvb3f/9wv24AABbzzmvkHX3C939wnT42SR/mOSy6fG89yZ5YHrOM0kur6odSS7t7hPTzMNJbtrgLADAtrbue8iq6urMro7dn9mVtfuq6lhV7Z9GrkqyPPeUV5LsTnJybu1kkl0bnF29j/1Vdbyqji8vL68+DQCwcNYVZFX1/iT3JPnB6YrZP+/ub0zyzUm+a7oH7KW8NqBWkryY2dW0M3ZlFmIbmX2N7j7c3Xu7e+/S0tJ6tg8AsKWt56b+b0jyrd19oLtPTmtn7j17OcmpJJ3kWJLbp/PXJXm+u19OsnO6upYktyU5ssFZAIBtbT039b8vyc1VdXQ6/t0kn66qd0zP/4Xu/kRVfTLJvqo6llmkHZjm70ryUFWdTvJIdz9bVc+td/YC/IwAAFvaOYOsu+9Lct865laS3LnG+lNZdXP+RmYBALY7XwwLADCYIAMAGEyQAQAMJsgAAAYTZAAAgwkyAIDBBBkAwGCCDABgMEEGADCYIAMAGEyQAQAMJsgAAAYTZAAAgwkyAIDBBBkAwGCCDABgMEEGADCYIAMAGEyQAQAMtmP0BuBC2HP3o6O3sO2cuPfW0VsA+JLhChkAwGCCDABgMEEGADCYIAMAGMxN/cBF48MXF5YPXsD24QoZAMBgggwAYDBBBgAwmCADABhMkAEADCbIAAAGE2QAAIMJMgCAwQQZAMBgggwAYLBzBllVXVZVH6mqo1X1RFW9taquraojVfVkVR2amz1YVY9P69dPa+c9CwCwna3nd1m+Kcld3f1CVd2a5EeSfHWSO7r7RFU9WFU3Jrkkye7uvqWqbkhyKMm+JPefz2x3//cL/DMDAGwp5wyy7n5h7vCzSU4nubS7T0xrDye5KckVSR6YnvNMVV1eVTsuwKwgA7iI/BL4C8svgWc91n0PWVVdndnVsQ8lOTl36mSSXUmuSrI8t/5Kkt0XYHb1PvZX1fGqOr68vLz6NADAwllXkFXV+5Pck+QHk7yY5LK507syi6uX8tqAWrlAs6/R3Ye7e293711aWlrP9gEAtrT13NT/DUm+tbsPdPfJ7n45yc7pilmS3JbkSJJjSW6fnnNdkucv0CwAwLa2npv635fk5qo6Oh3/bpK7kjxUVaeTPNLdz1bVc0n2VdWxJKeSHJjmz2v2AvyMAABb2npu6r8vyX1rnLpp1dxKkjvXeP5T5zMLALDd+WJYAIDBBBkAwGCCDABgMEEGADCYIAMAGEyQAQAMJsgAAAYTZAAAgwkyAIDBBBkAwGCCDABgMEEGADCYIAMAGEyQAQAMJsgAAAYTZAAAgwkyAIDBBBkAwGCCDABgMEEGADCYIAMAGEyQAQAMJsgAAAYTZAAAgwkyAIDBBBkAwGCCDABgMEEGADCYIAMAGEyQAQAMJsgAAAbbMXoDAMDG7Ln70dFb2HZO3Hvr0D/fFTIAgMEEGQDAYIIMAGCwcwZZVS1V1U9U1cHp+Puq6hNVdbSqHpubO1hVj1fVk1V1/bR2bVUdmdYObWYWAGC7W88Vsg8lOZ3kjdPxZUk+2N3v7u73JklV3Zxkd3ffkuRAkjNBdX+SO7r7nUn2VNWNG5k93x8OAGARnDPIuvv7kzwxt3RZks+uGntvkgem+WeSXF5VO5Jc2t0nppmHk9y0wVkAgG1vM/eQ7UhyX1Udq6r909pVSZbnZl5JsjvJybm1k0l2bXD2LFW1v6qOV9Xx5eXltUYAABbKhoOsu/95d39jkm9O8l3TPWAv5bUBtZLkxcyupp2xK7MQ28jsWn/+4e7e2917l5aWNrp9AIAtZ8NBNr29mCQvJzmVpJMcS3L7dP66JM9398tJdlbV1dP8bUmObHAWAGDb28w39f+rqnrH9Nxf6O5PVNUnk+yrqmOZRdqBafauJA9V1ekkj3T3s1X13Hpnz+PnAgBYGOsKsu4+muTo9PgfrXF+Jcmda6w/lVU3529kFgDgS4EvhgUAGEyQAQAMJsgAAAYTZAAAgwkyAIDBBBkAwGCCDABgMEEGADCYIAMAGEyQAQAMJsgAAAYTZAAAgwkyAIDBBBkAwGCCDABgMEEGADCYIAMAGEyQAQAMJsgAAAYTZAAAgwkyAIDBBBkAwGCCDABgMEEGADCYIAMAGEyQAQAMJsgAAAYTZAAAgwkyAIDBBBkAwGCCDABgMEEGADCYIAMAGEyQAQAMds4gq6qlqvqJqjo4HV9bVUeq6smqOjQ3d7CqHp/Wr79QswAA2916rpB9KMnpJG+cju9Pckd3vzPJnqq6sapuTrK7u29JciDJoQsxe94/HQDAAjhnkHX39yd5IkmqakeSS7v7xHT64SQ3JXlvkgem+WeSXH6BZgEAtr2N3kO2lOTk3PHJJLuSXJVkeW79lSS7L8DsWapqf1Udr6rjy8vLa40AACyUjQbZ55JcNne8K7O4eimvDaiVJC9egNmzdPfh7t7b3XuXlpY2uH0AgK1nQ0HW3S8n2VlVV09LtyU5kuRYktuTpKquS/L8BZoFANj2dmziOXcleaiqTid5pLufrarnkuyrqmNJTmV2s/55z57HzwUAsDDWFWTdfTTJ0enxU1l1w313ryS5c43nndcsAMCXAl8MCwAwmCADABhMkAEADCbIAAAGE2QAAIMJMgCAwQQZAMBgggwAYDBBBgAwmCADABhMkAEADCbIAAAGE2QAAIMJMgCAwQQZAMBgggwAYDBBBgAwmCADABhMkAEADCbIAAAGE2QAAIMJMgCAwQQZAMBgggwAYDBBBgAwmCADABhMkAEADCbIAAAGE2QAAIMJMgCAwQQZAMBgggwAYDBBBgAwmCADABhMkAEADLbpIKuq/11VR6e/vqeqrq2qI1X1ZFUdmps7WFWPT+vXT2vrngUA2O52nMdzP93d7zlzUFW/nOSO7j5RVQ9W1Y1JLkmyu7tvqaobkhxKsi/J/RuYBQDY1s4nyFbOPKiqHUku7e4T09LDSW5KckWSB5Kku5+pqss3MnseewMAWBibesuyqv58krdV1RNV9fNJvjLJybmRk0l2JbkqyfLc+itJdq93tqrO2l9V7a+q41V1fHl5efVpAICFs6krZN39h0neliRV9U1J/k2Sy+ZGdmUWV182PT5jJcmL653t7pWs0t2HkxxOkr179/Zm9g8AsJVs9grZG+YOl5N0kp1VdfW0dluSI0mOJbl9es51SZ7v7pfXO7uZvQEALJrN3kP2NVX100n+ZPrrzszuAXuoqk4neaS7n62q55Lsq6pjSU4lOTA9/64NzAIAbGubfcvyuSTvXLX8fzK7OX9+biWzWFv9/KfWOwsAsN35YlgAgMEEGQDAYIIMAGAwQQYAMJggAwAYTJABAAwmyAAABhNkAACDCTIAgMEEGQDAYIIMAGAwQQYAMJggAwAYTJABAAwmyAAABhNkAACDCTIAgMEEGQDAYIIMAGAwQQYAMJggAwAYTJABAAwmyAAABhNkAACDCTIAgMEEGQDAYIIMAGAwQQYAMJggAwAYTJABAAwmyAAABhNkAACDCTIAgMEEGQDAYIIMAGCwLRdkVXWwqh6vqier6vrR+wEAeL1tqSCrqpuT7O7uW5IcSHJo8JYAAF53WyrIkrw3yQNJ0t3PJLl87HYAAF5/1d2j9/D/VdVPJfnJKcZSVb+W5F3dvTI3sz/J/unw2iTPXfSNbl1XJvnM6E1wTl6nrc9rtBi8TovB6/Sqa7p7aa0TOy72Ts7hpSS75o5X5mMsSbr7cJLDF3VXC6Kqjnf33tH74IvzOm19XqPF4HVaDF6n9dlqb1keS3J7klTVdUmeH7sdAIDX31a7QvZokn1VdSzJqcxu7AcA2Na2VJBNb0/eOXofC8xbuYvB67T1eY0Wg9dpMXid1mFL3dQPAPClaEtdIWNzpi/Q/fYkO5M80d1HquqKJN/S3T87dnecUVXvTvJr3f3KdPxXkxzv7lMj9wVwoVXVz+fsr656e3dfM2I/i0CQLbiquiazL9D94SR/lORHq+rLk/xGkncnEWQDVdUlSa6bDv9pknuq6uUkv5/ke5P8Tmb3S7KFTF+vs6O7/8PovXC2qvpkzv7Q1zXd/fYR++Fs3f3dq9eq6qERe1kUgmzx/Wlmn5bdmeTPMntN/3jojph3aZL3TI8/luRdmb1OHx22I76oqvqaJLfOHtZj3f3bo/fEWU509/vmF6rqV0ZthnXbat/ssKUIsgXX3S9U1Q9l9i+QS5L8XJJnklwxdGMkSbr781V1JMmPJfmtJG9L8hvd/dGq+ttDN8drVNXfzCyYP5fkA5n9y+OeqtqV5Mnu/k8Dt8dr7amqX1215q2wLaCqvimzdwPW8pVVdTTJvd0toFdxU/8Cq6pK8uEknWQpyVck+WSSzyf56SR/r7t/YNwOSZKq+i9J7unuT03HjyV5X2afPHo6yce6++PjdkiSVNXbkvxed//xqvU3Jfmq7v7NMTvjjKrameTNc0u3Z3Zh4SNza6e6+/RF3RhcAK6QLbCe1fQdSVJV70ryjsxC7J4kfz/Jyhd+NhfRLya5t6p+McmeJC9098qsp/Nn8ToNV1V/PckHp8dfaOa+7n7sYu6Ls7w9yXessf535h4/kuR/XZTd8AVV1cdz9q9L+qru/roB21kIrpBtA1X1nrx6n9K8p7v7wYu9H85WVX8ps/+Kv7u7PzqtfTjJj3f3iZF742xV9YHMbur/mdF74bWqandmt2as9gfd/R0XeTt8AVX1q939nlVrv7L63j9e5QrZ9vDJJH+wam0pyXcmEWQDTTeIf22SN2T2/7e3VtWeoZuCBdbdn84a/wG6xj1lsFAE2fbwA0m+LbN7x+a5aXK8S5LsyuxtyfuT/Elmn4L9XJK/NmxXAK+vt0w38M/76hEbWRSCbPt4Zfpr3teP2Aiv6u5PJPnEWueqygcutq5PZ3ZVk8XxS6M3wKu6+2tH72HRuIcMAGAwX9IGADCYIAMAGEyQAQAMJsgAAAYTZAAAgwkyAIDBBBkAwGCCDABgMEEGADCYIAMAGEyQAQAMJsgAAAYTZAAAgwkyAIDBBBkAwGCCDABgMEEGADCYIAMAGEyQAQAMJsgAAAYTZAAAgwkyAIDBBBkAwGCCDABgMEEGADCYIAMAGEyQAQAMJsgAAAYTZAAAgwkyAIDBBBkAwGCCDABgsB2jN3A+rrzyyt6zZ8/obQAAnNPTTz/9me5eWuvcQgfZnj17cvz48dHbAAA4p6r61Bc65y1LAIDBBBkAwGCCDABgMEEGADCYIAMAGEyQAQAMJsgAAAYTZAAAgwkyAIDBBBkAwGAL/auTLpY9dz86egvbyol7bx29BQDYUlwhAwAYTJABAAwmyAAABhNkAACDCTIAgMEEGQDAYIIMAGAwQQYAMJgvhmVb8OW9F54v8AW4eFwhAwAYTJABAAwmyAAABhNkAACDCTIAgMHOGWRVtVRVP1FVB6fjv1FVR6vqeFV9cG7uYFU9XlVPVtX109q1VXVkWju0mVkAgO1uPVfIPpTkdJI3Tse/3d3vTvKOJN8+BdvNSXZ39y1JDiQ5E1T3J7mju9+ZZE9V3biR2fP+6QAAFsA5g6y7vz/JE3PHx6f/XUlyMsmfJHlvkgem9WeSXF5VO5Jc2t0npqc+nOSmDc4CAGx7m76HrKr+bpJj3f1SkquSLM+dfiXJ7syC7YyTSXZtcHatP3f/9Hbp8eXl5bVGAAAWyoaDrKreXFX/Mcn/7e57p+WX8tqAWknyYpLL5tZ2ZRZiG5k9S3cf7u693b13aWlpo9sHANhyNnOF7N8n+Tfd/dDc2rEktydJVV2X5PnufjnJzqq6epq5LcmRDc4CAGx7m/ldlu9Pck1VnTn+l0keTbKvqo4lOZXZzfpJcleSh6rqdJJHuvvZqnpuvbOb+okAABbMuoKsu48mOTo9vuILjN25xvOeyqqb86cPA6xrFgDgS8FmrpABbMqeux8dvYVt5cS9t47eAnCB+KZ+AIDBBBkAwGCCDABgMEEGADCYIAMAGEyQAQAMJsgAAAYTZAAAgwkyAIDBBBkAwGCCDABgMEEGADCYIAMAGEyQAQAMJsgAAAYTZAAAgwkyAIDBBBkAwGCCDABgMEEGADCYIAMAGEyQAQAMJsgAAAYTZAAAgwkyAIDBBBkAwGCCDABgsHMGWVUtVdVPVNXB6fjaqjpSVU9W1aG5uYNV9fi0fv2FmgUA2O7Wc4XsQ0lOJ3njdHx/kju6+51J9lTVjVV1c5Ld3X1LkgNJDl2I2fP+6QAAFsA5g6y7vz/JE0lSVTuSXNrdJ6bTDye5Kcl7kzwwzT+T5PILNAsAsO1t9B6ypSQn545PJtmV5Koky3PrryTZfQFmz1JV+6vqeFUdX15eXmsEAGChbDTIPpfksrnjXZnF1Ut5bUCtJHnxAsyepbsPd/fe7t67tLS0we0DAGw9Gwqy7n45yc6qunpaui3JkSTHktyeJFV1XZLnL9AsAMC2t2MTz7kryUNVdTrJI939bFU9l2RfVR1Lciqzm/XPe/Y8fi4AgIWxriDr7qNJjk6Pn8qqG+67eyXJnWs877xmAbj49tz96OgtbCsn7r119BZYAL4YFgBgMEEGADCYIAMAGEyQAQAMJsgAAAYTZAAAgwkyAIDBBBkAwGCCDABgMEEGADCYIAMAGEyQAQAMJsgAAAYTZAAAgwkyAIDBBBkAwGCCDABgMEEGADCYIAMAGGzH6A0AABuz5+5HR29h2zlx761D/3xXyAAABhNkAACDCTIAgMEEGQDAYIIMAGAwQQYAMJggAwAYTJABAAy26SCrqruq6vGqerKq/nJVXVtVR6bjQ3NzB+fmrp/W1j0LALDdbeqb+qvqsiTfluTdSd6W5N9Of687uvtEVT1YVTcmuSTJ7u6+papuSHIoyb4k929gFgBgW9vsr076s8yurl2S5Moky0ne2t0npvMPJ7kpyRVJHkiS7n6mqi6vqh1JLl3P7Cb3BgCwUDb1lmV3n0ryRJJnkzyS5D8nOTk3cjLJriRXZRZrZ7ySZPd6Z6vqrP1V1f6qOl5Vx5eXl1efBgBYOJt9y/LWJG/M7O3KXZld5VqZG9mVWVx92fT4jJUkLya5bD2z3T3/90ySdPfhJIeTZO/evb2Z/QMAbCWbvan/miSf7u5O8vkkb05yeVVdPZ2/LcmRJMeS3J4kVXVdkue7++UkO9czu8m9AQAslM3eQ/YzSX66qh5PsjPJTyX5eJKHqup0kke6+9mqei7Jvqo6luRUkgPT8+/awCwAwLa2qSDr7j9K8jfWOHXTqrmVJHeu8fyn1jsLALDd+WJYAIDBBBkAwGCCDABgMEEGADCYIAMAGEyQAQAMJsgAAAYTZAAAgwkyAIDBBBkAwGCCDABgMEEGADCYIAMAGEyQAQAMJsgAAAYTZAAAgwkyAIDBBBkAwGCCDABgMEEGADCYIAMAGEyQAQAMJsgAAAYTZAAAgwkyAIDBBBkAwGCCDABgMEEGADCYIAMAGGzTQVZV76iqJ6rqyar6x1V1bVUdmY4Pzc0drKrHp/Xrp7V1zwIAbHc7NvOkqnpjknuSfHt3f3Za++Ukd3T3iap6sKpuTHJJkt3dfUtV3ZDkUJJ9Se7fwCwAwLa2qSBL8i1JPpXkgSnOPpjk0u4+MZ1/OMlNSa5I8kCSdPczVXV5Ve1Y7+xaf3BV7U+yP0ne8pa3bHL7AABbx2bfsnx7ksuTvD/JHUn+a5KTc+dPJtmV5Koky3PrryTZvd7Zqjprf919uLv3dvfepaWlTW4fAGDr2OwVsleSPNbdryQ5UVUvZhZVZ+zKLK6+bNX6SpIXk1y2ntnuXtnk/gAAFsZmr5B9LLO3LVNVu5OcSnJJVV09nb8tyZEkx5LcPs1dl+T57n45yc71zG5ybwAAC2VTV8i6+39U1XNV9WRmV8vuyizuHqqq00ke6e5nq+q5JPuq6lhm0XZg+lvctYFZAIBtbbNvWaa7/1mSf7Zq+aZVMytJ7lzjuU+tdxYAYLvzxbAAAIMJMgCAwQQZAMBgggwAYDBBBgAwmCADABhMkAEADCbIAAAGE2QAAIMJMgCAwQQZAMBgggwAYDBBBgAwmCADABhMkAEADCbIAAAGE2QAAIMJMgCAwQQZAMBgggwAYDBBBgAwmCADABhMkAEADCbIAAAGE2QAAIMJMgCAwQQZAMBgggwAYLDzDrKq+p9V9b6quraqjlTVk1V1aO78wap6fFq/flpb9ywAwHa343yeXFW3J/mL0+H9Se7o7hNV9WBV3ZjkkiS7u/uWqrohyaEk+zY4CwCwrW06yKrqzUm+L8nPTX+fS7v7xHT64SQ3JbkiyQNJ0t3PVNXlVbXu2c3uDQBgkZzPW5b/LsmPJ1lJ8uYkJ+fOnUyyK8lVSZbn1l9Jsnu9s1V11v6qan9VHa+q48vLy6tPAwAsnE0FWVV9b5Lf7e6npqXPJblsbmRXZnH10vT4jJUkL653trtXVv/Z3X24u/d2996lpaXNbB8AYEvZ7BWy70lyXVV9JMntSX40yfVVdfV0/rYkR5Icm86nqq5L8nx3v5xk53pmN7k3AICFsql7yLr71jOPq+rHkvx6Zm89PlRVp5M80t3PVtVzSfZV1bEkp5IcmJ521wZmAQC2tfP6lGWSdPePzR3etOrcSpI713jOU+udBQDY7nwxLADAYIIMAGAwQQYAMJggAwAYTJABAAwmyAAABhNkAACDCTIAgMEEGQDAYIIMAGAwQQYAMJggAwAYTJABAAwmyAAABhNkAACDCTIAgMEEGQDAYIIMAGAwQQYAMJggAwAYTJABAAwmyAAABhNkAACDCTIAgMEEGQDAYIIMAGAwQQYAMJggAwAYbFNBVlWXVdVHqupoVT1RVW+tqmur6khVPVlVh+ZmD1bV49P69dPaumcBALa7HZt83puS3NXdL1TVrUl+JMlXJ7mju09U1YNVdWOSS5Ls7u5bquqGJIeS7Ety/wZmAQC2tU0FWXe/MHf42SSnk1za3SemtYeT3JTkiiQPTM95pqour6od653dzN4AABbNed1DVlVXZ3Z17ENJTs6dOplkV5KrkizPrb+SZPd6Z6vqrP1V1f6qOl5Vx5eXl1efBgBYOJsOsqp6f5J7kvxgkheTXDZ3eldmcfXS9PiMlY3MdvfK6j+3uw93997u3ru0tLTZ7QMAbBmbvan/G5J8a3cf6O6T3f1ykp3TFbMkuS3JkSTHktw+Pee6JM9vZHaTPxMAwELZ7E3970tyc1UdnY5/N8ldSR6qqtNJHunuZ6vquST7qupYklNJDkzzG5kFANjWNntT/31J7lvj1E2r5laS3LnG859a7ywAwHbni2EBAAYTZAAAgwkyAIDBBBkAwGCCDABgMEEGADCYIAMAGEyQAQAMJsgAAAYTZAAAgwkyAIDBBBkAwGCCDABgMEEGADCYIAMAGEyQAQAMJsgAAAYTZAAAgwkyAIDBBBkAwGCCDABgMEEGADCYIAMAGEyQAQAMJsgAAAYTZAAAgwkyAIDBBBkAwGBbLsiq6mBVPV5VT1bV9aP3AwDwettSQVZVNyfZ3d23JDmQ5NDgLQEAvO62VJAleW+SB5Kku59JcvnY7QAAvP6qu0fv4f+rqp9K8pNTjKWqfi3Ju7p7ZW5mf5L90+G1SZ676Bvduq5M8pnRm+CcvE5bn9doMXidFoPX6VXXdPfSWid2XOydnMNLSXbNHa/Mx1iSdPfhJIcv6q4WRFUd7+69o/fBF+d12vq8RovB67QYvE7rs9XesjyW5PYkqarrkjw/djsAAK+/rXaF7NEk+6rqWJJTmd3YDwCwrW2pIJvenrxz9D4WmLdyF4PXaevzGi0Gr9Ni8Dqtw5a6qR8A4EvRVruHjE2oquur6p9U1b+oqr8+rV1RVR8YvTdeVVXvrqodc8d/tarePHJPAGwNW+otSzauqq7J7At0fzjJHyX50ar68iS/keTdSX523O6oqkuSXDcd/tMk91TVy0l+P8n3JvmdzO6XZAuoqk/m7A8TXdPdbx+xH9ZWVT+fs7+n8u3dfc2I/cCFIMgW359mdqVzZ5I/y+w1/eOhO2LepUneMz3+WJJ3ZfY6fXTYjvhiTnT3++YXqupXRm2GtXX3d69eq6qHRuyFL2767tAd3f0fRu9lqxNkC667X6iqH0pya5JLkvxckmeSXDF0YyRJuvvzVXUkyY8l+a0kb0vyG9390ar620M3x1r2VNWvrlpz1WUxuAVni6mqr8ns301VVY9192+P3tNWJsgWWFVVkg8n6SRLSb4iyQ1JPp/kpwdujdf6h0n+QXd/Kkmq6rGq+tfTuW+pqo9198dHbY6kqnYmeXOSvzIt3Z7ZPx8/Mp2/Msmp7j49ZockSVV9U2Zv/a/lK6vqaJJ7u9tVzYGq6m9m9m7A55J8ILNYvqeqdiV5srv/08DtbVk+ZblNVNW7krwjsxC7J8lfyOw3HfzA0I2RqvquJLcl+cUkezK71+VvVdWHk/yPJL/e3f9r4Ba/5FXVDUm+4xxjj3id4Nyq6m1Jfq+7/3jV+puSfFV3/+aYnW1tgmwbqKr35NX7lOY93d0PXuz9cLaq+kuZXW25u7s/Oq19OMmPd/eJkXtjpqp2Z/aW/2p/0N3fcZG3wxdRVR/P2b8b8au6++sGbIc50yf9P3iOsfu6+7GLsZ9F4i3L7eGTSf5g1dpSku9MIsgGmu6h+Nokb8js/29vrao9QzfFmrr701njP2zWuKeM8T7T3a95rXz4Ymvo7iNJjpw5nr5+aUd3/8ywTS0IQbY9/ECSb8vs3rF5/gE13iVJdiVZSXJ/kj/J7FOwn0vy14btCoAtRZBtH69Mf837+hEb4VXd/Ykkn1jrXFW5v28x/NLoDXCWt0w38M/76hEbgQvFPWQAwOti+mTsG3zy9dwEGQDAYL5IDwBgMEEGADCYIAMAGEyQAQAMJsgAAAYTZAAAg/0/2U2z72sfHmkAAAAASUVORK5CYII=\n",
            "text/plain": [
              "<Figure size 720x720 with 2 Axes>"
            ]
          },
          "metadata": {
            "needs_background": "light"
          },
          "output_type": "display_data"
        }
      ],
      "source": [
        "# 막대그래프를 통한 확인\n",
        "plt.figure(figsize = (10, 10))\n",
        "plt.subplot(2, 1, 1)\n",
        "plt.bar(weekday_lunch_count.index, weekday_lunch_count.values)\n",
        "plt.subplot(2, 1, 2)\n",
        "plt.bar(weekday_dinner_count.index, weekday_dinner_count.values)\n",
        "plt.show()"
      ]
    },
    {
      "cell_type": "markdown",
      "id": "5b97b1bb",
      "metadata": {
        "id": "5b97b1bb"
      },
      "source": [
        "=> 중식계, 석식계 모두 월요일에 식수인원이 많음<br>\n",
        "=> 그 외의 요일도 유의미한 차이를 보이고 있음을 알 수 있음"
      ]
    },
    {
      "cell_type": "markdown",
      "id": "f5a9f4e1",
      "metadata": {
        "id": "f5a9f4e1"
      },
      "source": [
        "* 요일 변수 원핫인코딩<br>\n",
        "\n",
        "1. pandas의 get_dummies() 이용"
      ]
    },
    {
      "cell_type": "code",
      "execution_count": null,
      "id": "8a619780",
      "metadata": {
        "scrolled": true,
        "id": "8a619780",
        "outputId": "30be5d95-fb8b-449f-ea13-7634f9e1263d"
      },
      "outputs": [
        {
          "data": {
            "text/html": [
              "<div>\n",
              "<style scoped>\n",
              "    .dataframe tbody tr th:only-of-type {\n",
              "        vertical-align: middle;\n",
              "    }\n",
              "\n",
              "    .dataframe tbody tr th {\n",
              "        vertical-align: top;\n",
              "    }\n",
              "\n",
              "    .dataframe thead th {\n",
              "        text-align: right;\n",
              "    }\n",
              "</style>\n",
              "<table border=\"1\" class=\"dataframe\">\n",
              "  <thead>\n",
              "    <tr style=\"text-align: right;\">\n",
              "      <th></th>\n",
              "      <th>일자</th>\n",
              "      <th>본사정원수</th>\n",
              "      <th>본사휴가자수</th>\n",
              "      <th>본사출장자수</th>\n",
              "      <th>본사시간외근무명령서승인건수</th>\n",
              "      <th>현본사소속재택근무자수</th>\n",
              "      <th>조식메뉴</th>\n",
              "      <th>중식메뉴</th>\n",
              "      <th>석식메뉴</th>\n",
              "      <th>중식계</th>\n",
              "      <th>석식계</th>\n",
              "      <th>요일_금</th>\n",
              "      <th>요일_목</th>\n",
              "      <th>요일_수</th>\n",
              "      <th>요일_월</th>\n",
              "      <th>요일_화</th>\n",
              "    </tr>\n",
              "  </thead>\n",
              "  <tbody>\n",
              "    <tr>\n",
              "      <th>0</th>\n",
              "      <td>2016-02-01</td>\n",
              "      <td>2601</td>\n",
              "      <td>50</td>\n",
              "      <td>150</td>\n",
              "      <td>238</td>\n",
              "      <td>0.0</td>\n",
              "      <td>모닝롤/찐빵  우유/두유/주스 계란후라이  호두죽/쌀밥 (쌀:국내산) 된장찌개  쥐...</td>\n",
              "      <td>쌀밥/잡곡밥 (쌀,현미흑미:국내산) 오징어찌개  쇠불고기 (쇠고기:호주산) 계란찜 ...</td>\n",
              "      <td>쌀밥/잡곡밥 (쌀,현미흑미:국내산) 육개장  자반고등어구이  두부조림  건파래무침 ...</td>\n",
              "      <td>1039.0</td>\n",
              "      <td>331.0</td>\n",
              "      <td>0</td>\n",
              "      <td>0</td>\n",
              "      <td>0</td>\n",
              "      <td>1</td>\n",
              "      <td>0</td>\n",
              "    </tr>\n",
              "    <tr>\n",
              "      <th>1</th>\n",
              "      <td>2016-02-02</td>\n",
              "      <td>2601</td>\n",
              "      <td>50</td>\n",
              "      <td>173</td>\n",
              "      <td>319</td>\n",
              "      <td>0.0</td>\n",
              "      <td>모닝롤/단호박샌드  우유/두유/주스 계란후라이  팥죽/쌀밥 (쌀:국내산) 호박젓국찌...</td>\n",
              "      <td>쌀밥/잡곡밥 (쌀,현미흑미:국내산) 김치찌개  가자미튀김  모둠소세지구이  마늘쫑무...</td>\n",
              "      <td>콩나물밥*양념장 (쌀,현미흑미:국내산) 어묵국  유산슬 (쇠고기:호주산) 아삭고추무...</td>\n",
              "      <td>867.0</td>\n",
              "      <td>560.0</td>\n",
              "      <td>0</td>\n",
              "      <td>0</td>\n",
              "      <td>0</td>\n",
              "      <td>0</td>\n",
              "      <td>1</td>\n",
              "    </tr>\n",
              "    <tr>\n",
              "      <th>2</th>\n",
              "      <td>2016-02-03</td>\n",
              "      <td>2601</td>\n",
              "      <td>56</td>\n",
              "      <td>180</td>\n",
              "      <td>111</td>\n",
              "      <td>0.0</td>\n",
              "      <td>모닝롤/베이글  우유/두유/주스 계란후라이  표고버섯죽/쌀밥 (쌀:국내산) 콩나물국...</td>\n",
              "      <td>카레덮밥 (쌀,현미흑미:국내산) 팽이장국  치킨핑거 (닭고기:국내산) 쫄면야채무침 ...</td>\n",
              "      <td>쌀밥/잡곡밥 (쌀,현미흑미:국내산) 청국장찌개  황태양념구이 (황태:러시아산) 고기...</td>\n",
              "      <td>1017.0</td>\n",
              "      <td>573.0</td>\n",
              "      <td>0</td>\n",
              "      <td>0</td>\n",
              "      <td>1</td>\n",
              "      <td>0</td>\n",
              "      <td>0</td>\n",
              "    </tr>\n",
              "    <tr>\n",
              "      <th>3</th>\n",
              "      <td>2016-02-04</td>\n",
              "      <td>2601</td>\n",
              "      <td>104</td>\n",
              "      <td>220</td>\n",
              "      <td>355</td>\n",
              "      <td>0.0</td>\n",
              "      <td>모닝롤/토마토샌드  우유/두유/주스 계란후라이  닭죽/쌀밥 (쌀,닭:국내산) 근대국...</td>\n",
              "      <td>쌀밥/잡곡밥 (쌀,현미흑미:국내산) 쇠고기무국  주꾸미볶음  부추전  시금치나물  ...</td>\n",
              "      <td>미니김밥*겨자장 (쌀,현미흑미:국내산) 우동  멕시칸샐러드  군고구마  무피클  포...</td>\n",
              "      <td>978.0</td>\n",
              "      <td>525.0</td>\n",
              "      <td>0</td>\n",
              "      <td>1</td>\n",
              "      <td>0</td>\n",
              "      <td>0</td>\n",
              "      <td>0</td>\n",
              "    </tr>\n",
              "    <tr>\n",
              "      <th>4</th>\n",
              "      <td>2016-02-05</td>\n",
              "      <td>2601</td>\n",
              "      <td>278</td>\n",
              "      <td>181</td>\n",
              "      <td>34</td>\n",
              "      <td>0.0</td>\n",
              "      <td>모닝롤/와플  우유/두유/주스 계란후라이  쇠고기죽/쌀밥 (쌀:국내산) 재첩국  방...</td>\n",
              "      <td>쌀밥/잡곡밥 (쌀,현미흑미:국내산) 떡국  돈육씨앗강정 (돼지고기:국내산) 우엉잡채...</td>\n",
              "      <td>쌀밥/잡곡밥 (쌀,현미흑미:국내산) 차돌박이찌개 (쇠고기:호주산) 닭갈비 (닭고기:...</td>\n",
              "      <td>925.0</td>\n",
              "      <td>330.0</td>\n",
              "      <td>1</td>\n",
              "      <td>0</td>\n",
              "      <td>0</td>\n",
              "      <td>0</td>\n",
              "      <td>0</td>\n",
              "    </tr>\n",
              "    <tr>\n",
              "      <th>...</th>\n",
              "      <td>...</td>\n",
              "      <td>...</td>\n",
              "      <td>...</td>\n",
              "      <td>...</td>\n",
              "      <td>...</td>\n",
              "      <td>...</td>\n",
              "      <td>...</td>\n",
              "      <td>...</td>\n",
              "      <td>...</td>\n",
              "      <td>...</td>\n",
              "      <td>...</td>\n",
              "      <td>...</td>\n",
              "      <td>...</td>\n",
              "      <td>...</td>\n",
              "      <td>...</td>\n",
              "      <td>...</td>\n",
              "    </tr>\n",
              "    <tr>\n",
              "      <th>1200</th>\n",
              "      <td>2021-01-20</td>\n",
              "      <td>2983</td>\n",
              "      <td>75</td>\n",
              "      <td>198</td>\n",
              "      <td>4</td>\n",
              "      <td>391.0</td>\n",
              "      <td>모닝롤/페퍼로니피자 우유/주스 계란후라이/찐계란 크루통크림스프/흑미밥 아귀지리 마늘...</td>\n",
              "      <td>쌀밥/흑미밥/찰현미밥 아욱국 수제함박스테이크 견과류마카로니범벅 생깻잎지 단호박물김치...</td>\n",
              "      <td>김치볶음밥 미니쫄우동*맛살튀김 브로콜리깨소스무침 계란후라이 고들빼기무침 겉절이김치</td>\n",
              "      <td>1093.0</td>\n",
              "      <td>421.0</td>\n",
              "      <td>0</td>\n",
              "      <td>0</td>\n",
              "      <td>1</td>\n",
              "      <td>0</td>\n",
              "      <td>0</td>\n",
              "    </tr>\n",
              "    <tr>\n",
              "      <th>1201</th>\n",
              "      <td>2021-01-21</td>\n",
              "      <td>2983</td>\n",
              "      <td>92</td>\n",
              "      <td>231</td>\n",
              "      <td>462</td>\n",
              "      <td>351.0</td>\n",
              "      <td>모닝롤/생크림단팥빵 우유/주스 계란후라이/찐계란 누룽지탕/흑미밥 떡국 해물땡굴소스볶...</td>\n",
              "      <td>쌀밥/수수밥/찰현미밥 냉이된장국 동파육 봄동전 청경채/버섯숙회*초장 무생채 양상추샐...</td>\n",
              "      <td>흑미밥 쇠고기무국 삼치양념구이 비엔나채소볶음 숙주나물당근무침 포기김치</td>\n",
              "      <td>832.0</td>\n",
              "      <td>353.0</td>\n",
              "      <td>0</td>\n",
              "      <td>1</td>\n",
              "      <td>0</td>\n",
              "      <td>0</td>\n",
              "      <td>0</td>\n",
              "    </tr>\n",
              "    <tr>\n",
              "      <th>1202</th>\n",
              "      <td>2021-01-22</td>\n",
              "      <td>2983</td>\n",
              "      <td>255</td>\n",
              "      <td>248</td>\n",
              "      <td>1</td>\n",
              "      <td>303.0</td>\n",
              "      <td>모닝롤/BLT샌드위치 우유/주스 계란후라이/찐계란 흑임자죽/흑미밥 바지락살국 두부조...</td>\n",
              "      <td>전주비빔밥*약고추장 계란파국 요거닭 올방개묵무침 파프리카해초무침 포기김치 양상추샐러...</td>\n",
              "      <td>흑미밥 수제비국 수제맛쵸킹탕수육 유부채소겨자냉채 참나물무침 갓김치/겉절이김치</td>\n",
              "      <td>579.0</td>\n",
              "      <td>217.0</td>\n",
              "      <td>1</td>\n",
              "      <td>0</td>\n",
              "      <td>0</td>\n",
              "      <td>0</td>\n",
              "      <td>0</td>\n",
              "    </tr>\n",
              "    <tr>\n",
              "      <th>1203</th>\n",
              "      <td>2021-01-25</td>\n",
              "      <td>2983</td>\n",
              "      <td>107</td>\n",
              "      <td>153</td>\n",
              "      <td>616</td>\n",
              "      <td>327.0</td>\n",
              "      <td>모닝롤/호박고구마오븐구이 우유/주스 계란후라이/찐계란 누룽지탕/흑미밥 감자양파국 분...</td>\n",
              "      <td>쌀밥/흑미밥/찰현미밥 전주식콩나물해장국 돈육간장불고기 깐풍연근 연두부*달래양념장 봄...</td>\n",
              "      <td>흑미밥 열무된장국 장어강정*데리야끼소스 깻잎쌈*생강채 오이선 포기김치</td>\n",
              "      <td>1145.0</td>\n",
              "      <td>502.0</td>\n",
              "      <td>0</td>\n",
              "      <td>0</td>\n",
              "      <td>0</td>\n",
              "      <td>1</td>\n",
              "      <td>0</td>\n",
              "    </tr>\n",
              "    <tr>\n",
              "      <th>1204</th>\n",
              "      <td>2021-01-26</td>\n",
              "      <td>2983</td>\n",
              "      <td>69</td>\n",
              "      <td>183</td>\n",
              "      <td>551</td>\n",
              "      <td>362.0</td>\n",
              "      <td>모닝롤/야채샌드 우유/주스 계란후라이/찐계란 참치죽/흑미밥 홍합탕 애호박새우젓볶음 ...</td>\n",
              "      <td>쌀밥/귀리밥/찰현미밥 들깨미역국 교촌간장치킨 옥수수콘치즈구이 가지고추장무침 포기김치...</td>\n",
              "      <td>(New)할라피뇨멸치주먹밥 잔치국수 수제고기육전 쑥갓나물 양파초절임 깍두기</td>\n",
              "      <td>1015.0</td>\n",
              "      <td>480.0</td>\n",
              "      <td>0</td>\n",
              "      <td>0</td>\n",
              "      <td>0</td>\n",
              "      <td>0</td>\n",
              "      <td>1</td>\n",
              "    </tr>\n",
              "  </tbody>\n",
              "</table>\n",
              "<p>1205 rows × 16 columns</p>\n",
              "</div>"
            ],
            "text/plain": [
              "              일자  본사정원수  본사휴가자수  본사출장자수  본사시간외근무명령서승인건수  현본사소속재택근무자수  \\\n",
              "0     2016-02-01   2601      50     150             238          0.0   \n",
              "1     2016-02-02   2601      50     173             319          0.0   \n",
              "2     2016-02-03   2601      56     180             111          0.0   \n",
              "3     2016-02-04   2601     104     220             355          0.0   \n",
              "4     2016-02-05   2601     278     181              34          0.0   \n",
              "...          ...    ...     ...     ...             ...          ...   \n",
              "1200  2021-01-20   2983      75     198               4        391.0   \n",
              "1201  2021-01-21   2983      92     231             462        351.0   \n",
              "1202  2021-01-22   2983     255     248               1        303.0   \n",
              "1203  2021-01-25   2983     107     153             616        327.0   \n",
              "1204  2021-01-26   2983      69     183             551        362.0   \n",
              "\n",
              "                                                   조식메뉴  \\\n",
              "0     모닝롤/찐빵  우유/두유/주스 계란후라이  호두죽/쌀밥 (쌀:국내산) 된장찌개  쥐...   \n",
              "1     모닝롤/단호박샌드  우유/두유/주스 계란후라이  팥죽/쌀밥 (쌀:국내산) 호박젓국찌...   \n",
              "2     모닝롤/베이글  우유/두유/주스 계란후라이  표고버섯죽/쌀밥 (쌀:국내산) 콩나물국...   \n",
              "3     모닝롤/토마토샌드  우유/두유/주스 계란후라이  닭죽/쌀밥 (쌀,닭:국내산) 근대국...   \n",
              "4     모닝롤/와플  우유/두유/주스 계란후라이  쇠고기죽/쌀밥 (쌀:국내산) 재첩국  방...   \n",
              "...                                                 ...   \n",
              "1200  모닝롤/페퍼로니피자 우유/주스 계란후라이/찐계란 크루통크림스프/흑미밥 아귀지리 마늘...   \n",
              "1201  모닝롤/생크림단팥빵 우유/주스 계란후라이/찐계란 누룽지탕/흑미밥 떡국 해물땡굴소스볶...   \n",
              "1202  모닝롤/BLT샌드위치 우유/주스 계란후라이/찐계란 흑임자죽/흑미밥 바지락살국 두부조...   \n",
              "1203  모닝롤/호박고구마오븐구이 우유/주스 계란후라이/찐계란 누룽지탕/흑미밥 감자양파국 분...   \n",
              "1204  모닝롤/야채샌드 우유/주스 계란후라이/찐계란 참치죽/흑미밥 홍합탕 애호박새우젓볶음 ...   \n",
              "\n",
              "                                                   중식메뉴  \\\n",
              "0     쌀밥/잡곡밥 (쌀,현미흑미:국내산) 오징어찌개  쇠불고기 (쇠고기:호주산) 계란찜 ...   \n",
              "1     쌀밥/잡곡밥 (쌀,현미흑미:국내산) 김치찌개  가자미튀김  모둠소세지구이  마늘쫑무...   \n",
              "2     카레덮밥 (쌀,현미흑미:국내산) 팽이장국  치킨핑거 (닭고기:국내산) 쫄면야채무침 ...   \n",
              "3     쌀밥/잡곡밥 (쌀,현미흑미:국내산) 쇠고기무국  주꾸미볶음  부추전  시금치나물  ...   \n",
              "4     쌀밥/잡곡밥 (쌀,현미흑미:국내산) 떡국  돈육씨앗강정 (돼지고기:국내산) 우엉잡채...   \n",
              "...                                                 ...   \n",
              "1200  쌀밥/흑미밥/찰현미밥 아욱국 수제함박스테이크 견과류마카로니범벅 생깻잎지 단호박물김치...   \n",
              "1201  쌀밥/수수밥/찰현미밥 냉이된장국 동파육 봄동전 청경채/버섯숙회*초장 무생채 양상추샐...   \n",
              "1202  전주비빔밥*약고추장 계란파국 요거닭 올방개묵무침 파프리카해초무침 포기김치 양상추샐러...   \n",
              "1203  쌀밥/흑미밥/찰현미밥 전주식콩나물해장국 돈육간장불고기 깐풍연근 연두부*달래양념장 봄...   \n",
              "1204  쌀밥/귀리밥/찰현미밥 들깨미역국 교촌간장치킨 옥수수콘치즈구이 가지고추장무침 포기김치...   \n",
              "\n",
              "                                                   석식메뉴     중식계    석식계  요일_금  \\\n",
              "0     쌀밥/잡곡밥 (쌀,현미흑미:국내산) 육개장  자반고등어구이  두부조림  건파래무침 ...  1039.0  331.0     0   \n",
              "1     콩나물밥*양념장 (쌀,현미흑미:국내산) 어묵국  유산슬 (쇠고기:호주산) 아삭고추무...   867.0  560.0     0   \n",
              "2     쌀밥/잡곡밥 (쌀,현미흑미:국내산) 청국장찌개  황태양념구이 (황태:러시아산) 고기...  1017.0  573.0     0   \n",
              "3     미니김밥*겨자장 (쌀,현미흑미:국내산) 우동  멕시칸샐러드  군고구마  무피클  포...   978.0  525.0     0   \n",
              "4     쌀밥/잡곡밥 (쌀,현미흑미:국내산) 차돌박이찌개 (쇠고기:호주산) 닭갈비 (닭고기:...   925.0  330.0     1   \n",
              "...                                                 ...     ...    ...   ...   \n",
              "1200     김치볶음밥 미니쫄우동*맛살튀김 브로콜리깨소스무침 계란후라이 고들빼기무침 겉절이김치   1093.0  421.0     0   \n",
              "1201            흑미밥 쇠고기무국 삼치양념구이 비엔나채소볶음 숙주나물당근무침 포기김치    832.0  353.0     0   \n",
              "1202        흑미밥 수제비국 수제맛쵸킹탕수육 유부채소겨자냉채 참나물무침 갓김치/겉절이김치    579.0  217.0     1   \n",
              "1203            흑미밥 열무된장국 장어강정*데리야끼소스 깻잎쌈*생강채 오이선 포기김치   1145.0  502.0     0   \n",
              "1204         (New)할라피뇨멸치주먹밥 잔치국수 수제고기육전 쑥갓나물 양파초절임 깍두기   1015.0  480.0     0   \n",
              "\n",
              "      요일_목  요일_수  요일_월  요일_화  \n",
              "0        0     0     1     0  \n",
              "1        0     0     0     1  \n",
              "2        0     1     0     0  \n",
              "3        1     0     0     0  \n",
              "4        0     0     0     0  \n",
              "...    ...   ...   ...   ...  \n",
              "1200     0     1     0     0  \n",
              "1201     1     0     0     0  \n",
              "1202     0     0     0     0  \n",
              "1203     0     0     1     0  \n",
              "1204     0     0     0     1  \n",
              "\n",
              "[1205 rows x 16 columns]"
            ]
          },
          "execution_count": 5,
          "metadata": {},
          "output_type": "execute_result"
        }
      ],
      "source": [
        "df = pd.get_dummies(df, columns = ['요일'])\n",
        "df"
      ]
    },
    {
      "cell_type": "markdown",
      "id": "aeb65ef2",
      "metadata": {
        "id": "aeb65ef2"
      },
      "source": [
        "2. OneHotEncoder 이용"
      ]
    },
    {
      "cell_type": "code",
      "execution_count": null,
      "id": "d982b7c1",
      "metadata": {
        "id": "d982b7c1"
      },
      "outputs": [],
      "source": [
        "# from sklearn.preprocessing import OneHotEncoder\n",
        "# import numpy as np\n",
        "\n",
        "# # 입력값으로 2차원 데이터 필요 (LabelEncoder와는 달리 !)\n",
        "# weekday = np.array(df['요일']).reshape(-1, 1)\n",
        "\n",
        "# # 원핫인코딩 적용\n",
        "# oh_encoder = OneHotEncoder()\n",
        "# oh_encoder.fit(weekday)\n",
        "# oh_labels = oh_encoder.transform(weekday)\n",
        "\n",
        "# # OneHotEncoder로 변환한 결과를 numpy array 형태로 반환\n",
        "# oh_labels.toarray()"
      ]
    },
    {
      "cell_type": "markdown",
      "id": "5bb9d914",
      "metadata": {
        "id": "5bb9d914"
      },
      "source": [
        "## ✨ 주어진 피처 조합으로 새로운 의미를 가지는 피처 구상 아이디어"
      ]
    },
    {
      "cell_type": "code",
      "execution_count": null,
      "id": "234a31e6",
      "metadata": {
        "id": "234a31e6",
        "outputId": "9812a16c-e209-4ef3-d17d-db62adc31101"
      },
      "outputs": [
        {
          "data": {
            "text/html": [
              "<div>\n",
              "<style scoped>\n",
              "    .dataframe tbody tr th:only-of-type {\n",
              "        vertical-align: middle;\n",
              "    }\n",
              "\n",
              "    .dataframe tbody tr th {\n",
              "        vertical-align: top;\n",
              "    }\n",
              "\n",
              "    .dataframe thead th {\n",
              "        text-align: right;\n",
              "    }\n",
              "</style>\n",
              "<table border=\"1\" class=\"dataframe\">\n",
              "  <thead>\n",
              "    <tr style=\"text-align: right;\">\n",
              "      <th></th>\n",
              "      <th>일자</th>\n",
              "      <th>본사정원수</th>\n",
              "      <th>본사휴가자수</th>\n",
              "      <th>본사출장자수</th>\n",
              "      <th>본사시간외근무명령서승인건수</th>\n",
              "      <th>현본사소속재택근무자수</th>\n",
              "      <th>조식메뉴</th>\n",
              "      <th>중식메뉴</th>\n",
              "      <th>석식메뉴</th>\n",
              "      <th>중식계</th>\n",
              "      <th>석식계</th>\n",
              "      <th>요일_금</th>\n",
              "      <th>요일_목</th>\n",
              "      <th>요일_수</th>\n",
              "      <th>요일_월</th>\n",
              "      <th>요일_화</th>\n",
              "    </tr>\n",
              "  </thead>\n",
              "  <tbody>\n",
              "    <tr>\n",
              "      <th>0</th>\n",
              "      <td>2016-02-01</td>\n",
              "      <td>2601</td>\n",
              "      <td>50</td>\n",
              "      <td>150</td>\n",
              "      <td>238</td>\n",
              "      <td>0.0</td>\n",
              "      <td>모닝롤/찐빵  우유/두유/주스 계란후라이  호두죽/쌀밥 (쌀:국내산) 된장찌개  쥐...</td>\n",
              "      <td>쌀밥/잡곡밥 (쌀,현미흑미:국내산) 오징어찌개  쇠불고기 (쇠고기:호주산) 계란찜 ...</td>\n",
              "      <td>쌀밥/잡곡밥 (쌀,현미흑미:국내산) 육개장  자반고등어구이  두부조림  건파래무침 ...</td>\n",
              "      <td>1039.0</td>\n",
              "      <td>331.0</td>\n",
              "      <td>0</td>\n",
              "      <td>0</td>\n",
              "      <td>0</td>\n",
              "      <td>1</td>\n",
              "      <td>0</td>\n",
              "    </tr>\n",
              "    <tr>\n",
              "      <th>1</th>\n",
              "      <td>2016-02-02</td>\n",
              "      <td>2601</td>\n",
              "      <td>50</td>\n",
              "      <td>173</td>\n",
              "      <td>319</td>\n",
              "      <td>0.0</td>\n",
              "      <td>모닝롤/단호박샌드  우유/두유/주스 계란후라이  팥죽/쌀밥 (쌀:국내산) 호박젓국찌...</td>\n",
              "      <td>쌀밥/잡곡밥 (쌀,현미흑미:국내산) 김치찌개  가자미튀김  모둠소세지구이  마늘쫑무...</td>\n",
              "      <td>콩나물밥*양념장 (쌀,현미흑미:국내산) 어묵국  유산슬 (쇠고기:호주산) 아삭고추무...</td>\n",
              "      <td>867.0</td>\n",
              "      <td>560.0</td>\n",
              "      <td>0</td>\n",
              "      <td>0</td>\n",
              "      <td>0</td>\n",
              "      <td>0</td>\n",
              "      <td>1</td>\n",
              "    </tr>\n",
              "    <tr>\n",
              "      <th>2</th>\n",
              "      <td>2016-02-03</td>\n",
              "      <td>2601</td>\n",
              "      <td>56</td>\n",
              "      <td>180</td>\n",
              "      <td>111</td>\n",
              "      <td>0.0</td>\n",
              "      <td>모닝롤/베이글  우유/두유/주스 계란후라이  표고버섯죽/쌀밥 (쌀:국내산) 콩나물국...</td>\n",
              "      <td>카레덮밥 (쌀,현미흑미:국내산) 팽이장국  치킨핑거 (닭고기:국내산) 쫄면야채무침 ...</td>\n",
              "      <td>쌀밥/잡곡밥 (쌀,현미흑미:국내산) 청국장찌개  황태양념구이 (황태:러시아산) 고기...</td>\n",
              "      <td>1017.0</td>\n",
              "      <td>573.0</td>\n",
              "      <td>0</td>\n",
              "      <td>0</td>\n",
              "      <td>1</td>\n",
              "      <td>0</td>\n",
              "      <td>0</td>\n",
              "    </tr>\n",
              "  </tbody>\n",
              "</table>\n",
              "</div>"
            ],
            "text/plain": [
              "           일자  본사정원수  본사휴가자수  본사출장자수  본사시간외근무명령서승인건수  현본사소속재택근무자수  \\\n",
              "0  2016-02-01   2601      50     150             238          0.0   \n",
              "1  2016-02-02   2601      50     173             319          0.0   \n",
              "2  2016-02-03   2601      56     180             111          0.0   \n",
              "\n",
              "                                                조식메뉴  \\\n",
              "0  모닝롤/찐빵  우유/두유/주스 계란후라이  호두죽/쌀밥 (쌀:국내산) 된장찌개  쥐...   \n",
              "1  모닝롤/단호박샌드  우유/두유/주스 계란후라이  팥죽/쌀밥 (쌀:국내산) 호박젓국찌...   \n",
              "2  모닝롤/베이글  우유/두유/주스 계란후라이  표고버섯죽/쌀밥 (쌀:국내산) 콩나물국...   \n",
              "\n",
              "                                                중식메뉴  \\\n",
              "0  쌀밥/잡곡밥 (쌀,현미흑미:국내산) 오징어찌개  쇠불고기 (쇠고기:호주산) 계란찜 ...   \n",
              "1  쌀밥/잡곡밥 (쌀,현미흑미:국내산) 김치찌개  가자미튀김  모둠소세지구이  마늘쫑무...   \n",
              "2  카레덮밥 (쌀,현미흑미:국내산) 팽이장국  치킨핑거 (닭고기:국내산) 쫄면야채무침 ...   \n",
              "\n",
              "                                                석식메뉴     중식계    석식계  요일_금  \\\n",
              "0  쌀밥/잡곡밥 (쌀,현미흑미:국내산) 육개장  자반고등어구이  두부조림  건파래무침 ...  1039.0  331.0     0   \n",
              "1  콩나물밥*양념장 (쌀,현미흑미:국내산) 어묵국  유산슬 (쇠고기:호주산) 아삭고추무...   867.0  560.0     0   \n",
              "2  쌀밥/잡곡밥 (쌀,현미흑미:국내산) 청국장찌개  황태양념구이 (황태:러시아산) 고기...  1017.0  573.0     0   \n",
              "\n",
              "   요일_목  요일_수  요일_월  요일_화  \n",
              "0     0     0     1     0  \n",
              "1     0     0     0     1  \n",
              "2     0     1     0     0  "
            ]
          },
          "execution_count": 7,
          "metadata": {},
          "output_type": "execute_result"
        }
      ],
      "source": [
        "df.head(3)"
      ]
    },
    {
      "cell_type": "markdown",
      "id": "9befdfa9",
      "metadata": {
        "id": "9befdfa9"
      },
      "source": [
        "* 1. 출근자수 = 본사정원수 - 본사휴가자수 - 본사출장자수 - 현본사소속재택근무자수\n",
        "* 2. 휴가비율 = 본사휴가자수 / 본사정원수\n",
        "* 3. 출장비율 = 본사출장자수 / 본사정원수\n",
        "* 4. 야근비율 = 본사시간외근무명령서승인건수 / 본사정원수\n",
        "* 5. 재택비율 = 현본사소속재택근무자수 / 본사정원수"
      ]
    },
    {
      "cell_type": "code",
      "execution_count": null,
      "id": "6194f01c",
      "metadata": {
        "id": "6194f01c"
      },
      "outputs": [],
      "source": [
        "df['출근자수'] = df['본사정원수'] - df['본사휴가자수'] - df['본사출장자수'] - df['현본사소속재택근무자수']\n",
        "df['휴가비율'] = df['본사휴가자수'] / df['본사정원수']\n",
        "df['출장비율'] = df['본사출장자수'] / df['본사정원수']\n",
        "df['야근비율'] = df['본사시간외근무명령서승인건수'] / df['본사정원수']\n",
        "df['재택비율'] = df['현본사소속재택근무자수'] / df['본사정원수']"
      ]
    },
    {
      "cell_type": "code",
      "execution_count": null,
      "id": "10f9473e",
      "metadata": {
        "id": "10f9473e"
      },
      "outputs": [],
      "source": [
        "df_corr = df.drop(['일자', '조식메뉴', '중식메뉴', '석식메뉴', '요일_금', '요일_목', '요일_수', '요일_월', '요일_화'], axis = 1).corr()"
      ]
    },
    {
      "cell_type": "code",
      "execution_count": null,
      "id": "c52524c4",
      "metadata": {
        "id": "c52524c4",
        "outputId": "530e6081-2725-453c-d13f-0556d87503bf"
      },
      "outputs": [
        {
          "data": {
            "text/plain": [
              "<AxesSubplot:>"
            ]
          },
          "execution_count": 13,
          "metadata": {},
          "output_type": "execute_result"
        },
        {
          "data": {
            "image/png": "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\n",
            "text/plain": [
              "<Figure size 432x288 with 2 Axes>"
            ]
          },
          "metadata": {
            "needs_background": "light"
          },
          "output_type": "display_data"
        }
      ],
      "source": [
        "import seaborn as sns\n",
        "sns.heatmap(df_corr, \n",
        "            annot = True)"
      ]
    },
    {
      "cell_type": "markdown",
      "id": "dbcce4a7",
      "metadata": {
        "id": "dbcce4a7"
      },
      "source": [
        "* 중식계<br> \n",
        "=> 양의 상관관계 : 본사시간외근무명령서승인건수, 석식계(쓰면 .. x?), 야근비율<br>\n",
        "=> 음의 상관관계 : 본사휴가자수, 본사출장자수, 휴가비율, 출장비율<br><br>\n",
        "\n",
        "* 석식계<br>\n",
        "=> 양의 상관관계 : 본사시간외근무명령서승인건수, 중식계(쓰면 .. x?), 야근비율<br>\n",
        "=> 음의 상관관계 : 본사휴가자수, 휴가비율<br><br>\n",
        "\n",
        "=> 결과적으로 본사정원수, 현본사소속재택근무자수, 출근자수(=> 큰 값에서 크게 변동이 없어서?), 재택비율은 식수에 크게 영향을 미치진 않을 것이라고 예상됨<br>\n",
        "=> 기존의 변수와 동일한 의미를 가진 (ex. 수, 비율) 변수들 간의 상관관계가 거의 1에 가까워 두 변수를 동시에 쓰지 않음에 유의"
      ]
    },
    {
      "cell_type": "markdown",
      "id": "b746c5cb",
      "metadata": {
        "id": "b746c5cb"
      },
      "source": [
        "___"
      ]
    },
    {
      "cell_type": "markdown",
      "id": "91347258",
      "metadata": {
        "id": "91347258"
      },
      "source": [
        "# ✨ feature selection 3가지 방법\n",
        "1. Wrapper method : 모델링 돌리면서 변수 채택\n",
        "2. Filter Method : 피처 간 상관관계 파악\n",
        "3. Embedded method : 라쏘, 릿지, 엘라스틱넷 등 내장함수 사용하여 변수 채택"
      ]
    },
    {
      "cell_type": "markdown",
      "id": "fff37dfb",
      "metadata": {
        "id": "fff37dfb"
      },
      "source": [
        "1. `Wrapper method`\n",
        "* 전진선택, 후진제거, step-wise 방법을 이용해 중요도가 높은 변수만 선택<br><br>\n",
        "\n",
        "2. Filter Method\n",
        "* 분산 : 분산이 작다면 서로 다른 관찰을 구분하는데 별 소용이 없음 => 하지만, 분산에 의한 선택은 반드시 상관관계와 일치한다는 보장이 없기 때문에 신중하게 사용\n",
        "* 카이제곱검정 : 범주형 변수 사이의 관계 파악\n",
        "* 상호정보량 : 두 변수의 상관관계를 측정 => 독립이라면 상호정보량이 0이 됨\n",
        "* `Information value (정보 가치)` : 주로 모델을 학습하기 전 첫 단계에서 변수들을 제거하는 데 사용됨, 변수의 값을 10개가 넘지 않도록 조정하여 grouping하여 target에 대한 판별력을 높임, 신용패무능력이 가능한 고객과 불가능한 고객을 예측하는 로지스틱 회귀 모델링과 밀접한 관계<br>\n",
        ,
        "![image.png](attachment:image.png)<br>\n",
        "* 상관계수 : 변수간 상관계수 => PCA를 이용, 상관계수가 큰 변수들 제거<br><br>\n",
        "\n",
        "3. Embedded Method\n",
        "* 라쏘, 릿지, 엘라스틱넷처럼 모델 자체에 변수 선택 기능이 포함\n",
        "* 트리 기반 알고리즘에서 feature_importances_를 기반으로 피처 추출"
      ]
    }
  ],
  "metadata": {
    "kernelspec": {
      "display_name": "Python 3 (ipykernel)",
      "language": "python",
      "name": "python3"
    },
    "language_info": {
      "codemirror_mode": {
        "name": "ipython",
        "version": 3
      },
      "file_extension": ".py",
      "mimetype": "text/x-python",
      "name": "python",
      "nbconvert_exporter": "python",
      "pygments_lexer": "ipython3",
      "version": "3.9.7"
    },
    "colab": {
      "provenance": []
    }
  },
  "nbformat": 4,
  "nbformat_minor": 5
}
