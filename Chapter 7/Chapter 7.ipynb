{
 "cells": [
  {
   "cell_type": "markdown",
   "metadata": {},
   "source": [
    "# Chapter 7. 정규표현식\n",
    "\n",
    "## 7-1. 정규 표현식 살펴보기\n",
    "정규 표현식은 복잡한 문자열을 처리할 때 사용하는 기법으로 문자열을 처리하는 모든 곳에서 사용한다.\n",
    "> 정규표현식은 줄여서 간단히 \"정규식\"이라고도 말한다."
   ]
  },
  {
   "cell_type": "markdown",
   "metadata": {},
   "source": [
    "##### 정규표현식은 왜 필요한가?\n",
    "\n",
    "`주민등록번호를 포함하고 있는 텍스트가 있다. 이 텍스트에 포함된 모든 주민등록번호의 뒷자리를 * 문자로 변경해 보자.`"
   ]
  },
  {
   "cell_type": "code",
   "execution_count": 1,
   "metadata": {},
   "outputs": [
    {
     "name": "stdout",
     "output_type": "stream",
     "text": [
      "\n",
      "park 800905-*******\n",
      "kim  700905-*******\n",
      "\n"
     ]
    }
   ],
   "source": [
    "data = \"\"\"\n",
    "park 800905-1049118\n",
    "kim  700905-1059119\n",
    "\"\"\"\n",
    "\n",
    "result = []\n",
    "for line in data.split(\"\\n\"):\n",
    "    word_result = []\n",
    "    for word in line.split(\" \"):\n",
    "        if len(word) == 14 and word[:6].isdigit() and word[7:].isdigit():\n",
    "            word = word[:6] + \"-\" + \"*******\"\n",
    "        word_result.append(word)\n",
    "    result.append(\" \".join(word_result))\n",
    "print(\"\\n\".join(result))"
   ]
  },
  {
   "cell_type": "code",
   "execution_count": 2,
   "metadata": {},
   "outputs": [
    {
     "name": "stdout",
     "output_type": "stream",
     "text": [
      "\n",
      "park 800905-*******\n",
      "kim  700905-*******\n",
      "\n"
     ]
    }
   ],
   "source": [
    "# 정규표현식 사용\n",
    "import re \n",
    "\n",
    "data = \"\"\"\n",
    "park 800905-1049118\n",
    "kim  700905-1059119\n",
    "\"\"\"\n",
    "\n",
    "pat = re.compile(\"(\\d{6})[-]\\d{7}\")\n",
    "print(pat.sub(\"\\g<1>-*******\", data))"
   ]
  },
  {
   "cell_type": "markdown",
   "metadata": {},
   "source": [
    "## 7-2. 정규 표현식 시작하기\n",
    "\n",
    "##### 정규 표현식의 기초, 메타 문자\n",
    "> 메타 문자란 원래 그 문자가 가진 뜻이 아닌 특별한 용도로 사용하는 문자를 말한다.\n",
    "```\n",
    ". ^ $ * + ? { } [ ] \\ | ( )\n",
    "```"
   ]
  },
  {
   "cell_type": "markdown",
   "metadata": {},
   "source": [
    "**문자 클래스 []**\n",
    "  \n",
    "> 문자 클래스를 만드는 메타 문자인 [] 사이에는 어떤 문자도 들어갈 수 있다. \n",
    "  \n",
    "   \n",
    "> [a-zA-Z] : 알파벳 모두  \n",
    "[0-9] : 숫자\n",
    "  \n",
    "`^` 메타 문자를 사용할 경우에는 반대라는 의미를 갖는다. (예를 들어 `[^0-9]`라는 정규 표현식은 숫자가 아닌 문자만 매치된다.)\n",
    "\n",
    "\n"
   ]
  },
  {
   "cell_type": "markdown",
   "metadata": {},
   "source": [
    "> **[자주 사용하는 문자 클래스]**  \n",
    "  \n",
    "  \n",
    "[0-9] 또는 [a-zA-Z] 등은 무척 자주 사용하는 정규 표현식이다. 이렇게 자주 사용하는 정규식은 별도의 표기법으로 표현할 수 있다.  \n",
    "\n",
    "`\\d` - 숫자와 매치, `[0-9]`와 동일한 표현식이다.  \n",
    "`\\D` - 숫자가 아닌 것과 매치, `[^0-9]`와 동일한 표현식이다.  \n",
    "`\\s` - whitespace 문자와 매치, `[ \\t\\n\\r\\f\\v]`와 동일한 표현식이다. 맨 앞의 빈 칸은 공백문자(space)를 의미한다.  \n",
    "`\\S` - whitespace 문자가 아닌 것과 매치, `[^ \\t\\n\\r\\f\\v]`와 동일한 표현식이다.  \n",
    "`\\w` - 문자+숫자(alphanumeric)와 매치, `[a-zA-Z0-9_]`와 동일한 표현식이다.  \n",
    "`\\W` - 문자+숫자(alphanumeric)가 아닌 문자와 매치, `[^a-zA-Z0-9_]`와 동일한 표현식이다.  "
   ]
  },
  {
   "cell_type": "markdown",
   "metadata": {},
   "source": [
    "**Dot(.)**  \n",
    "줄바꿈 문자인 `\\n`을 제외한 모든 문자와 매치됨을 의미한다.  \n",
    "`a.b`는 `a와 b문자 사이에 어떤 문자가 들어가도 모두 매치된다는 의미`이다.  \n",
    "`a[.]b`는 \"a.b\" (문자 `.` 그대로) 문자열과 매치되고, \"a0b\"문자열과는 매치되지 않는다."
   ]
  },
  {
   "cell_type": "markdown",
   "metadata": {},
   "source": [
    "**반복(*)**  \n",
    "바로 앞에 있는 문자가 0부터 무한대(2억개 정도)로 반복될 수 있다.  \n",
    "\n",
    "정규식|\t문자열|Match 여부|\t설명\n",
    "------|------|----------|-------\n",
    "ca*t  |\tct\t  |Yes\t    |\"a\"가 0번 반복되어 매치\n",
    "ca*t  |\tcat\t  |Yes\t    |\"a\"가 0번 이상 반복되어 매치 (1번 반복)\n",
    "ca*t  |\tcaaat |Yes\t    |\"a\"가 0번 이상 반복되어 매치 (3번 반복)"
   ]
  },
  {
   "cell_type": "markdown",
   "metadata": {},
   "source": [
    "**반복(+)**  \n",
    "`+`는 최소 1번 이상 반복될 때 사용한다.\n",
    "\n",
    "정규식|\t문자열|\tMatch 여부|\t설명\n",
    "-----|-------|-----------|-------\n",
    "ca+t | \tct   |\tNo\t     |\"a\"가 0번 반복되어 매치되지 않음\n",
    "ca+t |\tcat\t | Yes\t     |\"a\"가 1번 이상 반복되어 매치 (1번 반복)\n",
    "ca+t |\tcaaat| Yes\t     |\"a\"가 1번 이상 반복되어 매치 (3번 반복)"
   ]
  },
  {
   "cell_type": "markdown",
   "metadata": {},
   "source": [
    "**반복({m,n}, ?)**  \n",
    "{} 메타 문자를 사용해 반복 횟수 고정  \n",
    "{m,n} 은 반복 횟수를 m부터 n까지 매치하며, m 또는 n을 생략할 수도 있다.\n",
    "\n",
    "1. {m}  \n",
    "반드시 m번 반복해야할 것을 의미한다.\n",
    "2. {m,n}  \n",
    "3. `?`  \n",
    "`?`메타 문자가 의미하는 것은 `{0,1}`이다. (있어도 되고 없어도 된다.)\n"
   ]
  },
  {
   "cell_type": "markdown",
   "metadata": {},
   "source": [
    "##### 파이썬에서 정규 표현식을 지원하는 re 모듈"
   ]
  },
  {
   "cell_type": "code",
   "execution_count": 1,
   "metadata": {},
   "outputs": [],
   "source": [
    "import re\n",
    "p = re.compile('ab*') #컴파일"
   ]
  },
  {
   "cell_type": "markdown",
   "metadata": {},
   "source": [
    "##### 정규식을 이용한 문자열 검색\n",
    "컴파일된 패턴 객체를 사용해 문자열 검색을 수행한다.  \n",
    "패턴 객체는 4가지 메서드를 제공한다.\n",
    "Method  |\t목적\n",
    "--------|-------\n",
    "match()\t|문자열의 처음부터 정규식과 매치되는지 조사한다.\n",
    "search()|\t문자열 전체를 검색하여 정규식과 매치되는지 조사한다.\n",
    "findall()|\t정규식과 매치되는 모든 문자열(substring)을 리스트로 돌려준다.\n",
    "finditer()|\t정규식과 매치되는 모든 문자열(substring)을 반복 가능한 객체로 돌려준다."
   ]
  },
  {
   "cell_type": "code",
   "execution_count": 2,
   "metadata": {},
   "outputs": [],
   "source": [
    "import re\n",
    "p = re.compile('[a-z]+')"
   ]
  },
  {
   "cell_type": "code",
   "execution_count": 3,
   "metadata": {},
   "outputs": [
    {
     "name": "stdout",
     "output_type": "stream",
     "text": [
      "<re.Match object; span=(0, 6), match='python'>\n"
     ]
    }
   ],
   "source": [
    "# match\n",
    "m = p.match(\"python\")\n",
    "print(m)"
   ]
  },
  {
   "cell_type": "code",
   "execution_count": 4,
   "metadata": {},
   "outputs": [
    {
     "name": "stdout",
     "output_type": "stream",
     "text": [
      "None\n"
     ]
    }
   ],
   "source": [
    "m = p.match(\"3 python\")\n",
    "print(m)"
   ]
  },
  {
   "cell_type": "code",
   "execution_count": 5,
   "metadata": {},
   "outputs": [],
   "source": [
    "# 일반적인 활용법\n",
    "\n",
    "# p = re.compile(정규표현식)\n",
    "# m = p.match( 'string goes here' )\n",
    "# if m:\n",
    "#     print('Match found: ', m.group())\n",
    "# else:\n",
    "#     print('No match')"
   ]
  },
  {
   "cell_type": "code",
   "execution_count": 7,
   "metadata": {},
   "outputs": [
    {
     "name": "stdout",
     "output_type": "stream",
     "text": [
      "<re.Match object; span=(0, 6), match='python'>\n"
     ]
    }
   ],
   "source": [
    "# search\n",
    "m = p.search(\"python\")\n",
    "print(m)\n",
    "\n",
    "# match 메서드를 수행했을 때와 동일하게 매치"
   ]
  },
  {
   "cell_type": "code",
   "execution_count": 9,
   "metadata": {},
   "outputs": [
    {
     "name": "stdout",
     "output_type": "stream",
     "text": [
      "<re.Match object; span=(2, 8), match='python'>\n"
     ]
    }
   ],
   "source": [
    "m = p.search(\"3 python\")\n",
    "print(m)\n",
    "\n",
    "# '3' 이후 문자열과 매치"
   ]
  },
  {
   "cell_type": "code",
   "execution_count": 10,
   "metadata": {},
   "outputs": [
    {
     "name": "stdout",
     "output_type": "stream",
     "text": [
      "['life', 'is', 'too', 'short']\n"
     ]
    }
   ],
   "source": [
    "# findall\n",
    "result = p.findall(\"life is too short\")\n",
    "print(result)"
   ]
  },
  {
   "cell_type": "code",
   "execution_count": 11,
   "metadata": {},
   "outputs": [
    {
     "name": "stdout",
     "output_type": "stream",
     "text": [
      "<callable_iterator object at 0x00000191EF8A6D60>\n"
     ]
    }
   ],
   "source": [
    "# finditer\n",
    "result = p.finditer(\"life is too short\")\n",
    "print(result)"
   ]
  },
  {
   "cell_type": "code",
   "execution_count": 12,
   "metadata": {},
   "outputs": [
    {
     "name": "stdout",
     "output_type": "stream",
     "text": [
      "<re.Match object; span=(0, 4), match='life'>\n",
      "<re.Match object; span=(5, 7), match='is'>\n",
      "<re.Match object; span=(8, 11), match='too'>\n",
      "<re.Match object; span=(12, 17), match='short'>\n"
     ]
    }
   ],
   "source": [
    "for r in result: print(r)"
   ]
  },
  {
   "cell_type": "markdown",
   "metadata": {},
   "source": [
    "##### match 객체의 매서드\n",
    "method |\t목적\n",
    "------|-------\n",
    "group()|\t매치된 문자열을 돌려준다.\n",
    "start()|\t매치된 문자열의 시작 위치를 돌려준다.\n",
    "end()  |매치된 문자열의 끝 위치를 돌려준다.\n",
    "span() |\t매치된 문자열의 (시작, 끝)에 해당하는 튜플을 돌려준다."
   ]
  },
  {
   "cell_type": "code",
   "execution_count": 13,
   "metadata": {},
   "outputs": [
    {
     "data": {
      "text/plain": [
       "'python'"
      ]
     },
     "execution_count": 13,
     "metadata": {},
     "output_type": "execute_result"
    }
   ],
   "source": [
    "m = p.match(\"python\")\n",
    "m.group()"
   ]
  },
  {
   "cell_type": "code",
   "execution_count": 17,
   "metadata": {},
   "outputs": [
    {
     "data": {
      "text/plain": [
       "0"
      ]
     },
     "execution_count": 17,
     "metadata": {},
     "output_type": "execute_result"
    }
   ],
   "source": [
    "m.start()\n",
    "# 항상 0일 수 밖에 없다(문자열의 시작부터 조사하기 때문)"
   ]
  },
  {
   "cell_type": "code",
   "execution_count": 15,
   "metadata": {},
   "outputs": [
    {
     "data": {
      "text/plain": [
       "6"
      ]
     },
     "execution_count": 15,
     "metadata": {},
     "output_type": "execute_result"
    }
   ],
   "source": [
    "m.end()"
   ]
  },
  {
   "cell_type": "code",
   "execution_count": 16,
   "metadata": {},
   "outputs": [
    {
     "data": {
      "text/plain": [
       "(0, 6)"
      ]
     },
     "execution_count": 16,
     "metadata": {},
     "output_type": "execute_result"
    }
   ],
   "source": [
    "m.span()"
   ]
  },
  {
   "cell_type": "code",
   "execution_count": 18,
   "metadata": {},
   "outputs": [
    {
     "data": {
      "text/plain": [
       "2"
      ]
     },
     "execution_count": 18,
     "metadata": {},
     "output_type": "execute_result"
    }
   ],
   "source": [
    "m = p.search(\"3 python\")\n",
    "m.start()"
   ]
  },
  {
   "cell_type": "markdown",
   "metadata": {},
   "source": [
    "> **모듈 단위로 수행하기**  \n",
    "```python\n",
    ">>> p = re.compile('[a-z]+')\n",
    ">>> m = p.match(\"python\")\n",
    "```\n",
    "위 코드를 축약해 다음과 같이 사용할 수 있다.\n",
    "``` python\n",
    ">>> m = re.match('[a-z]+', \"python\")\n",
    "```\n",
    "  \n",
    "한 번 만든 패턴 객체를 여러번 사용해야할 때는 위의 방법을 사용하는 것이 편하다.\n"
   ]
  },
  {
   "cell_type": "markdown",
   "metadata": {},
   "source": [
    "##### 컴파일 옵션\n",
    "* DOTALL(S) - `.` 이 줄바꿈 문자를 포함하여 모든 문자와 매치할 수 있도록 한다.\n",
    "* IGNORECASE(I) - 대소문자에 관계없이 매치할 수 있도록 한다.\n",
    "* MULTILINE(M) - 여러줄과 매치할 수 있도록 한다. (`^`, `$` 메타문자의 사용과 관계가 있는 옵션이다)\n",
    "* VERBOSE(X) - verbose 모드를 사용할 수 있도록 한다. (정규식을 보기 편하게 만들수 있고 주석등을 사용할 수 있게된다.)"
   ]
  },
  {
   "cell_type": "markdown",
   "metadata": {},
   "source": [
    "**DOTALL, S**  \n",
    "`\\n`문자도 포함하여 매치하고 싶을 때, `re.DOTALL` 또는 `re.S`옵션을 사용해 정규식을 컴파일한다."
   ]
  },
  {
   "cell_type": "code",
   "execution_count": 19,
   "metadata": {},
   "outputs": [
    {
     "name": "stdout",
     "output_type": "stream",
     "text": [
      "None\n"
     ]
    }
   ],
   "source": [
    "import re\n",
    "p = re.compile('a.b')\n",
    "m = p.match('a\\nb')\n",
    "print(m)"
   ]
  },
  {
   "cell_type": "code",
   "execution_count": 21,
   "metadata": {},
   "outputs": [
    {
     "name": "stdout",
     "output_type": "stream",
     "text": [
      "<re.Match object; span=(0, 3), match='a\\nb'>\n"
     ]
    }
   ],
   "source": [
    "p = re.compile('a.b', re.DOTALL)\n",
    "m = p.match('a\\nb')\n",
    "print(m)\n",
    "\n",
    "#여러 줄로 이루어진 문자열에서 \\n에 상관없이 검색할 때 많이 사용한다."
   ]
  },
  {
   "cell_type": "markdown",
   "metadata": {},
   "source": [
    "**IGNORECASE, I**  \n",
    "대소문자 구별없이 매치를 수행할 때 사용한다."
   ]
  },
  {
   "cell_type": "code",
   "execution_count": 22,
   "metadata": {},
   "outputs": [
    {
     "data": {
      "text/plain": [
       "<re.Match object; span=(0, 6), match='python'>"
      ]
     },
     "execution_count": 22,
     "metadata": {},
     "output_type": "execute_result"
    }
   ],
   "source": [
    "p = re.compile('[a-z]+', re.I) # 소문자만을 의미하는 정규식\n",
    "p.match(\"python\")"
   ]
  },
  {
   "cell_type": "code",
   "execution_count": 23,
   "metadata": {},
   "outputs": [
    {
     "data": {
      "text/plain": [
       "<re.Match object; span=(0, 6), match='PYTHON'>"
      ]
     },
     "execution_count": 23,
     "metadata": {},
     "output_type": "execute_result"
    }
   ],
   "source": [
    "p.match(\"PYTHON\")"
   ]
  },
  {
   "cell_type": "markdown",
   "metadata": {},
   "source": [
    "**MULTILINE, M**  \n",
    "`^` : 문자열의 처음을 의미  \n",
    "`$` : 문자열의 마지막을 의미"
   ]
  },
  {
   "cell_type": "code",
   "execution_count": 25,
   "metadata": {},
   "outputs": [
    {
     "name": "stdout",
     "output_type": "stream",
     "text": [
      "['python one']\n"
     ]
    }
   ],
   "source": [
    "import re\n",
    "p = re.compile(\"^python\\s\\w+\") \n",
    "# 'python'이라는 문자열로 시작하고, 그 뒤에 whitespace, 그 뒤에 단어가 와야한다는 의미\n",
    "\n",
    "\n",
    "data = \"\"\"python one\n",
    "life is too short\n",
    "python two\n",
    "you need python\n",
    "python three\"\"\"\n",
    "\n",
    "print(p.findall(data))\n",
    "\n",
    "# ^ 메타문자에 의해 python 문자열을 사용한 첫 번째 줄만 매치된다."
   ]
  },
  {
   "cell_type": "code",
   "execution_count": 26,
   "metadata": {},
   "outputs": [
    {
     "name": "stdout",
     "output_type": "stream",
     "text": [
      "['python one', 'python two', 'python three']\n"
     ]
    }
   ],
   "source": [
    "import re\n",
    "p = re.compile(\"^python\\s\\w+\", re.MULTILINE) #각 라인의 처음으로 인식\n",
    "\n",
    "data = \"\"\"python one\n",
    "life is too short\n",
    "python two\n",
    "you need python\n",
    "python three\"\"\"\n",
    "\n",
    "print(p.findall(data))"
   ]
  },
  {
   "cell_type": "markdown",
   "metadata": {},
   "source": [
    "**VERBOSE, X**  \n",
    "정규식을 주석 또는 줄 단위로 구분"
   ]
  },
  {
   "cell_type": "code",
   "execution_count": 27,
   "metadata": {},
   "outputs": [],
   "source": [
    "charref = re.compile(r'&[#](0[0-7]+|[0-9]+|x[0-9a-fA-F]+);')"
   ]
  },
  {
   "cell_type": "code",
   "execution_count": 28,
   "metadata": {},
   "outputs": [],
   "source": [
    "charref = re.compile(r\"\"\"\n",
    " &[#]                # Start of a numeric entity reference\n",
    " (\n",
    "     0[0-7]+         # Octal form\n",
    "   | [0-9]+          # Decimal form\n",
    "   | x[0-9a-fA-F]+   # Hexadecimal form\n",
    " )\n",
    " ;                   # Trailing semicolon\n",
    "\"\"\", re.VERBOSE)\n",
    "# 문자열에 사용된 whitespace는 컴파일할 때 제거된다.\n",
    "# 또한 줄단위로 주석문을 작성할 수 있다."
   ]
  },
  {
   "cell_type": "markdown",
   "metadata": {},
   "source": [
    "**백슬래시 문제**  \n",
    "`\\section`문자열을 찾기 위한 정규식을 만들 때,  \n",
    "\\s 가 whitespace로 해석되기 때문에 `[ \\t\\n\\r\\f\\v]ection` 이와 같은 의미이다.   \n",
    "의도한대로 매치하고 싶다면 `\\\\section`과 같이 변경해야한다.(이스케이프 처리)"
   ]
  },
  {
   "cell_type": "code",
   "execution_count": 30,
   "metadata": {},
   "outputs": [],
   "source": [
    "p = re.compile('\\\\section')\n",
    "# 파이썬 정규식 엔진에서, \n",
    "# 문자열 리터럴 규칙에 따라 \\\\이 \\로 변경되는 문제 발생"
   ]
  },
  {
   "cell_type": "code",
   "execution_count": 31,
   "metadata": {},
   "outputs": [],
   "source": [
    "p = re.compile('\\\\\\\\section')\n",
    "p = re.compile(r'\\\\section') #raw string규칙"
   ]
  },
  {
   "cell_type": "markdown",
   "metadata": {},
   "source": [
    "## 7-3. 강력한 정규 표현식의 세계로\n",
    "##### 메타문자\n",
    "앞에서 배운 메타문자들은 매치가 진행될 때 현재 매치되고 있는 문자열의 위치가 변경(소비)된다.  \n",
    "이와 달리 문자열을 소비시키지 않는(소비가 없는)메타 문자가 있다."
   ]
  },
  {
   "cell_type": "code",
   "execution_count": 32,
   "metadata": {},
   "outputs": [
    {
     "name": "stdout",
     "output_type": "stream",
     "text": [
      "<re.Match object; span=(0, 4), match='Crow'>\n"
     ]
    }
   ],
   "source": [
    "# | : '또는(or)' 이라는 의미\n",
    "\n",
    "p = re.compile('Crow|Servo')\n",
    "m = p.match('CrowHello')\n",
    "print(m)"
   ]
  },
  {
   "cell_type": "code",
   "execution_count": 33,
   "metadata": {},
   "outputs": [
    {
     "name": "stdout",
     "output_type": "stream",
     "text": [
      "<re.Match object; span=(0, 4), match='Life'>\n",
      "None\n"
     ]
    }
   ],
   "source": [
    "# ^ : 문자열의 맨 처음과 일치함을 의미\n",
    "\n",
    "print(re.search('^Life', \"Life is too short\"))\n",
    "print(re.search('^Life', \"My Life\"))"
   ]
  },
  {
   "cell_type": "code",
   "execution_count": 34,
   "metadata": {},
   "outputs": [
    {
     "name": "stdout",
     "output_type": "stream",
     "text": [
      "<re.Match object; span=(12, 17), match='short'>\n",
      "None\n"
     ]
    }
   ],
   "source": [
    "# $ : 문자열의 끝과 매치함을 의미\n",
    "\n",
    "print(re.search('short$', \"Life is too short\"))\n",
    "print(re.search('short$', 'Life is too short, you need python'))\n",
    "\n",
    "# ^ 또는 $ 문자를 메타 문자가 아닌 문자 그 자체로 매치하고 싶은 경우에는 \n",
    "# \\^, \\$ 로 사용하면 된다."
   ]
  },
  {
   "cell_type": "code",
   "execution_count": 35,
   "metadata": {},
   "outputs": [],
   "source": [
    "# \\A : 문자열의 처음과 매치됨을 의미\n",
    "# (re.MULTILINE 옵션을 사용할 경우 줄과 상관없이 전체 문자열의 처음하고만 매치된다.)\n",
    "\n",
    "# \\Z : 문자열의 끝과 매치\n",
    "# (re.MULTILINE 옵션을 사용할 경우 줄과 상관없이 전체 문자열의 끝과 매치된다.)"
   ]
  },
  {
   "cell_type": "code",
   "execution_count": 37,
   "metadata": {},
   "outputs": [
    {
     "name": "stdout",
     "output_type": "stream",
     "text": [
      "<re.Match object; span=(3, 8), match='class'>\n",
      "None\n",
      "None\n"
     ]
    }
   ],
   "source": [
    "# \\b : 단어 구분자이다.\n",
    "\n",
    "p = re.compile(r'\\bclass\\b')\n",
    "print(p.search('no class at all'))\n",
    "print(p.search('the declassified algorithm'))\n",
    "print(p.search('one subclass is'))"
   ]
  },
  {
   "cell_type": "code",
   "execution_count": 38,
   "metadata": {},
   "outputs": [
    {
     "name": "stdout",
     "output_type": "stream",
     "text": [
      "None\n",
      "<re.Match object; span=(6, 11), match='class'>\n",
      "None\n"
     ]
    }
   ],
   "source": [
    "# \\B : \\b 메타 문자와 반대의 경우, whitespace로 구분된 단어가 아닌경우에만 매치된다.\n",
    "\n",
    "p = re.compile(r'\\Bclass\\B')\n",
    "print(p.search('no class at all'))\n",
    "print(p.search('the declassified algorithm'))\n",
    "print(p.search('one subclass is'))"
   ]
  },
  {
   "cell_type": "markdown",
   "metadata": {},
   "source": [
    "##### 그루핑\n",
    "\n",
    "그룹을 만들어 주는 메타문자는 `()`이다."
   ]
  },
  {
   "cell_type": "code",
   "execution_count": 39,
   "metadata": {},
   "outputs": [
    {
     "name": "stdout",
     "output_type": "stream",
     "text": [
      "<re.Match object; span=(0, 9), match='ABCABCABC'>\n",
      "ABCABCABC\n"
     ]
    }
   ],
   "source": [
    "p = re.compile('(ABC)+')\n",
    "m = p.search('ABCABCABC OK?')\n",
    "print(m)\n",
    "print(m.group())"
   ]
  },
  {
   "cell_type": "code",
   "execution_count": 43,
   "metadata": {},
   "outputs": [
    {
     "name": "stdout",
     "output_type": "stream",
     "text": [
      "park\n",
      "010-1234-1234\n",
      "010\n"
     ]
    }
   ],
   "source": [
    "# p = re.compile(r\"\\w+\\s+\\d+[-]\\d+[-]\\d+\")\n",
    "# m = p.search(\"park 010-1234-1234\")\n",
    "p = re.compile(r\"(\\w+)\\s+\\d+[-]\\d+[-]\\d+\")\n",
    "m = p.search(\"park 010-1234-1234\")\n",
    "print(m.group(1)) #이름\n",
    "p = re.compile(r\"(\\w+)\\s+(\\d+[-]\\d+[-]\\d+)\")\n",
    "m = p.search(\"park 010-1234-1234\")\n",
    "print(m.group(2)) #전화번호\n",
    "p = re.compile(r\"(\\w+)\\s+((\\d+)[-]\\d+[-]\\d+)\")\n",
    "m = p.search(\"park 010-1234-1234\")\n",
    "print(m.group(3)) #국번"
   ]
  },
  {
   "cell_type": "markdown",
   "metadata": {},
   "source": [
    "> 그룹이 중첩되어 있는 경우는 바깥쪽부터 시작해 안쪽으로 들어갈수록 인덱스가 증가한다.\n",
    "  \n",
    "     \n",
    "group(인덱스)|\t설명\n",
    "-------------|-------------\n",
    "group(0)\t |매치된 전체 문자열\n",
    "group(1)\t |첫 번째 그룹에 해당되는 문자열\n",
    "group(2)\t |두 번째 그룹에 해당되는 문자열\n",
    "group(n)\t |n 번째 그룹에 해당되는 문자열"
   ]
  },
  {
   "cell_type": "markdown",
   "metadata": {},
   "source": [
    "**그루핑된 문자열 재참조하기**\n"
   ]
  },
  {
   "cell_type": "code",
   "execution_count": 44,
   "metadata": {},
   "outputs": [
    {
     "data": {
      "text/plain": [
       "'the the'"
      ]
     },
     "execution_count": 44,
     "metadata": {},
     "output_type": "execute_result"
    }
   ],
   "source": [
    "p = re.compile(r'(\\b\\w+)\\s+\\1') \n",
    "# 2개의 동일한 단어를 연속적으로 사용해야만 매치\n",
    "# \\1은 정규식의 그룹 중 첫 번째 그룹을 의미\n",
    "p.search('Paris in the the spring').group()"
   ]
  },
  {
   "cell_type": "markdown",
   "metadata": {},
   "source": [
    "**그루핑된 문자열에 이름 붙이기**   \n",
    "\n",
    "\n",
    "```(?P<name>\\w+)\\s+((\\d+)[-]\\d+[-]\\d+)```  \n",
    "```(?P<그룹명>...)``` 과 같은 확장 구문을 사용해야한다.  \n",
    "재참조할 때에는 ```(?P=그룹이름)```이라는 확장 구문을 사용한다.\n"
   ]
  },
  {
   "cell_type": "code",
   "execution_count": 45,
   "metadata": {},
   "outputs": [
    {
     "name": "stdout",
     "output_type": "stream",
     "text": [
      "park\n"
     ]
    }
   ],
   "source": [
    "p = re.compile(r\"(?P<name>\\w+)\\s+((\\d+)[-]\\d+[-]\\d+)\")\n",
    "m = p.search(\"park 010-1234-1234\")\n",
    "print(m.group(\"name\"))"
   ]
  },
  {
   "cell_type": "code",
   "execution_count": 46,
   "metadata": {},
   "outputs": [
    {
     "data": {
      "text/plain": [
       "'the the'"
      ]
     },
     "execution_count": 46,
     "metadata": {},
     "output_type": "execute_result"
    }
   ],
   "source": [
    "p = re.compile(r'(?P<word>\\b\\w+)\\s+(?P=word)') \n",
    "#정규식 안에서 재참조 하는 것도 가능\n",
    "p.search('Paris in the the spring').group()"
   ]
  },
  {
   "cell_type": "markdown",
   "metadata": {},
   "source": [
    "##### 전방 탐색\n",
    "* 긍정형 전방 탐색((?=...)) - ... 에 해당되는 정규식과 매치되어야 하며 조건이 통과되어도 문자열이 소비되지 않는다.\n",
    "* 부정형 전방 탐색((?!...)) - ...에 해당되는 정규식과 매치되지 않아야 하며 조건이 통과되어도 문자열이 소비되지 않는다."
   ]
  },
  {
   "cell_type": "code",
   "execution_count": 47,
   "metadata": {},
   "outputs": [
    {
     "name": "stdout",
     "output_type": "stream",
     "text": [
      "http:\n"
     ]
    }
   ],
   "source": [
    "p = re.compile(\".+:\")\n",
    "m = p.search(\"http://google.com\")\n",
    "print(m.group())"
   ]
  },
  {
   "cell_type": "markdown",
   "metadata": {},
   "source": [
    "**긍정형 전방 탐색**  \n"
   ]
  },
  {
   "cell_type": "code",
   "execution_count": 48,
   "metadata": {},
   "outputs": [
    {
     "name": "stdout",
     "output_type": "stream",
     "text": [
      "http\n"
     ]
    }
   ],
   "source": [
    "p = re.compile(\".+(?=:)\")\n",
    "# : 에 해당하는 문자열이 검색에는 포함되지만 검색결과에는 제외되어 :제거 후 돌려준다.\n",
    "m = p.search(\"http://google.com\")\n",
    "print(m.group())"
   ]
  },
  {
   "cell_type": "markdown",
   "metadata": {},
   "source": [
    "**부정형 전방 탐색**\n",
    "`.*[.].*$` : 파일이름 + . + 확장자  \n",
    "확장자가 bat인 파일은 제외해야 한다 는 조건 추가\n",
    "`.*[.]([^b].?.?|.[^a]?.?|..?[^t]?)$`\n",
    "여기서 exe 파일도 제외하라는 조건이 추가\n",
    " \n",
    "==> `.*[.](?!bat$).*$`: 확장자가 bat가 아닌 경우에만 통과    \n",
    "`.*[.](?!bat$|exe$).*$`"
   ]
  },
  {
   "cell_type": "code",
   "execution_count": null,
   "metadata": {},
   "outputs": [],
   "source": []
  }
 ],
 "metadata": {
  "interpreter": {
   "hash": "bde2cb37ed552133069133180f69a05a0b37739abedd10b32dad52c475ef7da5"
  },
  "kernelspec": {
   "display_name": "Python 3.9.1 64-bit",
   "language": "python",
   "name": "python3"
  },
  "language_info": {
   "codemirror_mode": {
    "name": "ipython",
    "version": 3
   },
   "file_extension": ".py",
   "mimetype": "text/x-python",
   "name": "python",
   "nbconvert_exporter": "python",
   "pygments_lexer": "ipython3",
   "version": "3.9.1"
  },
  "orig_nbformat": 4
 },
 "nbformat": 4,
 "nbformat_minor": 2
}
