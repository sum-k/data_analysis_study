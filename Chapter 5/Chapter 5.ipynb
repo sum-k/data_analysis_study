{
 "cells": [
  {
   "cell_type": "markdown",
   "metadata": {},
   "source": [
    "# Chapter 5\n",
    "## 5-1. 클래스 \n",
    "\n",
    "##### 클래스를 사용하는 이유는 무엇인가?\n",
    "여러 번 같은 프로그램을 독립적으로 수행하고 싶을 때\n"
   ]
  },
  {
   "cell_type": "code",
   "execution_count": 1,
   "metadata": {},
   "outputs": [
    {
     "name": "stdout",
     "output_type": "stream",
     "text": [
      "3\n",
      "7\n"
     ]
    }
   ],
   "source": [
    "#계산기 - 더하기\n",
    "result = 0\n",
    "\n",
    "def add(num):\n",
    "    global result\n",
    "    result += num\n",
    "    return result\n",
    "\n",
    "print(add(3))\n",
    "print(add(4))"
   ]
  },
  {
   "cell_type": "code",
   "execution_count": 3,
   "metadata": {},
   "outputs": [
    {
     "name": "stdout",
     "output_type": "stream",
     "text": [
      "3\n",
      "7\n",
      "3\n",
      "10\n"
     ]
    }
   ],
   "source": [
    "#계산기 2개가 필요할 때\n",
    "result1 = 0\n",
    "result2 = 0\n",
    "\n",
    "def add1(num):\n",
    "    global result1\n",
    "    result1 += num\n",
    "    return result1\n",
    "\n",
    "def add2(num):\n",
    "    global result2\n",
    "    result2 += num\n",
    "    return result2\n",
    "\n",
    "print(add1(3))\n",
    "print(add1(4))\n",
    "print(add2(3))\n",
    "print(add2(7))"
   ]
  },
  {
   "cell_type": "code",
   "execution_count": 4,
   "metadata": {},
   "outputs": [
    {
     "name": "stdout",
     "output_type": "stream",
     "text": [
      "3\n",
      "7\n",
      "10\n",
      "17\n"
     ]
    }
   ],
   "source": [
    "# 클래스를 사용\n",
    "\n",
    "class Calculator:\n",
    "    def __init__(self):\n",
    "        self.result = 0\n",
    "    \n",
    "    def add(self, num):\n",
    "        self.result += num\n",
    "        return self.result\n",
    "\n",
    "cal1 = Calculator()\n",
    "cal2 = Calculator()\n",
    "\n",
    "print(cal1.add(3))\n",
    "print(cal1.add(4))\n",
    "print(cal1.add(3))\n",
    "print(cal1.add(7))"
   ]
  },
  {
   "cell_type": "markdown",
   "metadata": {},
   "source": [
    "Calculator 클래스로 만든 별개의 계산기(객체)가 각각의 역할을 수행하며, 각각의 계산기의 결괏값은 독립적인 값을 유지한다."
   ]
  },
  {
   "cell_type": "markdown",
   "metadata": {},
   "source": [
    "##### 클래스와 객체\n",
    "\n",
    "* 과자 틀 -> 클래스 (class)\n",
    "* 과자 틀에 의해 만들어진 과자 -> 객체(object)  \n",
    "  \n",
    "클래스는 똑같은 무엇인가를 계속해서 만들어 낼 수 있는 설계 도면이고, 객체는 클래스로 만든 피조물을 뜻한다.  \n",
    "  \n",
    "클래스로 만든 객체는 객체마다 고유한 성격을 가진다. 즉, 서로 전혀 영향을 주지 않는다."
   ]
  },
  {
   "cell_type": "code",
   "execution_count": 5,
   "metadata": {},
   "outputs": [],
   "source": [
    "class Cookie:\n",
    "    pass\n",
    "# 기능이 존재하지 않음"
   ]
  },
  {
   "cell_type": "code",
   "execution_count": 6,
   "metadata": {},
   "outputs": [],
   "source": [
    "a = Cookie()\n",
    "b = Cookie()\n",
    "# 무수히 많은 객체를 만들어낼 수 있다."
   ]
  },
  {
   "cell_type": "markdown",
   "metadata": {},
   "source": [
    "> **객체와 인스턴스의 차이**  \n",
    ">    \n",
    "> 클래스로 만든 객체를 인스턴스라고도 한다.  \n",
    "> a = Cookie() 이렇게 만든 *a는 객체*이고, *a 객체는 Cookie의 인스턴스*이다.  \n",
    "> 즉, 인스턴스라는 말은 특정 객체가 어떤 클래스의 객체인지를 관계 위주로 설명할 때 사용한다."
   ]
  },
  {
   "cell_type": "markdown",
   "metadata": {},
   "source": [
    "##### 사칙연산 클래스 만들기\n",
    "1. 클래스를 어떻게 만들지 먼저 구상하기\n",
    "2. 클래스 구조 만들기"
   ]
  },
  {
   "cell_type": "code",
   "execution_count": 8,
   "metadata": {},
   "outputs": [
    {
     "data": {
      "text/plain": [
       "__main__.FourCal"
      ]
     },
     "execution_count": 8,
     "metadata": {},
     "output_type": "execute_result"
    }
   ],
   "source": [
    "class FourCal:\n",
    "    pass\n",
    "\n",
    "# FourCal 클래스는 아무 변수나 함수도 포함하지 않지만 우리가 원하는 객체 a를 만들 수 있는 기능은 갖고 있다.\n",
    "# pass는 아무것도 수행하지 않는 문법, 임시로 코드를 작성할 때 주로 사용한다.\n",
    "\n",
    "a = FourCal()\n",
    "type(a)"
   ]
  },
  {
   "cell_type": "markdown",
   "metadata": {},
   "source": [
    "3. 객체에 숫자 지정할 수 있게 만들기\n",
    "```a.setdata(4, 2)```"
   ]
  },
  {
   "cell_type": "code",
   "execution_count": 9,
   "metadata": {},
   "outputs": [],
   "source": [
    "class FourCal:\n",
    "    def setdata(self, first, second): #메서드의 매개변수\n",
    "        self.first = first #메서드의 수행문 \n",
    "        self.second = second #메서드의 수행문\n",
    "\n",
    "# 클래스 안에 구현된 함수는 메서드(method)라고 부른다. "
   ]
  },
  {
   "cell_type": "code",
   "execution_count": 12,
   "metadata": {},
   "outputs": [
    {
     "name": "stdout",
     "output_type": "stream",
     "text": [
      "4\n",
      "2\n"
     ]
    }
   ],
   "source": [
    "a = FourCal()\n",
    "a.setdata(4, 2)\n",
    "print(a.first)\n",
    "print(a.second)"
   ]
  },
  {
   "cell_type": "markdown",
   "metadata": {},
   "source": [
    "파이썬 메서드의 첫 번째 매개변수 이름은 관례적으로 self를 사용한다. 객체를 호출할 때 호출한 객체 자신이 전달되기 때문!\n",
    "\n",
    "> 메서드의 첫 번째 매개변수 self를 명시적으로 구현하는 것은 파이썬만의 독특한 특징이다."
   ]
  },
  {
   "cell_type": "markdown",
   "metadata": {},
   "source": [
    "> **메서드의 또 다른 호출 방법**  \n",
    ">  \n",
    "> ``` python\n",
    "> a = FourCal()\n",
    "> FourCal.setdata(a, 4, 2)\n",
    "> ```\n",
    "> 위와 같이 ```클래스 이름.메서드``` 형태로 호출 할 때는 객체 a를 첫 번째 매개변수 self에 꼭 전달해 주어야 한다."
   ]
  },
  {
   "cell_type": "code",
   "execution_count": 15,
   "metadata": {},
   "outputs": [
    {
     "name": "stdout",
     "output_type": "stream",
     "text": [
      "4\n",
      "3\n"
     ]
    }
   ],
   "source": [
    "a.setdata(4, 2)\n",
    "print(a.first)\n",
    "b = FourCal()\n",
    "b.setdata(3, 7)\n",
    "print(b.first)\n",
    "# 클래스로 만든 객체의 객체변수는 다른 객체의 객체 변수에 상관없이 독립적인 값을 유지한다."
   ]
  },
  {
   "cell_type": "markdown",
   "metadata": {},
   "source": [
    "4. 더하기 기능 만들기"
   ]
  },
  {
   "cell_type": "code",
   "execution_count": 17,
   "metadata": {},
   "outputs": [],
   "source": [
    "class FourCal:\n",
    "    def setdata(self, first, second):\n",
    "        self.first = first\n",
    "        self.second = second\n",
    "    def add(self):\n",
    "        result = self.first + self.second\n",
    "        return result"
   ]
  },
  {
   "cell_type": "code",
   "execution_count": 18,
   "metadata": {},
   "outputs": [
    {
     "name": "stdout",
     "output_type": "stream",
     "text": [
      "6\n"
     ]
    }
   ],
   "source": [
    "a = FourCal()\n",
    "a.setdata(4, 2)\n",
    "print(a.add())"
   ]
  },
  {
   "cell_type": "markdown",
   "metadata": {},
   "source": [
    "5. 곱하기, 빼기, 나누기 기능 만들기"
   ]
  },
  {
   "cell_type": "code",
   "execution_count": 19,
   "metadata": {},
   "outputs": [],
   "source": [
    "class FourCal:\n",
    "    def setdata(self, first, second):\n",
    "        self.first = first\n",
    "        self.second = second\n",
    "    def add(self):\n",
    "        result = self.first + self.second\n",
    "        return result\n",
    "    def mul(self):\n",
    "        result = self.first * self.second\n",
    "        return result\n",
    "    def sub(self):\n",
    "        result = self.first - self.second\n",
    "        return result\n",
    "    def div(self):\n",
    "        result = self.first / self.second\n",
    "        return result"
   ]
  },
  {
   "cell_type": "code",
   "execution_count": 20,
   "metadata": {},
   "outputs": [
    {
     "data": {
      "text/plain": [
       "24"
      ]
     },
     "execution_count": 20,
     "metadata": {},
     "output_type": "execute_result"
    }
   ],
   "source": [
    "a = FourCal()\n",
    "b = FourCal()\n",
    "a.setdata(4, 2)\n",
    "b.setdata(3, 8)\n",
    "# a.add()\n",
    "# b.add()\n",
    "# a.mul()\n",
    "# b.mul()"
   ]
  },
  {
   "cell_type": "markdown",
   "metadata": {},
   "source": [
    "##### 생성자(Constructor)\n",
    "\n",
    "setdata 메서드를 수행하지 않고 add메서드를 수행하면 오류가 발생한다. 수행해야 객체변수가 생성되기 때문이다.  \n",
    "이렇게 객체에 초깃값을 설정해야 할 필요가 있을 때는 생성자를 구현하는 것이 안전한방법이다.  \n",
    "  \n",
    "생성자란 **객체가 생성될 때 자동으로 호출**되는 메서드를 의미한다.  \n",
    "파이썬 메서드 이름으로 ```__init__```를 사용하면 이 메서드는 생성자가 된다."
   ]
  },
  {
   "cell_type": "code",
   "execution_count": 21,
   "metadata": {},
   "outputs": [],
   "source": [
    "class FourCal:\n",
    "    def __init__(self, first, second):\n",
    "        self.first = first\n",
    "        self.second = second\n",
    "    def setdata(self, first, second):\n",
    "        self.first = first\n",
    "        self.second = second\n",
    "    def add(self):\n",
    "        result = self.first + self.second\n",
    "        return result\n",
    "    def mul(self):\n",
    "        result = self.first * self.second\n",
    "        return result\n",
    "    def sub(self):\n",
    "        result = self.first - self.second\n",
    "        return result\n",
    "    def div(self):\n",
    "        result = self.first / self.second\n",
    "        return result"
   ]
  },
  {
   "cell_type": "code",
   "execution_count": 22,
   "metadata": {},
   "outputs": [
    {
     "ename": "TypeError",
     "evalue": "__init__() missing 2 required positional arguments: 'first' and 'second'",
     "output_type": "error",
     "traceback": [
      "\u001b[1;31m---------------------------------------------------------------------------\u001b[0m",
      "\u001b[1;31mTypeError\u001b[0m                                 Traceback (most recent call last)",
      "\u001b[1;32mc:\\Users\\sumin\\OneDrive\\바탕 화면\\python_test\\Chapter 5\\Chapter 5.ipynb Cell 26'\u001b[0m in \u001b[0;36m<module>\u001b[1;34m\u001b[0m\n\u001b[1;32m----> <a href='vscode-notebook-cell:/c%3A/Users/sumin/OneDrive/%EB%B0%94%ED%83%95%20%ED%99%94%EB%A9%B4/python_test/Chapter%205/Chapter%205.ipynb#ch0000029?line=0'>1</a>\u001b[0m a \u001b[39m=\u001b[39m FourCal()\n",
      "\u001b[1;31mTypeError\u001b[0m: __init__() missing 2 required positional arguments: 'first' and 'second'"
     ]
    }
   ],
   "source": [
    "a = FourCal()\n",
    "#오류 발생, 생성자의 매개변수 first와 second에 해당하는 값이 전달되지 않았기 때문"
   ]
  },
  {
   "cell_type": "code",
   "execution_count": 24,
   "metadata": {},
   "outputs": [
    {
     "name": "stdout",
     "output_type": "stream",
     "text": [
      "4\n",
      "2\n"
     ]
    }
   ],
   "source": [
    "a = FourCal(4, 2)\n",
    "print(a.first)\n",
    "print(a.second)"
   ]
  },
  {
   "cell_type": "markdown",
   "metadata": {},
   "source": [
    "\n",
    "|매개변수 |\t값       |\n",
    "|--------|-----------|\n",
    "|self\t|생성되는 객체|\n",
    "|first\t|4           |\n",
    "|second\t|2          |"
   ]
  },
  {
   "cell_type": "markdown",
   "metadata": {},
   "source": [
    "##### 클래스의 상속\n",
    "어떤 클래스를 만들 때, 다른 클래스의 기능을 물려받을 수 있게 만드는 것\n",
    "\n",
    "> ```class 클래스 이름(상속할 클래스 이름)```\n",
    "  \n",
    "* 왜 상속을 해야할까?  \n",
    "보통 상속은 기존 클래스를 변경하지 않고 기능을 추가하거나 기존 기능을 변경하려고 할 때 사용한다.  \n",
    "기존 클래스가 라이브러리 형태로 제공되거나 수정이 허용되지 않는 상황이라면 상속을 사용해야 한다."
   ]
  },
  {
   "cell_type": "code",
   "execution_count": 26,
   "metadata": {},
   "outputs": [],
   "source": [
    "class MoreFourCal(FourCal):\n",
    "    pass"
   ]
  },
  {
   "cell_type": "code",
   "execution_count": 27,
   "metadata": {},
   "outputs": [
    {
     "name": "stdout",
     "output_type": "stream",
     "text": [
      "6\n",
      "8\n",
      "2\n",
      "2.0\n"
     ]
    }
   ],
   "source": [
    "a = MoreFourCal(4, 2)\n",
    "print(a.add())\n",
    "print(a.mul())\n",
    "print(a.sub())\n",
    "print(a.div())\n",
    "\n",
    "# 상속받은 FourCal 클래스의 기능을 모두 사용할 수 있다."
   ]
  },
  {
   "cell_type": "code",
   "execution_count": 29,
   "metadata": {},
   "outputs": [
    {
     "data": {
      "text/plain": [
       "16"
      ]
     },
     "execution_count": 29,
     "metadata": {},
     "output_type": "execute_result"
    }
   ],
   "source": [
    "class MoreFourCal(FourCal):\n",
    "    def pow(self):\n",
    "        result = self.first ** self.second\n",
    "        return result\n",
    "\n",
    "a = MoreFourCal(4, 2)\n",
    "a.pow()"
   ]
  },
  {
   "cell_type": "markdown",
   "metadata": {},
   "source": [
    "##### 메서드 오버라이딩\n",
    "\n",
    "``` python\n",
    ">>> a = FourCal(4, 0)\n",
    ">>> a.div()\n",
    "```\n",
    "위 코드를 작성하면 ZeroDivisionError 오류가 발생한다.  \n",
    "0으로 나눌 때 오류가 아닌 0을 돌려주도록 만들고 싶다면?"
   ]
  },
  {
   "cell_type": "code",
   "execution_count": 30,
   "metadata": {},
   "outputs": [],
   "source": [
    "class SafeFourCal(FourCal):\n",
    "    def div(self):\n",
    "        if self.second == 0:\n",
    "            return 0\n",
    "        else:\n",
    "            return self.first / self.second"
   ]
  },
  {
   "cell_type": "markdown",
   "metadata": {},
   "source": [
    "부모 클래스에 있는 메서들를 동일한 이름으로 다시 만드는 것을 메서드 오버라이딩(덮어쓰기)이라고 한다.  \n",
    "오버라이딩한 메서드가 호출된다."
   ]
  },
  {
   "cell_type": "code",
   "execution_count": 31,
   "metadata": {},
   "outputs": [
    {
     "data": {
      "text/plain": [
       "0"
      ]
     },
     "execution_count": 31,
     "metadata": {},
     "output_type": "execute_result"
    }
   ],
   "source": [
    "a = SafeFourCal(4, 0)\n",
    "a.div()"
   ]
  },
  {
   "cell_type": "markdown",
   "metadata": {},
   "source": [
    "##### 클래스 변수\n",
    "\n",
    "```클래스이름. 클래스 변수``` 로 사용할 수 있다."
   ]
  },
  {
   "cell_type": "code",
   "execution_count": 32,
   "metadata": {},
   "outputs": [
    {
     "name": "stdout",
     "output_type": "stream",
     "text": [
      "김\n"
     ]
    }
   ],
   "source": [
    "class Family:\n",
    "    lastname = \"김\"\n",
    "\n",
    "print(Family.lastname)"
   ]
  },
  {
   "cell_type": "code",
   "execution_count": 33,
   "metadata": {},
   "outputs": [
    {
     "name": "stdout",
     "output_type": "stream",
     "text": [
      "박\n"
     ]
    }
   ],
   "source": [
    "a = Family()\n",
    "Family.lastname = \"박\"\n",
    "print(a.lastname)\n",
    "\n",
    "# 클래스 변수는 클래스로 만든 모든 객체에 공유된다."
   ]
  },
  {
   "cell_type": "markdown",
   "metadata": {},
   "source": [
    "## 5-2. 모듈\n",
    "\n",
    "모듈이란 함수나 변수 또는 클래스를 모아 놓은 파일이다. 이는 다른 파이썬 프로그램에서 불러와 사용할 수 있게끔 만든 파이썬 파일이라고도 할 수 있다. "
   ]
  },
  {
   "cell_type": "markdown",
   "metadata": {},
   "source": [
    "####"
   ]
  },
  {
   "cell_type": "markdown",
   "metadata": {},
   "source": [
    "##### 모듈 만들기\n",
    "> 파이썬 확장자 ```.py``` 로 만든 파이썬 파일은 모두 모듈이다. "
   ]
  },
  {
   "cell_type": "code",
   "execution_count": 1,
   "metadata": {},
   "outputs": [],
   "source": [
    "# mod1.py\n",
    "def add(a, b):\n",
    "    return a + b\n",
    "\n",
    "def sub(a, b):\n",
    "    return a - b\n",
    "\n",
    "# 이 파일을 C:\\doit 디렉터리에 저장하자. \n",
    "# 이 mod1.py 파일이 바로 모듈이다."
   ]
  },
  {
   "cell_type": "markdown",
   "metadata": {},
   "source": [
    "##### 모듈 불러오기\n",
    "\n",
    "명령 프롬프트 창을 열어 C:\\doit 으로 이동한 다음 대화형 인터프리터를 실행한다.\n",
    "```\n",
    "cd C:\\doit\n",
    "dir\n",
    "python\n",
    "```\n",
    "반드시 ```C:\\doit ```디렉터리로 이동한 다음 예제를 진행해야 한다.\n"
   ]
  },
  {
   "cell_type": "code",
   "execution_count": 5,
   "metadata": {},
   "outputs": [
    {
     "name": "stdout",
     "output_type": "stream",
     "text": [
      "7\n",
      "2\n"
     ]
    }
   ],
   "source": [
    "# 디렉토리 같게\n",
    "import mod1\n",
    "print(mod1.add(3, 4))\n",
    "print(mod1.sub(4, 2))"
   ]
  },
  {
   "cell_type": "markdown",
   "metadata": {},
   "source": [
    "import는 이미 만들어 놓은 파이썬 모듈을 사용할 수 있게 해주는 명령어이다.  \n",
    "> import는 현재 디렉터리에 있는 파일이나 파이썬 라이브러리가 저장된 디렉터리에 있는 모듈만 불러올 수 있다. 파이썬 라이브러리는 자동으로 설치되는 파이썬 모듈을 말한다.\n",
    "\n",
    "  \n",
    "import의 사용 방법은 다음과 같다.   \n",
    "```import 모듈이름 ```\n",
    "  \n",
    "```mod1.add```, ```mod1.sub``` 처럼 쓰지 않고 ```add```, ```sub```처럼 모듈 이름 없이 함수 이름만 쓰고 싶은 경우에는 다음과 같이 작성한다.  \n",
    "```from 모듈이름 import 모듈함수```\n"
   ]
  },
  {
   "cell_type": "code",
   "execution_count": 7,
   "metadata": {},
   "outputs": [
    {
     "data": {
      "text/plain": [
       "7"
      ]
     },
     "execution_count": 7,
     "metadata": {},
     "output_type": "execute_result"
    }
   ],
   "source": [
    "from mod1 import add\n",
    "add(3, 4)"
   ]
  },
  {
   "cell_type": "markdown",
   "metadata": {},
   "source": [
    "```sub``` 함수와 ```add``` 함수를 둘 다 사용하고 싶다면 \n",
    "``` python\n",
    "from mod1 import add, sub\n",
    "```\n",
    "혹은 \n",
    "``` python\n",
    "from mod1 import *\n",
    "```\n",
    "코드를 작성해 불러오면 된다."
   ]
  },
  {
   "cell_type": "markdown",
   "metadata": {},
   "source": [
    "##### if __name___ == \"__main__\":"
   ]
  },
  {
   "cell_type": "code",
   "execution_count": 4,
   "metadata": {},
   "outputs": [
    {
     "name": "stdout",
     "output_type": "stream",
     "text": [
      "5\n",
      "2\n"
     ]
    }
   ],
   "source": [
    "# mod1.py\n",
    "def add(a, b): \n",
    "    return a+b\n",
    "\n",
    "def sub(a, b): \n",
    "    return a-b\n",
    "\n",
    "print(add(1, 4))\n",
    "print(sub(4, 2))"
   ]
  },
  {
   "cell_type": "code",
   "execution_count": 1,
   "metadata": {},
   "outputs": [
    {
     "name": "stdout",
     "output_type": "stream",
     "text": [
      "5\n",
      "2\n"
     ]
    }
   ],
   "source": [
    "import mod1"
   ]
  },
  {
   "cell_type": "markdown",
   "metadata": {},
   "source": [
    "다음과 같이 파일을 수정하면 import하는 순간, 결괏값이 출력되는 문제가 발생한다.  \n",
    "이 문제를 방지하기 위해 mod1.py 파일을 다음처럼 변경한다.\n"
   ]
  },
  {
   "cell_type": "code",
   "execution_count": 2,
   "metadata": {},
   "outputs": [
    {
     "name": "stdout",
     "output_type": "stream",
     "text": [
      "5\n",
      "2\n"
     ]
    }
   ],
   "source": [
    "# mod1.py \n",
    "def add(a, b): \n",
    "    return a+b\n",
    "\n",
    "def sub(a, b): \n",
    "    return a-b\n",
    "\n",
    "if __name__ == \"__main__\":\n",
    "    print(add(1, 4))\n",
    "    print(sub(4, 2))"
   ]
  },
  {
   "cell_type": "code",
   "execution_count": 2,
   "metadata": {},
   "outputs": [],
   "source": [
    "import mod1"
   ]
  },
  {
   "cell_type": "markdown",
   "metadata": {},
   "source": [
    "```python \n",
    "if __name__ == \"__main__\":\n",
    "```\n",
    "를 사용하면 대화형 인터프리터나 다른 파일에서 이 모듈을 불러 사용할 때 거짓이 되기 때문에 if문 다음 문장이 수행되지 않는다."
   ]
  },
  {
   "cell_type": "markdown",
   "metadata": {},
   "source": [
    "> `__name__` 변수는 파이썬이 내부적으로 사용하는 특별한 변수 이름이다. \n",
    "> 직접 mod1.py 파일을 실행할 경우 파일의 `__name__` 변수에는  `__main__` 값이 저장된다. 하지만 파이썬 셸이나 다른 파이썬 모듈에서 mod1을 import할 경우에는 `__name__` 변수에 모듈 이름 값 mod1이 저장된다"
   ]
  },
  {
   "cell_type": "code",
   "execution_count": 3,
   "metadata": {},
   "outputs": [
    {
     "data": {
      "text/plain": [
       "'mod1'"
      ]
     },
     "execution_count": 3,
     "metadata": {},
     "output_type": "execute_result"
    }
   ],
   "source": [
    "import mod1\n",
    "mod1.__name__"
   ]
  },
  {
   "cell_type": "markdown",
   "metadata": {},
   "source": [
    "##### 클래스나 변수 등을 포함한 모듈\n",
    "\n",
    "모두 사용가능함"
   ]
  },
  {
   "cell_type": "code",
   "execution_count": 4,
   "metadata": {},
   "outputs": [],
   "source": [
    "# mod2.py \n",
    "PI = 3.141592\n",
    "\n",
    "class Math: \n",
    "    def solv(self, r): \n",
    "        return PI * (r ** 2) \n",
    "\n",
    "def add(a, b): \n",
    "    return a+b "
   ]
  },
  {
   "cell_type": "code",
   "execution_count": 6,
   "metadata": {},
   "outputs": [
    {
     "name": "stdout",
     "output_type": "stream",
     "text": [
      "3.141592\n"
     ]
    }
   ],
   "source": [
    "import mod2\n",
    "print(mod2.PI)"
   ]
  },
  {
   "cell_type": "code",
   "execution_count": 7,
   "metadata": {},
   "outputs": [
    {
     "name": "stdout",
     "output_type": "stream",
     "text": [
      "12.566368\n"
     ]
    }
   ],
   "source": [
    "a = mod2.Math()\n",
    "print(a.solv(2))"
   ]
  },
  {
   "cell_type": "code",
   "execution_count": 8,
   "metadata": {},
   "outputs": [
    {
     "name": "stdout",
     "output_type": "stream",
     "text": [
      "7.5415920000000005\n"
     ]
    }
   ],
   "source": [
    "print(mod2.add(mod2.PI, 4.4))"
   ]
  },
  {
   "cell_type": "markdown",
   "metadata": {},
   "source": [
    "##### 다른 파일에서 모듈 불러오기\n",
    "\n",
    "다른 파이썬 파일에서도 mod2 모듈을 불러와서 사용할 수 있다. 주의할 점은 두 파일이 동일한 디렉터리에 있어야 한다는 점!"
   ]
  },
  {
   "cell_type": "code",
   "execution_count": 9,
   "metadata": {},
   "outputs": [
    {
     "name": "stdout",
     "output_type": "stream",
     "text": [
      "7\n"
     ]
    }
   ],
   "source": [
    "# modtest.py\n",
    "import mod2\n",
    "result = mod2.add(3, 4)\n",
    "print(result)"
   ]
  },
  {
   "cell_type": "markdown",
   "metadata": {},
   "source": [
    "> **[모듈을 불러오는 또 다른 방법]**  \n",
    ">1. sys.path.append(\"모듈 저장한 디렉터리\") 사용하기  \n",
    ">2. PYTHONPATH 환경 변수 사용하기\n",
    ">```\n",
    ">set PYTHONPATH=C:\\doit\\mymod\n",
    ">```\n"
   ]
  },
  {
   "cell_type": "markdown",
   "metadata": {},
   "source": [
    "## 5-3. 패키지\n",
    "##### 패키지란 무엇인가?\n",
    "\n",
    "패키지는 도트(.)를 사용하여 파이썬 모듈을 계층적으로 관리할 수 있게 해준다. 예를 들어 모듈 이름이 A.B인 경우에 A는 패키지 이름이 되고, B는 A패키지의 B모듈이 된다.  \n",
    "  \n",
    "즉 패키지는 모듈을 여러개 모아놓은 것이라고 할 수 있다.\n",
    "\n",
    "> 파이썬에서 모듈은 하나의 .py 파일이다.\n",
    "  \n",
    "파이썬 패키지는 디렉터리와 파이썬 모듈로 이루어지며 구조는 다음과 같다.  \n",
    "\n",
    "*가상의 game패키지 예*\n",
    "```\n",
    "game/\n",
    "    __init__.py\n",
    "    sound/\n",
    "        __init__.py\n",
    "        echo.py\n",
    "        wav.py\n",
    "    graphic/\n",
    "        __init__.py\n",
    "        screen.py\n",
    "        render.py\n",
    "    play/\n",
    "        __init__.py\n",
    "        run.py\n",
    "        test.py\n",
    "```\n",
    "game, sound, graphic, play는 디렉터리이며, 확장자가 .py인 파일은 파이썬 모듈이다.  \n",
    "game 디렉터리가 이 패키지의 루트 디렉터리이고 sound, graphic, play는 서브 디렉터리이다.\n",
    "  \n",
    "간단한 파이썬 프로그램이 아니라면 이렇게 패키지 구조로 파이썬 프로그램을 만드는 것이 공동 작업이나 유지 보수 등 여러 면에서 유리하다. 또한 패키지 구조로 모듈을 만들면 다른 모듈과 이름이 겹쳐도 더 안전하게 사용할 수 있다."
   ]
  },
  {
   "cell_type": "markdown",
   "metadata": {},
   "source": [
    "##### 패키지 만들기\n",
    "**패키지 기본 구성 요소 준비하기**\n",
    "  \n",
    "1. `C:/doit` 디렉터리 밑에 game 및 기타 서브 디렉터리를 생성하고 .py 파일들을 다음과 같이 만들어 보자\n",
    "```\n",
    "C:/doit/game/__init__.py\n",
    "C:/doit/game/sound/__init__.py\n",
    "C:/doit/game/sound/echo.py\n",
    "C:/doit/game/graphic/__init__.py\n",
    "C:/doit/game/graphic/render.py\n",
    "```\n",
    "  \n",
    "2. 각 디렉터리에 `__init__.py` 파일을 만들어 놓기만 하고 내용은 일단 비워 둔다.\n",
    "  \n",
    "3. echo.py 파일은 다음과 같이 만든다.\n",
    "``` python\n",
    "# echo.py\n",
    "def echo_test():\n",
    "    print(\"echo\")\n",
    "```\n",
    "  \n",
    "4. render.py 파일은 다음과 같이 만든다.\n",
    "``` python\n",
    "# render.py\n",
    "def render_test():\n",
    "    print(\"render\")\n",
    "```"
   ]
  },
  {
   "cell_type": "markdown",
   "metadata": {},
   "source": [
    "##### 패키지 안의 함수 실행하기\n",
    "\n",
    "패키지를 사용해 echo.py 파일의 echo_test 함수를 실행해 보자. 패키지 안의 함수를 실행하는 방법은 3가지가 있다.\n",
    "\n",
    "1. echo 모듈(echo.py 파일)을 import하여 실행\n"
   ]
  },
  {
   "cell_type": "code",
   "execution_count": 15,
   "metadata": {},
   "outputs": [
    {
     "name": "stdout",
     "output_type": "stream",
     "text": [
      "echo\n"
     ]
    }
   ],
   "source": [
    "import sys\n",
    "sys.path.append(r\"C:\\doit\")\n",
    "\n",
    "import game.sound.echo\n",
    "game.sound.echo.echo_test()"
   ]
  },
  {
   "cell_type": "markdown",
   "metadata": {},
   "source": [
    "2. echo 모듈이 있는 디렉터리까지를 from ... import하여 실행\n"
   ]
  },
  {
   "cell_type": "code",
   "execution_count": 17,
   "metadata": {},
   "outputs": [
    {
     "name": "stdout",
     "output_type": "stream",
     "text": [
      "echo\n"
     ]
    }
   ],
   "source": [
    "from game.sound import echo\n",
    "echo.echo_test() "
   ]
  },
  {
   "cell_type": "markdown",
   "metadata": {},
   "source": [
    "3. echo 모듈의 echo_test 함수를 직접 import하여 실행"
   ]
  },
  {
   "cell_type": "code",
   "execution_count": 16,
   "metadata": {},
   "outputs": [
    {
     "name": "stdout",
     "output_type": "stream",
     "text": [
      "echo\n"
     ]
    }
   ],
   "source": [
    "from game.sound.echo import echo_test\n",
    "echo_test()"
   ]
  },
  {
   "cell_type": "markdown",
   "metadata": {},
   "source": [
    "하지만 다음과 같이 echo_test 함수를 사용하는 것은 불가능하다.\n",
    "\n",
    "> ※ 다음 예제는 반드시 파이썬 인터프리터를 종료하고 다시 실행해야 한다.\n",
    "\n",
    "```python\n",
    "import game\n",
    "game.sound.echo.echo_test()\n",
    "```\n",
    "import game을 수행하면 game 디렉터리의 `__init__.py`에 정의한 것만 참조할 수 있다.\n",
    "\n",
    "```python\n",
    "import game.sound.echo.echo_test\n",
    "```\n",
    "도트 연산자(.)를 사용해서 import a.b.c 처럼 import할 때 가장 마지막 항목 c는 반드시 모듈 또는 패키지여야만 한다."
   ]
  },
  {
   "cell_type": "markdown",
   "metadata": {},
   "source": [
    "##### `__init__.py`의 용도\n",
    "\n",
    "이 파일은 해당 디렉터리가 패키지의 일부임을 알려주는 역할을 한다.\n",
    "패키지에 포함된 디렉터리에 `__init__.py` 파일이 없다면 패키지로 인식되지 않는다.\n",
    "\n",
    "> ※ python3.3 버전부터는 `__init__.py` 파일이 없어도 패키지로 인식한다. 하지만 하위 버전 호환을 위해 `__init__.py` 파일을 생성하는 것이 안전한 방법이다."
   ]
  },
  {
   "cell_type": "markdown",
   "metadata": {},
   "source": [
    "* `__all__` 변수의 설정\n",
    "\n",
    "```python\n",
    ">>> from game.sound import *\n",
    ">>> echo.echo_test()\n",
    "Traceback (most recent call last):\n",
    "    File \"<stdin>\", line 1, in <module>\n",
    "NameError: name 'echo' is not defined\n",
    "```\n",
    "game.sound 패키지에서 모든 것(`*`)을 import하였으므로 echo 모듈을 사용할 수 있어야 할 것 같은데 echo라는 이름이 정의되지 않았다는 NameError가 발생한다.\n",
    "  \n",
    "이렇게 특정 디렉터리의 모듈을 `*`를 사용하여 import할 때에는 다음과 같이 해당 디렉터리의 `__init__.py` 파일에 `__all__` 변수를 설정하고 import할 수 있는 모듈을 정의해 주어야 한다.\n",
    "\n",
    "```\n",
    "# C:/doit/game/sound/__init__.py\n",
    "__all__ = ['echo']\n",
    "```\n",
    "\n",
    "여기서 `__all__`이 의미하는 것은 sound 디렉터리에서 * 기호를 사용하여 import할 경우 이곳에 정의된 `echo` 모듈만 import된다는 의미이다.\n",
    "  \n",
    "> ※ from game.sound.echo import * 는 `__all__`과 상관없이 무조건 import된다.  \n",
    "> from a.b.c import * 에서 from의 마지막 항목인 c가 모듈인 경우!\n",
    "  \n",
    "위와 같이 `__init__.py` 파일을 변경한 후 위 예제를 수행하면 원하던 결과가 출력되는 것을 확인할 수 있다.\n",
    "``` python\n",
    ">>> from game.sound import *\n",
    ">>> echo.echo_test()\n",
    "echo\n",
    "```"
   ]
  },
  {
   "cell_type": "markdown",
   "metadata": {},
   "source": [
    "##### relative 패키지\n",
    "\n",
    "graphic 디렉터리의 render.py모듈이 sound 디렉터리의 echo.py 모듈을 사용하고 싶다면 다음과 같이 render.py 를 수정해야한다."
   ]
  },
  {
   "cell_type": "code",
   "execution_count": 25,
   "metadata": {},
   "outputs": [],
   "source": [
    "# render.py\n",
    "from game.sound.echo import echo_test\n",
    "def render_test():\n",
    "    print(\"render\")\n",
    "    echo_test()"
   ]
  },
  {
   "cell_type": "code",
   "execution_count": 27,
   "metadata": {},
   "outputs": [
    {
     "name": "stdout",
     "output_type": "stream",
     "text": [
      "render\n",
      "echo\n"
     ]
    }
   ],
   "source": [
    "from game.graphic.render import render_test\n",
    "render_test()"
   ]
  },
  {
   "cell_type": "markdown",
   "metadata": {},
   "source": [
    "위 예제처럼 전체 경로를 사용해 import할 수 도 있지만 다음과 같이 relative하게 import도 가능하다."
   ]
  },
  {
   "cell_type": "code",
   "execution_count": 26,
   "metadata": {},
   "outputs": [
    {
     "ename": "ImportError",
     "evalue": "attempted relative import with no known parent package",
     "output_type": "error",
     "traceback": [
      "\u001b[1;31m---------------------------------------------------------------------------\u001b[0m",
      "\u001b[1;31mImportError\u001b[0m                               Traceback (most recent call last)",
      "\u001b[1;32mc:\\Users\\sumin\\OneDrive\\바탕 화면\\python_test\\Chapter 5\\Chapter 5.ipynb Cell 81'\u001b[0m in \u001b[0;36m<module>\u001b[1;34m\u001b[0m\n\u001b[0;32m      <a href='vscode-notebook-cell:/c%3A/Users/sumin/OneDrive/%EB%B0%94%ED%83%95%20%ED%99%94%EB%A9%B4/python_test/Chapter%205/Chapter%205.ipynb#ch0000090?line=0'>1</a>\u001b[0m \u001b[39m# render.py\u001b[39;00m\n\u001b[1;32m----> <a href='vscode-notebook-cell:/c%3A/Users/sumin/OneDrive/%EB%B0%94%ED%83%95%20%ED%99%94%EB%A9%B4/python_test/Chapter%205/Chapter%205.ipynb#ch0000090?line=1'>2</a>\u001b[0m \u001b[39mfrom\u001b[39;00m \u001b[39m.\u001b[39;00m\u001b[39m.\u001b[39;00m\u001b[39msound\u001b[39;00m\u001b[39m.\u001b[39;00m\u001b[39mecho\u001b[39;00m \u001b[39mimport\u001b[39;00m echo_test\n\u001b[0;32m      <a href='vscode-notebook-cell:/c%3A/Users/sumin/OneDrive/%EB%B0%94%ED%83%95%20%ED%99%94%EB%A9%B4/python_test/Chapter%205/Chapter%205.ipynb#ch0000090?line=3'>4</a>\u001b[0m \u001b[39mdef\u001b[39;00m \u001b[39mrender_test\u001b[39m():\n\u001b[0;32m      <a href='vscode-notebook-cell:/c%3A/Users/sumin/OneDrive/%EB%B0%94%ED%83%95%20%ED%99%94%EB%A9%B4/python_test/Chapter%205/Chapter%205.ipynb#ch0000090?line=4'>5</a>\u001b[0m     \u001b[39mprint\u001b[39m(\u001b[39m\"\u001b[39m\u001b[39mrender\u001b[39m\u001b[39m\"\u001b[39m)\n",
      "\u001b[1;31mImportError\u001b[0m: attempted relative import with no known parent package"
     ]
    }
   ],
   "source": [
    "# render.py\n",
    "from ..sound.echo import echo_test\n",
    "\n",
    "def render_test():\n",
    "    print(\"render\")\n",
    "    echo_test() "
   ]
  },
  {
   "cell_type": "markdown",
   "metadata": {},
   "source": [
    "## 5-4. 예외 처리\n",
    "\n",
    "예외적으로 오류를 처리할 수 있게 해준다.\n",
    "\n",
    "##### 오류는 어떤 때 발생하는가?"
   ]
  },
  {
   "cell_type": "code",
   "execution_count": 29,
   "metadata": {},
   "outputs": [
    {
     "ename": "FileNotFoundError",
     "evalue": "[Errno 2] No such file or directory: '나없는파일'",
     "output_type": "error",
     "traceback": [
      "\u001b[1;31m---------------------------------------------------------------------------\u001b[0m",
      "\u001b[1;31mFileNotFoundError\u001b[0m                         Traceback (most recent call last)",
      "\u001b[1;32mc:\\Users\\sumin\\OneDrive\\바탕 화면\\python_test\\Chapter 5\\Chapter 5.ipynb Cell 83'\u001b[0m in \u001b[0;36m<module>\u001b[1;34m\u001b[0m\n\u001b[1;32m----> <a href='vscode-notebook-cell:/c%3A/Users/sumin/OneDrive/%EB%B0%94%ED%83%95%20%ED%99%94%EB%A9%B4/python_test/Chapter%205/Chapter%205.ipynb#ch0000091?line=0'>1</a>\u001b[0m f \u001b[39m=\u001b[39m \u001b[39mopen\u001b[39;49m(\u001b[39m\"\u001b[39;49m\u001b[39m나없는파일\u001b[39;49m\u001b[39m\"\u001b[39;49m, \u001b[39m'\u001b[39;49m\u001b[39mr\u001b[39;49m\u001b[39m'\u001b[39;49m)\n",
      "\u001b[1;31mFileNotFoundError\u001b[0m: [Errno 2] No such file or directory: '나없는파일'"
     ]
    }
   ],
   "source": [
    "f = open(\"나없는파일\", 'r')"
   ]
  },
  {
   "cell_type": "code",
   "execution_count": 30,
   "metadata": {},
   "outputs": [
    {
     "ename": "ZeroDivisionError",
     "evalue": "division by zero",
     "output_type": "error",
     "traceback": [
      "\u001b[1;31m---------------------------------------------------------------------------\u001b[0m",
      "\u001b[1;31mZeroDivisionError\u001b[0m                         Traceback (most recent call last)",
      "\u001b[1;32mc:\\Users\\sumin\\OneDrive\\바탕 화면\\python_test\\Chapter 5\\Chapter 5.ipynb Cell 84'\u001b[0m in \u001b[0;36m<module>\u001b[1;34m\u001b[0m\n\u001b[1;32m----> <a href='vscode-notebook-cell:/c%3A/Users/sumin/OneDrive/%EB%B0%94%ED%83%95%20%ED%99%94%EB%A9%B4/python_test/Chapter%205/Chapter%205.ipynb#ch0000092?line=0'>1</a>\u001b[0m \u001b[39m4\u001b[39;49m \u001b[39m/\u001b[39;49m \u001b[39m0\u001b[39;49m\n",
      "\u001b[1;31mZeroDivisionError\u001b[0m: division by zero"
     ]
    }
   ],
   "source": [
    "4 / 0"
   ]
  },
  {
   "cell_type": "code",
   "execution_count": 32,
   "metadata": {},
   "outputs": [
    {
     "ename": "IndexError",
     "evalue": "list index out of range",
     "output_type": "error",
     "traceback": [
      "\u001b[1;31m---------------------------------------------------------------------------\u001b[0m",
      "\u001b[1;31mIndexError\u001b[0m                                Traceback (most recent call last)",
      "\u001b[1;32mc:\\Users\\sumin\\OneDrive\\바탕 화면\\python_test\\Chapter 5\\Chapter 5.ipynb Cell 85'\u001b[0m in \u001b[0;36m<module>\u001b[1;34m\u001b[0m\n\u001b[0;32m      <a href='vscode-notebook-cell:/c%3A/Users/sumin/OneDrive/%EB%B0%94%ED%83%95%20%ED%99%94%EB%A9%B4/python_test/Chapter%205/Chapter%205.ipynb#ch0000094?line=0'>1</a>\u001b[0m a \u001b[39m=\u001b[39m [\u001b[39m1\u001b[39m,\u001b[39m2\u001b[39m,\u001b[39m3\u001b[39m]\n\u001b[1;32m----> <a href='vscode-notebook-cell:/c%3A/Users/sumin/OneDrive/%EB%B0%94%ED%83%95%20%ED%99%94%EB%A9%B4/python_test/Chapter%205/Chapter%205.ipynb#ch0000094?line=1'>2</a>\u001b[0m a[\u001b[39m4\u001b[39;49m]\n",
      "\u001b[1;31mIndexError\u001b[0m: list index out of range"
     ]
    }
   ],
   "source": [
    "a = [1,2,3]\n",
    "a[4]"
   ]
  },
  {
   "cell_type": "markdown",
   "metadata": {},
   "source": [
    "##### 오류 예외 처리 기법\n",
    "\n",
    "**try, except문**\n",
    "```\n",
    "try:\n",
    "    ...\n",
    "except [발생 오류[as 오류 메시지 변수]]:\n",
    "    ...\n",
    "```\n",
    "try 블록 수행 중 오류가 발생하면 except 블록이 수행된다. 하지만 try 블록에서 오류가 발생하지 않는다면 except 블록은 수행되지 않는다.  \n",
    "except 구문에서 [ ] 기호를 사용하는데, 이 기호는 괄호 안의 내용을 생략할 수 있다는 관례 표기법이다. 즉 except 구문은 다음 3가지 방법으로 사용할 수 있다.\n",
    "\n",
    "1. try, except만 쓰는 방법  \n",
    "이 경우는 오류 종류에 상관없이 오류가 발생하면 except 블록을 수행한다.\n",
    "```\n",
    "try:\n",
    "    ...\n",
    "except:\n",
    "    ...\n",
    "```\n",
    "\n",
    "2. 발생 오류만 포함한 except문  \n",
    "이 경우는 오류가 발생했을 때 except문에 미리 정해 놓은 오류 이름과 일치할 때만 except 블록을 수행한다는 뜻이다.\n",
    "```\n",
    "try:\n",
    "    ...\n",
    "except 발생 오류:\n",
    "    ...\n",
    "```\n",
    "\n",
    "3. 발생 오류와 오류 메시지 변수까지 포함한 except문  \n",
    "이 경우는 오류 메시지의 내용까지 알고 싶을 때 사용하는 방법이다.\n",
    "```\n",
    "try:\n",
    "    ...\n",
    "except 발생 오류 as 오류 메시지 변수:\n",
    "    ...\n",
    "```"
   ]
  },
  {
   "cell_type": "code",
   "execution_count": 33,
   "metadata": {},
   "outputs": [
    {
     "name": "stdout",
     "output_type": "stream",
     "text": [
      "division by zero\n"
     ]
    }
   ],
   "source": [
    "try:\n",
    "    4 / 0\n",
    "except ZeroDivisionError as e:\n",
    "    print(e)"
   ]
  },
  {
   "cell_type": "markdown",
   "metadata": {},
   "source": [
    "**try .. finally**  \n",
    "try문에는 finally절을 사용할 수 있다. finally절은 try문 수행 도중 예외 발생 여부에 상관없이 항상 수행된다.  \n",
    "보통 finally절은 사용한 리소스를 close해야 할 때에 많이 사용한다."
   ]
  },
  {
   "cell_type": "code",
   "execution_count": 34,
   "metadata": {},
   "outputs": [
    {
     "ename": "IndentationError",
     "evalue": "expected an indented block (3770063636.py, line 4)",
     "output_type": "error",
     "traceback": [
      "\u001b[1;36m  Input \u001b[1;32mIn [34]\u001b[1;36m\u001b[0m\n\u001b[1;33m    finally:\u001b[0m\n\u001b[1;37m    ^\u001b[0m\n\u001b[1;31mIndentationError\u001b[0m\u001b[1;31m:\u001b[0m expected an indented block\n"
     ]
    }
   ],
   "source": [
    "f = open('foo.txt', 'w')\n",
    "try:\n",
    "    # 무언가를 수행한다.\n",
    "finally:\n",
    "    f.close()"
   ]
  },
  {
   "cell_type": "markdown",
   "metadata": {},
   "source": [
    "**여러 개의 오류 처리하기**\n",
    "try 문 안에서 여러 개의 오류를 처리하기 위해 다음 구문을 사용한다.\n",
    "```\n",
    "try:\n",
    "    ...\n",
    "except 발생 오류1:\n",
    "   ... \n",
    "except 발생 오류2:\n",
    "   ...\n",
    "```"
   ]
  },
  {
   "cell_type": "code",
   "execution_count": 35,
   "metadata": {},
   "outputs": [
    {
     "name": "stdout",
     "output_type": "stream",
     "text": [
      "인덱싱 할 수 없습니다.\n"
     ]
    }
   ],
   "source": [
    "try:\n",
    "    a = [1,2]\n",
    "    print(a[3])\n",
    "    4/0\n",
    "except ZeroDivisionError:\n",
    "    print(\"0으로 나눌 수 없습니다.\")\n",
    "except IndexError:\n",
    "    print(\"인덱싱 할 수 없습니다.\") #먼저 발생"
   ]
  },
  {
   "cell_type": "code",
   "execution_count": 36,
   "metadata": {},
   "outputs": [
    {
     "name": "stdout",
     "output_type": "stream",
     "text": [
      "list index out of range\n"
     ]
    }
   ],
   "source": [
    "try:\n",
    "    a = [1,2]\n",
    "    print(a[3])\n",
    "    4/0\n",
    "except ZeroDivisionError as e:\n",
    "    print(e)\n",
    "except IndexError as e:\n",
    "    print(e)"
   ]
  },
  {
   "cell_type": "code",
   "execution_count": 37,
   "metadata": {},
   "outputs": [
    {
     "name": "stdout",
     "output_type": "stream",
     "text": [
      "list index out of range\n"
     ]
    }
   ],
   "source": [
    "try:\n",
    "    a = [1,2]\n",
    "    print(a[3])\n",
    "    4/0\n",
    "except (ZeroDivisionError, IndexError) as e:\n",
    "    print(e)"
   ]
  },
  {
   "cell_type": "code",
   "execution_count": 39,
   "metadata": {},
   "outputs": [
    {
     "name": "stdout",
     "output_type": "stream",
     "text": [
      "입력이 정확하지 않습니다.\n"
     ]
    }
   ],
   "source": [
    "try:\n",
    "    age=int(input('나이를 입력하세요: '))\n",
    "except:\n",
    "    print('입력이 정확하지 않습니다.')\n",
    "else:\n",
    "    if age <= 18:\n",
    "        print('미성년자는 출입금지입니다.')\n",
    "    else:\n",
    "        print('환영합니다.')"
   ]
  },
  {
   "cell_type": "markdown",
   "metadata": {},
   "source": [
    "##### 오류 회피하기\n",
    "\n",
    "프로그래밍을 하다 보면 특정 오류가 발생한 경우 그냥 통과시켜야 할 때가 있다. pass를 사용하면 된다."
   ]
  },
  {
   "cell_type": "code",
   "execution_count": 41,
   "metadata": {},
   "outputs": [],
   "source": [
    "try:\n",
    "    f = open(\"나없는파일\", 'r')\n",
    "except FileNotFoundError:\n",
    "    pass"
   ]
  },
  {
   "cell_type": "markdown",
   "metadata": {},
   "source": [
    "##### 오류 일부러 발생시키기\n",
    "raise 명령어를 사용하면 오류를 강제로 발생시킬 수 있다.  \n",
    "\n",
    "예를 들어, Bird 클래스를 상속받는 자식 클래스는 반드시 fly라는 함수를 구현하도록 강제하고 싶은 경우가 있을 수 있다."
   ]
  },
  {
   "cell_type": "code",
   "execution_count": 43,
   "metadata": {},
   "outputs": [],
   "source": [
    "class Bird:\n",
    "    def fly(self):\n",
    "        raise NotImplementedError\n",
    "# Bird클래스를 상속받는 자식 클래스는 반드시 fly함수를 구현하도록 한다.\n",
    "# 구현하지 않은 상태로 fly함수를 호출한다면 오류가 발생할 것이다."
   ]
  },
  {
   "cell_type": "code",
   "execution_count": 44,
   "metadata": {},
   "outputs": [
    {
     "ename": "NotImplementedError",
     "evalue": "",
     "output_type": "error",
     "traceback": [
      "\u001b[1;31m---------------------------------------------------------------------------\u001b[0m",
      "\u001b[1;31mNotImplementedError\u001b[0m                       Traceback (most recent call last)",
      "\u001b[1;32mc:\\Users\\sumin\\OneDrive\\바탕 화면\\python_test\\Chapter 5\\Chapter 5.ipynb Cell 99'\u001b[0m in \u001b[0;36m<module>\u001b[1;34m\u001b[0m\n\u001b[0;32m      <a href='vscode-notebook-cell:/c%3A/Users/sumin/OneDrive/%EB%B0%94%ED%83%95%20%ED%99%94%EB%A9%B4/python_test/Chapter%205/Chapter%205.ipynb#ch0000108?line=1'>2</a>\u001b[0m     \u001b[39mpass\u001b[39;00m\n\u001b[0;32m      <a href='vscode-notebook-cell:/c%3A/Users/sumin/OneDrive/%EB%B0%94%ED%83%95%20%ED%99%94%EB%A9%B4/python_test/Chapter%205/Chapter%205.ipynb#ch0000108?line=3'>4</a>\u001b[0m eagle \u001b[39m=\u001b[39m Eagle()\n\u001b[1;32m----> <a href='vscode-notebook-cell:/c%3A/Users/sumin/OneDrive/%EB%B0%94%ED%83%95%20%ED%99%94%EB%A9%B4/python_test/Chapter%205/Chapter%205.ipynb#ch0000108?line=4'>5</a>\u001b[0m eagle\u001b[39m.\u001b[39;49mfly()\n",
      "\u001b[1;32mc:\\Users\\sumin\\OneDrive\\바탕 화면\\python_test\\Chapter 5\\Chapter 5.ipynb Cell 98'\u001b[0m in \u001b[0;36mBird.fly\u001b[1;34m(self)\u001b[0m\n\u001b[0;32m      <a href='vscode-notebook-cell:/c%3A/Users/sumin/OneDrive/%EB%B0%94%ED%83%95%20%ED%99%94%EB%A9%B4/python_test/Chapter%205/Chapter%205.ipynb#ch0000106?line=1'>2</a>\u001b[0m \u001b[39mdef\u001b[39;00m \u001b[39mfly\u001b[39m(\u001b[39mself\u001b[39m):\n\u001b[1;32m----> <a href='vscode-notebook-cell:/c%3A/Users/sumin/OneDrive/%EB%B0%94%ED%83%95%20%ED%99%94%EB%A9%B4/python_test/Chapter%205/Chapter%205.ipynb#ch0000106?line=2'>3</a>\u001b[0m     \u001b[39mraise\u001b[39;00m \u001b[39mNotImplementedError\u001b[39;00m\n",
      "\u001b[1;31mNotImplementedError\u001b[0m: "
     ]
    }
   ],
   "source": [
    "class Eagle(Bird):\n",
    "    pass\n",
    "\n",
    "eagle = Eagle()\n",
    "eagle.fly()"
   ]
  },
  {
   "cell_type": "code",
   "execution_count": 45,
   "metadata": {},
   "outputs": [
    {
     "name": "stdout",
     "output_type": "stream",
     "text": [
      "very fast\n"
     ]
    }
   ],
   "source": [
    "class Eagle(Bird):\n",
    "    def fly(self):\n",
    "        print(\"very fast\")\n",
    "\n",
    "eagle = Eagle()\n",
    "eagle.fly()"
   ]
  },
  {
   "cell_type": "markdown",
   "metadata": {},
   "source": [
    "##### 예외 만들기\n",
    "Exception 클래스를 상속하여 만들 수 있다."
   ]
  },
  {
   "cell_type": "code",
   "execution_count": 46,
   "metadata": {},
   "outputs": [],
   "source": [
    "class MyError(Exception):\n",
    "    pass"
   ]
  },
  {
   "cell_type": "code",
   "execution_count": 47,
   "metadata": {},
   "outputs": [],
   "source": [
    "def say_nick(nick):\n",
    "    if nick == '바보':\n",
    "        raise MyError()\n",
    "    print(nick)"
   ]
  },
  {
   "cell_type": "code",
   "execution_count": 48,
   "metadata": {},
   "outputs": [
    {
     "name": "stdout",
     "output_type": "stream",
     "text": [
      "천사\n"
     ]
    },
    {
     "ename": "MyError",
     "evalue": "",
     "output_type": "error",
     "traceback": [
      "\u001b[1;31m---------------------------------------------------------------------------\u001b[0m",
      "\u001b[1;31mMyError\u001b[0m                                   Traceback (most recent call last)",
      "\u001b[1;32mc:\\Users\\sumin\\OneDrive\\바탕 화면\\python_test\\Chapter 5\\Chapter 5.ipynb Cell 104'\u001b[0m in \u001b[0;36m<module>\u001b[1;34m\u001b[0m\n\u001b[0;32m      <a href='vscode-notebook-cell:/c%3A/Users/sumin/OneDrive/%EB%B0%94%ED%83%95%20%ED%99%94%EB%A9%B4/python_test/Chapter%205/Chapter%205.ipynb#ch0000114?line=0'>1</a>\u001b[0m say_nick(\u001b[39m\"\u001b[39m\u001b[39m천사\u001b[39m\u001b[39m\"\u001b[39m)\n\u001b[1;32m----> <a href='vscode-notebook-cell:/c%3A/Users/sumin/OneDrive/%EB%B0%94%ED%83%95%20%ED%99%94%EB%A9%B4/python_test/Chapter%205/Chapter%205.ipynb#ch0000114?line=1'>2</a>\u001b[0m say_nick(\u001b[39m\"\u001b[39;49m\u001b[39m바보\u001b[39;49m\u001b[39m\"\u001b[39;49m)\n",
      "\u001b[1;32mc:\\Users\\sumin\\OneDrive\\바탕 화면\\python_test\\Chapter 5\\Chapter 5.ipynb Cell 103'\u001b[0m in \u001b[0;36msay_nick\u001b[1;34m(nick)\u001b[0m\n\u001b[0;32m      <a href='vscode-notebook-cell:/c%3A/Users/sumin/OneDrive/%EB%B0%94%ED%83%95%20%ED%99%94%EB%A9%B4/python_test/Chapter%205/Chapter%205.ipynb#ch0000113?line=0'>1</a>\u001b[0m \u001b[39mdef\u001b[39;00m \u001b[39msay_nick\u001b[39m(nick):\n\u001b[0;32m      <a href='vscode-notebook-cell:/c%3A/Users/sumin/OneDrive/%EB%B0%94%ED%83%95%20%ED%99%94%EB%A9%B4/python_test/Chapter%205/Chapter%205.ipynb#ch0000113?line=1'>2</a>\u001b[0m     \u001b[39mif\u001b[39;00m nick \u001b[39m==\u001b[39m \u001b[39m'\u001b[39m\u001b[39m바보\u001b[39m\u001b[39m'\u001b[39m:\n\u001b[1;32m----> <a href='vscode-notebook-cell:/c%3A/Users/sumin/OneDrive/%EB%B0%94%ED%83%95%20%ED%99%94%EB%A9%B4/python_test/Chapter%205/Chapter%205.ipynb#ch0000113?line=2'>3</a>\u001b[0m         \u001b[39mraise\u001b[39;00m MyError()\n\u001b[0;32m      <a href='vscode-notebook-cell:/c%3A/Users/sumin/OneDrive/%EB%B0%94%ED%83%95%20%ED%99%94%EB%A9%B4/python_test/Chapter%205/Chapter%205.ipynb#ch0000113?line=3'>4</a>\u001b[0m     \u001b[39mprint\u001b[39m(nick)\n",
      "\u001b[1;31mMyError\u001b[0m: "
     ]
    }
   ],
   "source": [
    "say_nick(\"천사\")\n",
    "say_nick(\"바보\")"
   ]
  },
  {
   "cell_type": "code",
   "execution_count": 49,
   "metadata": {},
   "outputs": [
    {
     "name": "stdout",
     "output_type": "stream",
     "text": [
      "천사\n",
      "허용되지 않는 별명입니다.\n"
     ]
    }
   ],
   "source": [
    "try:\n",
    "    say_nick(\"천사\")\n",
    "    say_nick(\"바보\")\n",
    "except MyError:\n",
    "    print(\"허용되지 않는 별명입니다.\")"
   ]
  },
  {
   "cell_type": "code",
   "execution_count": 50,
   "metadata": {},
   "outputs": [
    {
     "name": "stdout",
     "output_type": "stream",
     "text": [
      "천사\n",
      "\n"
     ]
    }
   ],
   "source": [
    "try:\n",
    "    say_nick(\"천사\")\n",
    "    say_nick(\"바보\")\n",
    "except MyError as e:\n",
    "    print(e)"
   ]
  },
  {
   "cell_type": "code",
   "execution_count": 51,
   "metadata": {},
   "outputs": [],
   "source": [
    "class MyError(Exception):\n",
    "    def __str__(self):\n",
    "        return \"허용되지 않는 별명입니다.\""
   ]
  },
  {
   "cell_type": "code",
   "execution_count": 52,
   "metadata": {},
   "outputs": [
    {
     "name": "stdout",
     "output_type": "stream",
     "text": [
      "천사\n",
      "허용되지 않는 별명입니다.\n"
     ]
    }
   ],
   "source": [
    "try:\n",
    "    say_nick(\"천사\")\n",
    "    say_nick(\"바보\")\n",
    "except MyError as e:\n",
    "    print(e)"
   ]
  },
  {
   "cell_type": "markdown",
   "metadata": {},
   "source": [
    "## 5-5. 내장 함수\n",
    "print, del, type 등 몇 가지 내장 함수를 이미 배웠다.\n",
    "이는 외부 모듈과 달리 import가 필요하지 않아 설정 없이 바로 사용할 수 있다."
   ]
  },
  {
   "cell_type": "code",
   "execution_count": 55,
   "metadata": {},
   "outputs": [
    {
     "name": "stdout",
     "output_type": "stream",
     "text": [
      "3\n",
      "3\n"
     ]
    }
   ],
   "source": [
    "print(abs(3))\n",
    "print(abs(-3)) \n",
    "# 숫자를 입력 받아 절댓값을 돌려주는 함수"
   ]
  },
  {
   "cell_type": "code",
   "execution_count": 57,
   "metadata": {},
   "outputs": [
    {
     "name": "stdout",
     "output_type": "stream",
     "text": [
      "True\n",
      "False\n",
      "True\n"
     ]
    }
   ],
   "source": [
    "print(all([1, 2, 3]))\n",
    "print(all([1, 2, 3, 0]))\n",
    "# 반복 가능한 자료형을 입력 인수로 받으며, 그의 요소가 모두 참인 경우 True\n",
    "# 거짓이 하나라도 있으면 False를 돌려준다.\n",
    "print(all([]))\n",
    "# 입력 인수가 빈 값인 경우에는 True를 리턴한다."
   ]
  },
  {
   "cell_type": "markdown",
   "metadata": {},
   "source": [
    "> 반복 가능한 자료형이란 for문으로 그 값을 출력할 수 있는 것으로   \n",
    "> 리스트, 튜플, 문자열, 딕셔너리, 집합 등이 있다."
   ]
  },
  {
   "cell_type": "code",
   "execution_count": 58,
   "metadata": {},
   "outputs": [
    {
     "name": "stdout",
     "output_type": "stream",
     "text": [
      "True\n",
      "False\n",
      "False\n"
     ]
    }
   ],
   "source": [
    "print(any([1,2,3,0]))\n",
    "print(any([0,\"\"]))\n",
    "# 반복 가능한 자료형을 입력 인수로 받으며, 그의 요소가 하나라도 참인 경우 True\n",
    "# 모두 거짓일 때만 False를 돌려준다.\n",
    "print(any([]))\n",
    "# 입력 인수가 빈 값인 경우 False를 리턴"
   ]
  },
  {
   "cell_type": "code",
   "execution_count": 59,
   "metadata": {},
   "outputs": [
    {
     "name": "stdout",
     "output_type": "stream",
     "text": [
      "a\n",
      "가\n"
     ]
    }
   ],
   "source": [
    "print(chr(97))\n",
    "print(chr(44032))\n",
    "#유니코드(컴퓨터 내 설계된 산업 표준)값을 입력받아 코드에 해당하는 문자 출력"
   ]
  },
  {
   "cell_type": "code",
   "execution_count": 60,
   "metadata": {},
   "outputs": [
    {
     "name": "stdout",
     "output_type": "stream",
     "text": [
      "['__add__', '__class__', '__class_getitem__', '__contains__', '__delattr__', '__delitem__', '__dir__', '__doc__', '__eq__', '__format__', '__ge__', '__getattribute__', '__getitem__', '__gt__', '__hash__', '__iadd__', '__imul__', '__init__', '__init_subclass__', '__iter__', '__le__', '__len__', '__lt__', '__mul__', '__ne__', '__new__', '__reduce__', '__reduce_ex__', '__repr__', '__reversed__', '__rmul__', '__setattr__', '__setitem__', '__sizeof__', '__str__', '__subclasshook__', 'append', 'clear', 'copy', 'count', 'extend', 'index', 'insert', 'pop', 'remove', 'reverse', 'sort']\n",
      "['__class__', '__class_getitem__', '__contains__', '__delattr__', '__delitem__', '__dir__', '__doc__', '__eq__', '__format__', '__ge__', '__getattribute__', '__getitem__', '__gt__', '__hash__', '__init__', '__init_subclass__', '__ior__', '__iter__', '__le__', '__len__', '__lt__', '__ne__', '__new__', '__or__', '__reduce__', '__reduce_ex__', '__repr__', '__reversed__', '__ror__', '__setattr__', '__setitem__', '__sizeof__', '__str__', '__subclasshook__', 'clear', 'copy', 'fromkeys', 'get', 'items', 'keys', 'pop', 'popitem', 'setdefault', 'update', 'values']\n"
     ]
    }
   ],
   "source": [
    "print(dir([1, 2, 3])) #리스트가 가지는 함수\n",
    "print(dir({'1':'a'})) #딕셔너리가 갖는 함수\n",
    "# 객체가 자체적으로 갖고 있는 변수나 함수를 보여준다."
   ]
  },
  {
   "cell_type": "code",
   "execution_count": 61,
   "metadata": {},
   "outputs": [
    {
     "data": {
      "text/plain": [
       "(2, 1)"
      ]
     },
     "execution_count": 61,
     "metadata": {},
     "output_type": "execute_result"
    }
   ],
   "source": [
    "divmod(7, 3)\n",
    "# 2개의 숫자를 입력으로 받아 a를 b로 나눈 몫(//)과 나머지(%)를 튜플 형태로 돌려준다"
   ]
  },
  {
   "cell_type": "code",
   "execution_count": 63,
   "metadata": {},
   "outputs": [
    {
     "name": "stdout",
     "output_type": "stream",
     "text": [
      "0 body\n",
      "1 foo\n",
      "2 bar\n"
     ]
    }
   ],
   "source": [
    "for i, name in enumerate(['body', 'foo', 'bar']):\n",
    "    print(i, name)\n",
    "# 순서가 있는 자료형(리스트, 튜플, 문자열)을 입력으로 받아 \n",
    "# 인덱스 값을 포함하는 enumerate 객체를 돌려준다.\n",
    "# for 문에서 자주 사용, 반복되는 구간에서 객체가 현재 어느 위치에 있는지 알려주는 인덱스 값이 필요할 때 유용"
   ]
  },
  {
   "cell_type": "code",
   "execution_count": 65,
   "metadata": {},
   "outputs": [
    {
     "name": "stdout",
     "output_type": "stream",
     "text": [
      "3\n",
      "hia\n",
      "(1, 1)\n"
     ]
    }
   ],
   "source": [
    "print(eval('1+2'))\n",
    "print(eval(\"'hi' + 'a'\"))\n",
    "print(eval('divmod(4, 3)'))\n",
    "# 실행 가능한 문자열을 입력으로 받아 문자열을 실행한 결괏값을 돌려준다.\n",
    "# 입력받은 문자열로 파이썬 함수나 클래스를 동적으로 실행하고 싶을 때 사용"
   ]
  },
  {
   "cell_type": "markdown",
   "metadata": {},
   "source": [
    "filter 함수는 첫 번째 인수로 함수 이름을, 두 번째 인수로 그 함수에 차례로 들어갈 반복 가능한 자료형을 받는다. 그리고 두 번째 인수인 반복 가능한 자료형 요소가 첫 번째 인수인 함수에 입력되었을 때 반환 값이 참인 것만 묶어서(걸러 내서) 돌려준다."
   ]
  },
  {
   "cell_type": "code",
   "execution_count": 66,
   "metadata": {},
   "outputs": [
    {
     "name": "stdout",
     "output_type": "stream",
     "text": [
      "[1, 2, 6]\n"
     ]
    }
   ],
   "source": [
    "def positive(l): \n",
    "    result = [] \n",
    "    for i in l: \n",
    "        if i > 0: \n",
    "            result.append(i) \n",
    "    return result\n",
    "\n",
    "print(positive([1,-3,2,0,-5,6]))"
   ]
  },
  {
   "cell_type": "code",
   "execution_count": 67,
   "metadata": {},
   "outputs": [
    {
     "name": "stdout",
     "output_type": "stream",
     "text": [
      "[1, 2, 6]\n"
     ]
    }
   ],
   "source": [
    "#filter1.py\n",
    "#filter함수 사용\n",
    "def positive(x):\n",
    "    return x > 0\n",
    "\n",
    "print(list(filter(positive, [1, -3, 2, 0, -5, 6])))"
   ]
  },
  {
   "cell_type": "code",
   "execution_count": 68,
   "metadata": {},
   "outputs": [
    {
     "data": {
      "text/plain": [
       "[1, 2, 6]"
      ]
     },
     "execution_count": 68,
     "metadata": {},
     "output_type": "execute_result"
    }
   ],
   "source": [
    "list(filter(lambda x: x > 0, [1, -3, 2, 0, -5, 6]))"
   ]
  },
  {
   "cell_type": "code",
   "execution_count": 70,
   "metadata": {},
   "outputs": [
    {
     "data": {
      "text/plain": [
       "'0xea'"
      ]
     },
     "execution_count": 70,
     "metadata": {},
     "output_type": "execute_result"
    }
   ],
   "source": [
    "hex(234)\n",
    "# 정수 값을 입력받아 16진수로 변환하여 돌려준다"
   ]
  },
  {
   "cell_type": "code",
   "execution_count": 72,
   "metadata": {},
   "outputs": [
    {
     "name": "stdout",
     "output_type": "stream",
     "text": [
      "1672468326768\n",
      "1672468326768\n",
      "1672468326800\n"
     ]
    }
   ],
   "source": [
    "a = 3\n",
    "print(id(3))\n",
    "print(id(a))\n",
    "print(id(4))\n",
    "# 객체의 고유 주소 값을 돌려주는 함수"
   ]
  },
  {
   "cell_type": "code",
   "execution_count": 73,
   "metadata": {},
   "outputs": [
    {
     "name": "stdout",
     "output_type": "stream",
     "text": [
      "3\n",
      "3\n"
     ]
    }
   ],
   "source": [
    "print(int('3'))\n",
    "print(int(3.4))\n",
    "#문자열 형태의 숫자나 소수점이 있는 숫자 등을 정수 형태로 돌려준다."
   ]
  },
  {
   "cell_type": "markdown",
   "metadata": {},
   "source": [
    "int(x, radix)는 radix 진수로 표현된 문자열 x를 10진수로 변환하여 돌려준다."
   ]
  },
  {
   "cell_type": "code",
   "execution_count": 1,
   "metadata": {},
   "outputs": [
    {
     "data": {
      "text/plain": [
       "3"
      ]
     },
     "execution_count": 1,
     "metadata": {},
     "output_type": "execute_result"
    }
   ],
   "source": [
    "int('11', 2)\n",
    "# 2진수로 표현된 11의 10진수"
   ]
  },
  {
   "cell_type": "markdown",
   "metadata": {},
   "source": [
    "isinstance(object, class )는 첫 번째 인수로 인스턴스, 두 번째 인수로 클래스 이름을 받는다. 입력으로 받은 인스턴스가 그 클래스의 인스턴스인지를 판단하여 참이면 True, 거짓이면 False를 돌려준다."
   ]
  },
  {
   "cell_type": "code",
   "execution_count": 2,
   "metadata": {},
   "outputs": [
    {
     "data": {
      "text/plain": [
       "True"
      ]
     },
     "execution_count": 2,
     "metadata": {},
     "output_type": "execute_result"
    }
   ],
   "source": [
    "class Person: pass\n",
    "\n",
    "a = Person()\n",
    "isinstance(a, Person)"
   ]
  },
  {
   "cell_type": "code",
   "execution_count": 3,
   "metadata": {},
   "outputs": [
    {
     "data": {
      "text/plain": [
       "False"
      ]
     },
     "execution_count": 3,
     "metadata": {},
     "output_type": "execute_result"
    }
   ],
   "source": [
    "b = 3\n",
    "isinstance(b, Person)"
   ]
  },
  {
   "cell_type": "code",
   "execution_count": 4,
   "metadata": {},
   "outputs": [
    {
     "data": {
      "text/plain": [
       "6"
      ]
     },
     "execution_count": 4,
     "metadata": {},
     "output_type": "execute_result"
    }
   ],
   "source": [
    "len(\"python\")\n",
    "# 입력값의 길이(요소의 전체 개수)를 돌려주는 함수"
   ]
  },
  {
   "cell_type": "code",
   "execution_count": 7,
   "metadata": {},
   "outputs": [
    {
     "name": "stdout",
     "output_type": "stream",
     "text": [
      "['p', 'y', 't', 'h', 'o', 'n']\n",
      "[1, 2, 3]\n"
     ]
    }
   ],
   "source": [
    "print(list(\"python\"))\n",
    "# 반복 가능한 자료형을 입력받아 리스트로 만들어 돌려주는 함수\n",
    "print(list((1,2,3)))"
   ]
  },
  {
   "cell_type": "code",
   "execution_count": 8,
   "metadata": {},
   "outputs": [
    {
     "data": {
      "text/plain": [
       "[1, 2, 3]"
      ]
     },
     "execution_count": 8,
     "metadata": {},
     "output_type": "execute_result"
    }
   ],
   "source": [
    "a = [1, 2, 3]\n",
    "b = list(a) #리스트 복사\n",
    "b"
   ]
  },
  {
   "cell_type": "markdown",
   "metadata": {},
   "source": [
    "map(f, iterable)은 함수(f)와 반복 가능한(iterable) 자료형을 입력으로 받는다. map은 입력받은 자료형의 각 요소를 함수 f가 수행한 결과를 묶어서 돌려주는 함수이다."
   ]
  },
  {
   "cell_type": "code",
   "execution_count": 9,
   "metadata": {},
   "outputs": [
    {
     "name": "stdout",
     "output_type": "stream",
     "text": [
      "[2, 4, 6, 8]\n"
     ]
    }
   ],
   "source": [
    "def two_times(numberList):\n",
    "    result = [ ]\n",
    "    for number in numberList:\n",
    "        result.append(number*2)\n",
    "    return result\n",
    "\n",
    "result = two_times([1, 2, 3, 4])\n",
    "print(result)"
   ]
  },
  {
   "cell_type": "code",
   "execution_count": 10,
   "metadata": {},
   "outputs": [
    {
     "data": {
      "text/plain": [
       "[2, 4, 6, 8]"
      ]
     },
     "execution_count": 10,
     "metadata": {},
     "output_type": "execute_result"
    }
   ],
   "source": [
    "# map함수 이용\n",
    "def two_times(x):\n",
    "    return x * 2\n",
    "\n",
    "list(map(two_times, [1, 2, 3, 4]))"
   ]
  },
  {
   "cell_type": "code",
   "execution_count": 11,
   "metadata": {},
   "outputs": [
    {
     "data": {
      "text/plain": [
       "[2, 4, 6, 8]"
      ]
     },
     "execution_count": 11,
     "metadata": {},
     "output_type": "execute_result"
    }
   ],
   "source": [
    "# lambda 사용\n",
    "list(map(lambda a: a*2, [1, 2, 3, 4]))"
   ]
  },
  {
   "cell_type": "code",
   "execution_count": 12,
   "metadata": {},
   "outputs": [],
   "source": [
    "# max, min: 최대, 최솟값"
   ]
  },
  {
   "cell_type": "code",
   "execution_count": 13,
   "metadata": {},
   "outputs": [
    {
     "data": {
      "text/plain": [
       "'0o42'"
      ]
     },
     "execution_count": 13,
     "metadata": {},
     "output_type": "execute_result"
    }
   ],
   "source": [
    "oct(34)\n",
    "# 정수 형태의 숫자를 8진수 문자열로 바꾸어 돌려준다"
   ]
  },
  {
   "cell_type": "code",
   "execution_count": 14,
   "metadata": {},
   "outputs": [
    {
     "data": {
      "text/plain": [
       "97"
      ]
     },
     "execution_count": 14,
     "metadata": {},
     "output_type": "execute_result"
    }
   ],
   "source": [
    "ord('a')\n",
    "# 문자의 유니코드 값을 돌려준다(chr 함수와 반대)"
   ]
  },
  {
   "cell_type": "code",
   "execution_count": 15,
   "metadata": {},
   "outputs": [
    {
     "data": {
      "text/plain": [
       "16"
      ]
     },
     "execution_count": 15,
     "metadata": {},
     "output_type": "execute_result"
    }
   ],
   "source": [
    "pow(2, 4)\n",
    "# x의 y 제곱한 결괏값을 돌려준다"
   ]
  },
  {
   "cell_type": "code",
   "execution_count": 17,
   "metadata": {},
   "outputs": [
    {
     "data": {
      "text/plain": [
       "[0, 1, 2, 3, 4]"
      ]
     },
     "execution_count": 17,
     "metadata": {},
     "output_type": "execute_result"
    }
   ],
   "source": [
    "list(range(5)) #0부터 시작"
   ]
  },
  {
   "cell_type": "code",
   "execution_count": 18,
   "metadata": {},
   "outputs": [
    {
     "data": {
      "text/plain": [
       "[5, 6, 7, 8, 9]"
      ]
     },
     "execution_count": 18,
     "metadata": {},
     "output_type": "execute_result"
    }
   ],
   "source": [
    "list(range(5, 10)) # 5-9"
   ]
  },
  {
   "cell_type": "code",
   "execution_count": 20,
   "metadata": {},
   "outputs": [
    {
     "data": {
      "text/plain": [
       "[1, 3, 5, 7, 9]"
      ]
     },
     "execution_count": 20,
     "metadata": {},
     "output_type": "execute_result"
    }
   ],
   "source": [
    "list(range(1, 10, 2))\n",
    "# 세 번째 인수는 숫자 사이의 거리"
   ]
  },
  {
   "cell_type": "code",
   "execution_count": 21,
   "metadata": {},
   "outputs": [
    {
     "name": "stdout",
     "output_type": "stream",
     "text": [
      "5\n",
      "5.68\n"
     ]
    }
   ],
   "source": [
    "print(round(4.6)) #반올림\n",
    "print(round(5.678, 2)) #소수점 2자리까지만 반올림"
   ]
  },
  {
   "cell_type": "code",
   "execution_count": 23,
   "metadata": {},
   "outputs": [
    {
     "name": "stdout",
     "output_type": "stream",
     "text": [
      "[1, 2, 3]\n",
      "[1, 2, 3]\n",
      "['e', 'o', 'r', 'z']\n"
     ]
    }
   ],
   "source": [
    "print(sorted([3, 1, 2]))\n",
    "print(sorted((3, 2, 1)))\n",
    "print(sorted(\"zero\"))\n",
    "\n",
    "# 입력값을 정렬한 후 그 결과를 리스트로 돌려줌\n",
    "# 리스트 자료형에 있는 sort함수는 객체 그 자체를 정렬만 하지 정렬의 결과는 돌려주지 않음"
   ]
  },
  {
   "cell_type": "code",
   "execution_count": 24,
   "metadata": {},
   "outputs": [
    {
     "data": {
      "text/plain": [
       "'HI'"
      ]
     },
     "execution_count": 24,
     "metadata": {},
     "output_type": "execute_result"
    }
   ],
   "source": [
    "str(3)\n",
    "str('hi'.upper())\n",
    "# 문자열 형태로 객체를 변환하여 돌려준다"
   ]
  },
  {
   "cell_type": "code",
   "execution_count": 25,
   "metadata": {},
   "outputs": [
    {
     "data": {
      "text/plain": [
       "15"
      ]
     },
     "execution_count": 25,
     "metadata": {},
     "output_type": "execute_result"
    }
   ],
   "source": [
    "sum([1,2,3])\n",
    "sum((4,5,6))\n",
    "# 리스트나 튜플의 모든 요소의 합"
   ]
  },
  {
   "cell_type": "code",
   "execution_count": 26,
   "metadata": {},
   "outputs": [
    {
     "data": {
      "text/plain": [
       "('a', 'b', 'c')"
      ]
     },
     "execution_count": 26,
     "metadata": {},
     "output_type": "execute_result"
    }
   ],
   "source": [
    "tuple(\"abc\")\n",
    "#반복 가능한 자료형을 입력받아 튜플 형태로 바꾸어 돌려준다.\n",
    "#튜플이 입력되면 그대로 돌려준다"
   ]
  },
  {
   "cell_type": "code",
   "execution_count": 27,
   "metadata": {},
   "outputs": [
    {
     "data": {
      "text/plain": [
       "str"
      ]
     },
     "execution_count": 27,
     "metadata": {},
     "output_type": "execute_result"
    }
   ],
   "source": [
    "type(\"abc\")\n",
    "#자료형이 무엇인지 알려주는 함수"
   ]
  },
  {
   "cell_type": "markdown",
   "metadata": {},
   "source": [
    "`zip(*iterable)`은 동일한 개수로 이루어진 자료형을 묶어 주는 역할을 하는 함수이다.\n",
    "> ※ 여기서 사용한 `*iterable`은 반복 가능(iterable)한 자료형 여러 개를 입력할 수 있다는 의미이다."
   ]
  },
  {
   "cell_type": "code",
   "execution_count": 29,
   "metadata": {},
   "outputs": [
    {
     "data": {
      "text/plain": [
       "[(1, 4), (2, 5), (3, 6)]"
      ]
     },
     "execution_count": 29,
     "metadata": {},
     "output_type": "execute_result"
    }
   ],
   "source": [
    "list(zip([1,2,3], [4,5,6]))"
   ]
  },
  {
   "cell_type": "code",
   "execution_count": 30,
   "metadata": {},
   "outputs": [
    {
     "data": {
      "text/plain": [
       "[('a', 'd'), ('b', 'e'), ('c', 'f')]"
      ]
     },
     "execution_count": 30,
     "metadata": {},
     "output_type": "execute_result"
    }
   ],
   "source": [
    "list(zip(\"abc\", \"def\"))"
   ]
  },
  {
   "cell_type": "markdown",
   "metadata": {},
   "source": [
    "## 5-6. 라이브러리\n",
    "전 세계의 파이썬 사용자들이 만든 유용한 프로그램을 모아 놓은 것  \n",
    "> 파이썬 라이브러리는 파이썬을 설치할 때 자동으로 설치됨"
   ]
  },
  {
   "cell_type": "markdown",
   "metadata": {},
   "source": [
    "##### sys\n",
    "파이썬 인터프리터가 제공하는 변수와 함수를 직접 제어할 수 있게 해주는 모듈\n",
    "\n",
    "**명령 행에서 인수 전달 - sys.argv**\n"
   ]
  },
  {
   "cell_type": "code",
   "execution_count": 32,
   "metadata": {},
   "outputs": [
    {
     "name": "stdout",
     "output_type": "stream",
     "text": [
      "['C:\\\\Users\\\\sumin\\\\AppData\\\\Local\\\\Programs\\\\Python\\\\Python39\\\\lib\\\\site-packages\\\\ipykernel_launcher.py', '--ip=127.0.0.1', '--stdin=9003', '--control=9001', '--hb=9000', '--Session.signature_scheme=\"hmac-sha256\"', '--Session.key=b\"d9bdf29c-d5e5-4884-be79-444b986ea555\"', '--shell=9002', '--transport=\"tcp\"', '--iopub=9004', '--f=C:\\\\Users\\\\sumin\\\\AppData\\\\Local\\\\Temp\\\\tmp-5828poiIHTW0lTTF.json']\n"
     ]
    }
   ],
   "source": [
    "# argv_test.py\n",
    "import sys\n",
    "print(sys.argv)\n",
    "\n",
    "## 명령 프롬프트 창에서 열고 값을 넣어주면 sys.argv 리스트에 그 값이 추가 된다"
   ]
  },
  {
   "cell_type": "markdown",
   "metadata": {},
   "source": [
    "**강제로 스크립트 종료하기 - sys.exit**\n",
    "\n",
    "`sys.exit`는 `Ctrl+Z`나 `Ctrl+D`를 눌러서 대화형 인터프리터를 종료하는 것과 같은 기능을 한다. 프로그램 파일 안에서 사용하면 프로그램을 중단시킨다."
   ]
  },
  {
   "cell_type": "code",
   "execution_count": 33,
   "metadata": {},
   "outputs": [
    {
     "ename": "SystemExit",
     "evalue": "",
     "output_type": "error",
     "traceback": [
      "An exception has occurred, use %tb to see the full traceback.\n",
      "\u001b[1;31mSystemExit\u001b[0m\n"
     ]
    },
    {
     "name": "stderr",
     "output_type": "stream",
     "text": [
      "C:\\Users\\sumin\\AppData\\Local\\Programs\\Python\\Python39\\lib\\site-packages\\IPython\\core\\interactiveshell.py:3259: UserWarning: To exit: use 'exit', 'quit', or Ctrl-D.\n",
      "  warn(\"To exit: use 'exit', 'quit', or Ctrl-D.\", stacklevel=1)\n"
     ]
    }
   ],
   "source": [
    "sys.exit()"
   ]
  },
  {
   "cell_type": "markdown",
   "metadata": {},
   "source": [
    "**자신이 만든 모듈 불러와 사용하기 - sys.path**\n",
    "\n",
    "sys.path는 파이썬 모듈들이 저장되어 있는 위치를 나타낸다. 즉 이 위치에 있는 파이썬 모듈은 경로에 상관없이 어디에서나 불러올 수 있다."
   ]
  },
  {
   "cell_type": "code",
   "execution_count": 34,
   "metadata": {},
   "outputs": [
    {
     "data": {
      "text/plain": [
       "['c:\\\\Users\\\\sumin\\\\OneDrive\\\\바탕 화면\\\\python_test\\\\Chapter 5',\n",
       " 'C:\\\\Users\\\\sumin\\\\AppData\\\\Local\\\\Programs\\\\Python\\\\Python39\\\\python39.zip',\n",
       " 'C:\\\\Users\\\\sumin\\\\AppData\\\\Local\\\\Programs\\\\Python\\\\Python39\\\\DLLs',\n",
       " 'C:\\\\Users\\\\sumin\\\\AppData\\\\Local\\\\Programs\\\\Python\\\\Python39\\\\lib',\n",
       " 'C:\\\\Users\\\\sumin\\\\AppData\\\\Local\\\\Programs\\\\Python\\\\Python39',\n",
       " '',\n",
       " 'C:\\\\Users\\\\sumin\\\\AppData\\\\Roaming\\\\Python\\\\Python39\\\\site-packages',\n",
       " 'C:\\\\Users\\\\sumin\\\\AppData\\\\Local\\\\Programs\\\\Python\\\\Python39\\\\lib\\\\site-packages',\n",
       " 'C:\\\\Users\\\\sumin\\\\AppData\\\\Local\\\\Programs\\\\Python\\\\Python39\\\\lib\\\\site-packages\\\\win32',\n",
       " 'C:\\\\Users\\\\sumin\\\\AppData\\\\Local\\\\Programs\\\\Python\\\\Python39\\\\lib\\\\site-packages\\\\win32\\\\lib',\n",
       " 'C:\\\\Users\\\\sumin\\\\AppData\\\\Local\\\\Programs\\\\Python\\\\Python39\\\\lib\\\\site-packages\\\\Pythonwin']"
      ]
     },
     "execution_count": 34,
     "metadata": {},
     "output_type": "execute_result"
    }
   ],
   "source": [
    "import sys\n",
    "sys.path"
   ]
  },
  {
   "cell_type": "code",
   "execution_count": 35,
   "metadata": {},
   "outputs": [],
   "source": [
    "# path_append.py\n",
    "import sys\n",
    "sys.path.append(\"C:/doit/game\")\n",
    "\n",
    "# 경로 이름을 추가할 수 있다.\n",
    "# 이후에는 해당 디렉터리에 있는 파이썬 모듈을 불러와서 사용할 수 있다."
   ]
  },
  {
   "cell_type": "markdown",
   "metadata": {},
   "source": [
    "##### pickle\n",
    "객체의 형태를 그대로 유지하면서 파일에 저장하고 불러올 수 있게 하는 모듈"
   ]
  },
  {
   "cell_type": "code",
   "execution_count": 37,
   "metadata": {},
   "outputs": [],
   "source": [
    "import pickle\n",
    "f = open(\"test.txt\", 'wb')\n",
    "data = {1:'python', 2:'you need'}\n",
    "pickle.dump(data, f) #파일에 그대로 저장\n",
    "f.close()"
   ]
  },
  {
   "cell_type": "code",
   "execution_count": 39,
   "metadata": {},
   "outputs": [
    {
     "name": "stdout",
     "output_type": "stream",
     "text": [
      "{1: 'python', 2: 'you need'}\n"
     ]
    }
   ],
   "source": [
    "import pickle\n",
    "f = open(\"test.txt\", 'rb')\n",
    "data = pickle.load(f) #원래 딕셔너리 상태 그대로 불러온다\n",
    "print(data)"
   ]
  },
  {
   "cell_type": "markdown",
   "metadata": {},
   "source": [
    "##### os\n",
    "환경 변수나 디렉터리, 파일 등 os자원을 제어할 수 있게 해주는 모듈\n",
    "\n",
    "**내 시스템의 환경 변수 값을 알고 싶을 때 - os.environ**"
   ]
  },
  {
   "cell_type": "code",
   "execution_count": 40,
   "metadata": {},
   "outputs": [
    {
     "data": {
      "text/plain": [
       "environ{'ALLUSERSPROFILE': 'C:\\\\ProgramData',\n",
       "        'APPDATA': 'C:\\\\Users\\\\sumin\\\\AppData\\\\Roaming',\n",
       "        'APPLICATION_INSIGHTS_NO_DIAGNOSTIC_CHANNEL': '1',\n",
       "        'CHROME_CRASHPAD_PIPE_NAME': '\\\\\\\\.\\\\pipe\\\\crashpad_19876_XHSNNXDEMGHQGSAP',\n",
       "        'COMMONPROGRAMFILES': 'C:\\\\Program Files\\\\Common Files',\n",
       "        'COMMONPROGRAMFILES(X86)': 'C:\\\\Program Files (x86)\\\\Common Files',\n",
       "        'COMMONPROGRAMW6432': 'C:\\\\Program Files\\\\Common Files',\n",
       "        'COMPUTERNAME': 'DESKTOP-JF8132T',\n",
       "        'COMSPEC': 'C:\\\\WINDOWS\\\\system32\\\\cmd.exe',\n",
       "        'CONFIGSETROOT': 'C:\\\\WINDOWS\\\\ConfigSetRoot',\n",
       "        'DRIVERDATA': 'C:\\\\Windows\\\\System32\\\\Drivers\\\\DriverData',\n",
       "        'ELECTRON_RUN_AS_NODE': '1',\n",
       "        'GOOGLE_API_KEY': 'no',\n",
       "        'GOOGLE_DEFAULT_CLIENT_ID': 'no',\n",
       "        'GOOGLE_DEFAULT_CLIENT_SECRET': 'no',\n",
       "        'HOMEDRIVE': 'C:',\n",
       "        'HOMEPATH': '\\\\Users\\\\sumin',\n",
       "        'JAVA_HOME': 'C:/Users/sumin/corretto/jdk11.0.13_8',\n",
       "        'JPY_INTERRUPT_EVENT': '2476',\n",
       "        'LOCALAPPDATA': 'C:\\\\Users\\\\sumin\\\\AppData\\\\Local',\n",
       "        'LOGONSERVER': '\\\\\\\\DESKTOP-JF8132T',\n",
       "        'NUMBER_OF_PROCESSORS': '8',\n",
       "        'ONEDRIVE': 'C:\\\\Users\\\\sumin\\\\OneDrive',\n",
       "        'ORIGINAL_XDG_CURRENT_DESKTOP': 'undefined',\n",
       "        'OS': 'Windows_NT',\n",
       "        'PATH': '\"C:\\\\Program Files (x86)\\\\Intel\\\\Intel(R) Management Engine Components\\\\iCLS\\\\ ;C:\\\\Windows\\\\System32\\\\SAS Software Depot\\\\\";C:\\\\Program Files\\\\Intel\\\\Intel(R) Management Engine Components\\\\iCLS\\\\;C:\\\\WINDOWS\\\\system32;C:\\\\WINDOWS;C:\\\\WINDOWS\\\\System32\\\\Wbem;C:\\\\WINDOWS\\\\System32\\\\WindowsPowerShell\\\\v1.0\\\\;C:\\\\WINDOWS\\\\System32\\\\OpenSSH\\\\;C:\\\\Program Files (x86)\\\\Intel\\\\Intel(R) Management Engine Components\\\\DAL;C:\\\\Program Files\\\\Intel\\\\Intel(R) Management Engine Components\\\\DAL;C:\\\\Users\\\\sumin\\\\OneDrive\\\\바탕 화면\\\\SASFoundation\\\\9.4\\\\ets\\\\sasexe;C:\\\\;sers\\\\sumin\\\\OneDrive\\\\바탕 화면\\\\Secure\\\\ccme4;C:\\\\;sers\\\\sumin\\\\OneDrive\\\\바탕 화면\\\\x86\\\\Secure\\\\ccme4;C:\\\\;sers\\\\sumin\\\\OneDrive\\\\바탕 화면\\\\SASFoundation\\\\9.4\\\\core\\\\sasexe;;C:;Program Files\\\\Git\\\\cmd;C:\\\\Program Files\\\\Microsoft VS Code\\\\bin;C:\\\\Program Files\\\\Git\\\\cmd;C:/Users/sumin/corretto/jdk11.0.13_8\\\\bin;C:\\\\Program Files\\\\R\\\\R-4.1.1\\\\bin\\\\x64;\"C:\\\\Program Files (x86)\\\\Intel\\\\Intel(R) Management Engine Components\\\\iCLS\\\\ ;C:\\\\Windows\\\\System32\\\\SAS Software Depot\\\\\";C:\\\\Program Files\\\\Intel\\\\Intel(R) Management Engine Components\\\\iCLS\\\\;C:\\\\WINDOWS\\\\system32;C:\\\\WINDOWS;C:\\\\WINDOWS\\\\System32\\\\Wbem;C:\\\\WINDOWS\\\\System32\\\\WindowsPowerShell\\\\v1.0\\\\;C:\\\\WINDOWS\\\\System32\\\\OpenSSH\\\\;C:\\\\Program Files (x86)\\\\Intel\\\\Intel(R) Management Engine Components\\\\DAL;C:\\\\Program Files\\\\Intel\\\\Intel(R) Management Engine Components\\\\DAL;C:\\\\Users\\\\sumin\\\\OneDrive\\\\諛뷀깢 <ed>솕硫<b4>\\\\SASFoundation\\\\9.4\\\\ets\\\\sasexe;C:\\\\Users\\\\sumin\\\\OneDrive\\\\諛뷀깢 <ed>솕硫<b4>\\\\Secure\\\\ccme4;C:\\\\Users\\\\sumin\\\\OneDrive\\\\諛뷀깢 <ed>솕硫<b4>\\\\x86\\\\Secure\\\\ccme4;C:\\\\Users\\\\sumin\\\\OneDrive\\\\諛뷀깢 <ed>솕硫<b4>\\\\SASFoundation\\\\9.4\\\\core\\\\sasexe;C:\\\\Users\\\\sumin\\\\anaconda3;C:\\\\Users\\\\sumin\\\\anaconda3\\\\Library\\\\mingw-w64\\\\bin;C:\\\\Users\\\\sumin\\\\anaconda3\\\\Library\\\\usr\\\\bin;C:\\\\Users\\\\sumin\\\\anaconda3\\\\Library\\\\bin;C:\\\\Users\\\\sumin\\\\anaconda3\\\\Scripts;C:\\\\Users\\\\sumin\\\\AppData\\\\Local\\\\Programs\\\\Python\\\\Python39\\\\Scripts\\\\;C:\\\\Users\\\\sumin\\\\AppData\\\\Local\\\\Progr;C:\\\\Program Files\\\\JetBrains\\\\PyCharm Community Edition 2021.3.2\\\\bin;',\n",
       "        'PATHEXT': '.COM;.EXE;.BAT;.CMD;.VBS;.VBE;.JS;.JSE;.WSF;.WSH;.MSC',\n",
       "        'PROCESSOR_ARCHITECTURE': 'AMD64',\n",
       "        'PROCESSOR_IDENTIFIER': 'Intel64 Family 6 Model 142 Stepping 11, GenuineIntel',\n",
       "        'PROCESSOR_LEVEL': '6',\n",
       "        'PROCESSOR_REVISION': '8e0b',\n",
       "        'PROGRAMDATA': 'C:\\\\ProgramData',\n",
       "        'PROGRAMFILES': 'C:\\\\Program Files',\n",
       "        'PROGRAMFILES(X86)': 'C:\\\\Program Files (x86)',\n",
       "        'PROGRAMW6432': 'C:\\\\Program Files',\n",
       "        'PSMODULEPATH': 'C:\\\\Program Files\\\\WindowsPowerShell\\\\Modules;C:\\\\WINDOWS\\\\system32\\\\WindowsPowerShell\\\\v1.0\\\\Modules',\n",
       "        'PUBLIC': 'C:\\\\Users\\\\Public',\n",
       "        'PYCHARM COMMUNITY EDITION': 'C:\\\\Program Files\\\\JetBrains\\\\PyCharm Community Edition 2021.3.2\\\\bin;',\n",
       "        'PYTHONIOENCODING': 'utf-8',\n",
       "        'PYTHONUNBUFFERED': '1',\n",
       "        'SESSIONNAME': 'Console',\n",
       "        'SYSTEMDRIVE': 'C:',\n",
       "        'SYSTEMROOT': 'C:\\\\WINDOWS',\n",
       "        'TEMP': 'C:\\\\Users\\\\sumin\\\\AppData\\\\Local\\\\Temp',\n",
       "        'TMP': 'C:\\\\Users\\\\sumin\\\\AppData\\\\Local\\\\Temp',\n",
       "        'USERDOMAIN': 'DESKTOP-JF8132T',\n",
       "        'USERDOMAIN_ROAMINGPROFILE': 'DESKTOP-JF8132T',\n",
       "        'USERNAME': 'sumin',\n",
       "        'USERPROFILE': 'C:\\\\Users\\\\sumin',\n",
       "        'VSCODE_AMD_ENTRYPOINT': 'vs/workbench/services/extensions/node/extensionHostProcess',\n",
       "        'VSCODE_CODE_CACHE_PATH': 'C:\\\\Users\\\\sumin\\\\AppData\\\\Roaming\\\\Code\\\\CachedData\\\\f80445acd5a3dadef24aa209168452a3d97cc326',\n",
       "        'VSCODE_CWD': 'C:\\\\Program Files\\\\Microsoft VS Code',\n",
       "        'VSCODE_HANDLES_UNCAUGHT_ERRORS': 'true',\n",
       "        'VSCODE_IPC_HOOK': '\\\\\\\\.\\\\pipe\\\\c9b7ed47fbf9e656250e1d4d5049d368-1.64.2-main-sock',\n",
       "        'VSCODE_IPC_HOOK_EXTHOST': '\\\\\\\\.\\\\pipe\\\\vscode-ipc-4477d551-17a7-4f60-b1bf-c393d9cd80e4-sock',\n",
       "        'VSCODE_LOG_NATIVE': 'false',\n",
       "        'VSCODE_LOG_STACK': 'false',\n",
       "        'VSCODE_NLS_CONFIG': '{\"locale\":\"ko\",\"availableLanguages\":{},\"_languagePackSupport\":true}',\n",
       "        'VSCODE_PID': '19876',\n",
       "        'VSCODE_PIPE_LOGGING': 'true',\n",
       "        'VSCODE_VERBOSE_LOGGING': 'true',\n",
       "        'WINDIR': 'C:\\\\WINDOWS',\n",
       "        'PYDEVD_USE_FRAME_EVAL': 'NO',\n",
       "        'TERM': 'xterm-color',\n",
       "        'CLICOLOR': '1',\n",
       "        'PAGER': 'cat',\n",
       "        'GIT_PAGER': 'cat',\n",
       "        'MPLBACKEND': 'module://matplotlib_inline.backend_inline'}"
      ]
     },
     "execution_count": 40,
     "metadata": {},
     "output_type": "execute_result"
    }
   ],
   "source": [
    "import os\n",
    "os.environ \n",
    "# 시스템 정보, 딕셔너리 객체로 돌려준다."
   ]
  },
  {
   "cell_type": "code",
   "execution_count": 41,
   "metadata": {},
   "outputs": [
    {
     "data": {
      "text/plain": [
       "'\"C:\\\\Program Files (x86)\\\\Intel\\\\Intel(R) Management Engine Components\\\\iCLS\\\\ ;C:\\\\Windows\\\\System32\\\\SAS Software Depot\\\\\";C:\\\\Program Files\\\\Intel\\\\Intel(R) Management Engine Components\\\\iCLS\\\\;C:\\\\WINDOWS\\\\system32;C:\\\\WINDOWS;C:\\\\WINDOWS\\\\System32\\\\Wbem;C:\\\\WINDOWS\\\\System32\\\\WindowsPowerShell\\\\v1.0\\\\;C:\\\\WINDOWS\\\\System32\\\\OpenSSH\\\\;C:\\\\Program Files (x86)\\\\Intel\\\\Intel(R) Management Engine Components\\\\DAL;C:\\\\Program Files\\\\Intel\\\\Intel(R) Management Engine Components\\\\DAL;C:\\\\Users\\\\sumin\\\\OneDrive\\\\바탕 화면\\\\SASFoundation\\\\9.4\\\\ets\\\\sasexe;C:\\\\;sers\\\\sumin\\\\OneDrive\\\\바탕 화면\\\\Secure\\\\ccme4;C:\\\\;sers\\\\sumin\\\\OneDrive\\\\바탕 화면\\\\x86\\\\Secure\\\\ccme4;C:\\\\;sers\\\\sumin\\\\OneDrive\\\\바탕 화면\\\\SASFoundation\\\\9.4\\\\core\\\\sasexe;;C:;Program Files\\\\Git\\\\cmd;C:\\\\Program Files\\\\Microsoft VS Code\\\\bin;C:\\\\Program Files\\\\Git\\\\cmd;C:/Users/sumin/corretto/jdk11.0.13_8\\\\bin;C:\\\\Program Files\\\\R\\\\R-4.1.1\\\\bin\\\\x64;\"C:\\\\Program Files (x86)\\\\Intel\\\\Intel(R) Management Engine Components\\\\iCLS\\\\ ;C:\\\\Windows\\\\System32\\\\SAS Software Depot\\\\\";C:\\\\Program Files\\\\Intel\\\\Intel(R) Management Engine Components\\\\iCLS\\\\;C:\\\\WINDOWS\\\\system32;C:\\\\WINDOWS;C:\\\\WINDOWS\\\\System32\\\\Wbem;C:\\\\WINDOWS\\\\System32\\\\WindowsPowerShell\\\\v1.0\\\\;C:\\\\WINDOWS\\\\System32\\\\OpenSSH\\\\;C:\\\\Program Files (x86)\\\\Intel\\\\Intel(R) Management Engine Components\\\\DAL;C:\\\\Program Files\\\\Intel\\\\Intel(R) Management Engine Components\\\\DAL;C:\\\\Users\\\\sumin\\\\OneDrive\\\\諛뷀깢 <ed>솕硫<b4>\\\\SASFoundation\\\\9.4\\\\ets\\\\sasexe;C:\\\\Users\\\\sumin\\\\OneDrive\\\\諛뷀깢 <ed>솕硫<b4>\\\\Secure\\\\ccme4;C:\\\\Users\\\\sumin\\\\OneDrive\\\\諛뷀깢 <ed>솕硫<b4>\\\\x86\\\\Secure\\\\ccme4;C:\\\\Users\\\\sumin\\\\OneDrive\\\\諛뷀깢 <ed>솕硫<b4>\\\\SASFoundation\\\\9.4\\\\core\\\\sasexe;C:\\\\Users\\\\sumin\\\\anaconda3;C:\\\\Users\\\\sumin\\\\anaconda3\\\\Library\\\\mingw-w64\\\\bin;C:\\\\Users\\\\sumin\\\\anaconda3\\\\Library\\\\usr\\\\bin;C:\\\\Users\\\\sumin\\\\anaconda3\\\\Library\\\\bin;C:\\\\Users\\\\sumin\\\\anaconda3\\\\Scripts;C:\\\\Users\\\\sumin\\\\AppData\\\\Local\\\\Programs\\\\Python\\\\Python39\\\\Scripts\\\\;C:\\\\Users\\\\sumin\\\\AppData\\\\Local\\\\Progr;C:\\\\Program Files\\\\JetBrains\\\\PyCharm Community Edition 2021.3.2\\\\bin;'"
      ]
     },
     "execution_count": 41,
     "metadata": {},
     "output_type": "execute_result"
    }
   ],
   "source": [
    "os.environ['PATH']"
   ]
  },
  {
   "cell_type": "markdown",
   "metadata": {},
   "source": [
    "**디렉터리 위치 변경하기 - os.chdir**"
   ]
  },
  {
   "cell_type": "code",
   "execution_count": 42,
   "metadata": {},
   "outputs": [],
   "source": [
    "os.chdir(\"C:\\doit\")"
   ]
  },
  {
   "cell_type": "markdown",
   "metadata": {},
   "source": [
    "**디렉터리 위치 돌려받기 - os.getcwd**"
   ]
  },
  {
   "cell_type": "code",
   "execution_count": 43,
   "metadata": {},
   "outputs": [
    {
     "data": {
      "text/plain": [
       "'C:\\\\doit'"
      ]
     },
     "execution_count": 43,
     "metadata": {},
     "output_type": "execute_result"
    }
   ],
   "source": [
    "os.getcwd()"
   ]
  },
  {
   "cell_type": "markdown",
   "metadata": {},
   "source": [
    "**시스템 명령어 호출하기 - os.system**"
   ]
  },
  {
   "cell_type": "code",
   "execution_count": 44,
   "metadata": {},
   "outputs": [
    {
     "data": {
      "text/plain": [
       "0"
      ]
     },
     "execution_count": 44,
     "metadata": {},
     "output_type": "execute_result"
    }
   ],
   "source": [
    "os.system(\"dir\")"
   ]
  },
  {
   "cell_type": "markdown",
   "metadata": {},
   "source": [
    "**실행한 시스템 명령어의 결괏값 돌려받기 - os.popen**"
   ]
  },
  {
   "cell_type": "code",
   "execution_count": 46,
   "metadata": {},
   "outputs": [
    {
     "name": "stdout",
     "output_type": "stream",
     "text": [
      " C 드라이브의 볼륨에는 이름이 없습니다.\n",
      " 볼륨 일련 번호: 709D-5840\n",
      "\n",
      " C:\\doit 디렉터리\n",
      "\n",
      "2022-02-17  오후 11:53    <DIR>          .\n",
      "2022-02-17  오후 11:53    <DIR>          ..\n",
      "2022-02-10  오후 02:26               571 coffee.py\n",
      "2022-02-17  오후 11:51    <DIR>          game\n",
      "2022-02-17  오후 11:53                 0 hello.py\n",
      "2022-02-10  오후 02:22               235 marks1.py\n",
      "2022-02-17  오후 10:15                67 mod1.py\n",
      "2022-02-06  오후 06:03                53 multistring.py\n",
      "2022-02-15  오후 04:42                63 sys1.py\n",
      "2022-02-15  오후 04:51                78 sys2.py\n",
      "2022-02-13  오후 07:07               135 writedata.py\n",
      "2022-02-17  오후 10:20    <DIR>          __pycache__\n",
      "2022-02-14  오전 01:29               333 새파일.txt\n",
      "               9개 파일               1,535 바이트\n",
      "               4개 디렉터리  153,670,569,984 바이트 남음\n",
      "\n"
     ]
    }
   ],
   "source": [
    "f = os.popen(\"dir\")\n",
    "print(f.read())"
   ]
  },
  {
   "cell_type": "markdown",
   "metadata": {},
   "source": [
    "**기타 유용한 os 관련 함수**"
   ]
  },
  {
   "cell_type": "markdown",
   "metadata": {},
   "source": [
    "|함수\t|설명|\n",
    "|-------|------|\n",
    "|os.mkdir(디렉터리)|\t디렉터리를 생성한다.|\n",
    "|os.rmdir(디렉터리)|\t디렉터리를 삭제한다.단, 디렉터리가 비어있어야 삭제가 가능하다.|\n",
    "|os.unlink(파일)|\t파일을 지운다.|\n",
    "|os.rename(src, dst)|\tsrc라는 이름의 파일을 dst라는 이름으로 바꾼다.|"
   ]
  },
  {
   "cell_type": "markdown",
   "metadata": {},
   "source": [
    "##### shutil\n",
    "파일을 복사해 주는 파이썬 모듈"
   ]
  },
  {
   "cell_type": "code",
   "execution_count": 47,
   "metadata": {},
   "outputs": [
    {
     "ename": "FileNotFoundError",
     "evalue": "[Errno 2] No such file or directory: 'src.txt'",
     "output_type": "error",
     "traceback": [
      "\u001b[1;31m---------------------------------------------------------------------------\u001b[0m",
      "\u001b[1;31mFileNotFoundError\u001b[0m                         Traceback (most recent call last)",
      "\u001b[1;32mc:\\Users\\sumin\\OneDrive\\바탕 화면\\python_test\\Chapter 5\\Chapter 5.ipynb Cell 179'\u001b[0m in \u001b[0;36m<module>\u001b[1;34m\u001b[0m\n\u001b[0;32m      <a href='vscode-notebook-cell:/c%3A/Users/sumin/OneDrive/%EB%B0%94%ED%83%95%20%ED%99%94%EB%A9%B4/python_test/Chapter%205/Chapter%205.ipynb#ch0000180?line=0'>1</a>\u001b[0m \u001b[39mimport\u001b[39;00m \u001b[39mshutil\u001b[39;00m\n\u001b[1;32m----> <a href='vscode-notebook-cell:/c%3A/Users/sumin/OneDrive/%EB%B0%94%ED%83%95%20%ED%99%94%EB%A9%B4/python_test/Chapter%205/Chapter%205.ipynb#ch0000180?line=1'>2</a>\u001b[0m shutil\u001b[39m.\u001b[39;49mcopy(\u001b[39m\"\u001b[39;49m\u001b[39msrc.txt\u001b[39;49m\u001b[39m\"\u001b[39;49m, \u001b[39m\"\u001b[39;49m\u001b[39mdst.txt\u001b[39;49m\u001b[39m\"\u001b[39;49m)\n",
      "File \u001b[1;32m~\\AppData\\Local\\Programs\\Python\\Python39\\lib\\shutil.py:418\u001b[0m, in \u001b[0;36mcopy\u001b[1;34m(src, dst, follow_symlinks)\u001b[0m\n\u001b[0;32m    <a href='file:///~/AppData/Local/Programs/Python/Python39/lib/shutil.py?line=415'>416</a>\u001b[0m \u001b[39mif\u001b[39;00m os\u001b[39m.\u001b[39mpath\u001b[39m.\u001b[39misdir(dst):\n\u001b[0;32m    <a href='file:///~/AppData/Local/Programs/Python/Python39/lib/shutil.py?line=416'>417</a>\u001b[0m     dst \u001b[39m=\u001b[39m os\u001b[39m.\u001b[39mpath\u001b[39m.\u001b[39mjoin(dst, os\u001b[39m.\u001b[39mpath\u001b[39m.\u001b[39mbasename(src))\n\u001b[1;32m--> <a href='file:///~/AppData/Local/Programs/Python/Python39/lib/shutil.py?line=417'>418</a>\u001b[0m copyfile(src, dst, follow_symlinks\u001b[39m=\u001b[39;49mfollow_symlinks)\n\u001b[0;32m    <a href='file:///~/AppData/Local/Programs/Python/Python39/lib/shutil.py?line=418'>419</a>\u001b[0m copymode(src, dst, follow_symlinks\u001b[39m=\u001b[39mfollow_symlinks)\n\u001b[0;32m    <a href='file:///~/AppData/Local/Programs/Python/Python39/lib/shutil.py?line=419'>420</a>\u001b[0m \u001b[39mreturn\u001b[39;00m dst\n",
      "File \u001b[1;32m~\\AppData\\Local\\Programs\\Python\\Python39\\lib\\shutil.py:264\u001b[0m, in \u001b[0;36mcopyfile\u001b[1;34m(src, dst, follow_symlinks)\u001b[0m\n\u001b[0;32m    <a href='file:///~/AppData/Local/Programs/Python/Python39/lib/shutil.py?line=261'>262</a>\u001b[0m     os\u001b[39m.\u001b[39msymlink(os\u001b[39m.\u001b[39mreadlink(src), dst)\n\u001b[0;32m    <a href='file:///~/AppData/Local/Programs/Python/Python39/lib/shutil.py?line=262'>263</a>\u001b[0m \u001b[39melse\u001b[39;00m:\n\u001b[1;32m--> <a href='file:///~/AppData/Local/Programs/Python/Python39/lib/shutil.py?line=263'>264</a>\u001b[0m     \u001b[39mwith\u001b[39;00m \u001b[39mopen\u001b[39;49m(src, \u001b[39m'\u001b[39;49m\u001b[39mrb\u001b[39;49m\u001b[39m'\u001b[39;49m) \u001b[39mas\u001b[39;00m fsrc, \u001b[39mopen\u001b[39m(dst, \u001b[39m'\u001b[39m\u001b[39mwb\u001b[39m\u001b[39m'\u001b[39m) \u001b[39mas\u001b[39;00m fdst:\n\u001b[0;32m    <a href='file:///~/AppData/Local/Programs/Python/Python39/lib/shutil.py?line=264'>265</a>\u001b[0m         \u001b[39m# macOS\u001b[39;00m\n\u001b[0;32m    <a href='file:///~/AppData/Local/Programs/Python/Python39/lib/shutil.py?line=265'>266</a>\u001b[0m         \u001b[39mif\u001b[39;00m _HAS_FCOPYFILE:\n\u001b[0;32m    <a href='file:///~/AppData/Local/Programs/Python/Python39/lib/shutil.py?line=266'>267</a>\u001b[0m             \u001b[39mtry\u001b[39;00m:\n",
      "\u001b[1;31mFileNotFoundError\u001b[0m: [Errno 2] No such file or directory: 'src.txt'"
     ]
    }
   ],
   "source": [
    "import shutil\n",
    "shutil.copy(\"src.txt\", \"dst.txt\")\n",
    "\n",
    "# src라는 이름의 파일을 dst로 복사, \n",
    "# dst가 디렉터리 이름이면 파일 이름 src그대로 dst디렉터리에 복사하고 동일한 파일이 있으면 덮어쓴다."
   ]
  },
  {
   "cell_type": "markdown",
   "metadata": {},
   "source": [
    "##### glob\n",
    "특정 디렉터리에 있는 파일 이름 모두를 알아야 할 때\n",
    "\n",
    "**디렉터리에 있는 파일들을 리스트로 만들기 - glob(pathname)**"
   ]
  },
  {
   "cell_type": "code",
   "execution_count": 52,
   "metadata": {},
   "outputs": [
    {
     "data": {
      "text/plain": [
       "['c:/doit\\\\sys1.py', 'c:/doit\\\\sys2.py']"
      ]
     },
     "execution_count": 52,
     "metadata": {},
     "output_type": "execute_result"
    }
   ],
   "source": [
    "import glob\n",
    "glob.glob(\"c:/doit/sys*\")\n",
    "\n",
    "# doit디렉터리에 있는 파일 중 이름이 sys로 시작하는 파일을 모두 찾아 읽어들이는 예"
   ]
  },
  {
   "cell_type": "markdown",
   "metadata": {},
   "source": [
    "##### tempfile\n",
    "파일을 임시로 만들어서 사용할 때 유용.\n",
    "`tempfile.mkstemp()`는 중복되지 않는 임시 파일의 이름을 무작위로 만들어서 돌려준다.  \n",
    "`tempfile.TemporaryFile()`은 임시 저장 공간으로 사용할 파일 객체를 돌려준다. 이 파일은 기본적으로 바이너리 쓰기 모드(wb)를 갖는다. f.close()가 호출되면 이 파일 객체는 자동으로 사라진다.\n"
   ]
  },
  {
   "cell_type": "code",
   "execution_count": 53,
   "metadata": {},
   "outputs": [
    {
     "data": {
      "text/plain": [
       "(4, 'C:\\\\Users\\\\sumin\\\\AppData\\\\Local\\\\Temp\\\\tmp6nu77eom')"
      ]
     },
     "execution_count": 53,
     "metadata": {},
     "output_type": "execute_result"
    }
   ],
   "source": [
    "import tempfile\n",
    "filename = tempfile.mkstemp()\n",
    "filename"
   ]
  },
  {
   "cell_type": "code",
   "execution_count": 54,
   "metadata": {},
   "outputs": [],
   "source": [
    "import tempfile\n",
    "f = tempfile.TemporaryFile()\n",
    "f.close()"
   ]
  },
  {
   "cell_type": "markdown",
   "metadata": {},
   "source": [
    "##### time\n",
    "**time.time**  \n",
    "  \n",
    "UTC를 사용하여 현재 시간을 실수 형태로 돌려주는 함수로,\n",
    "1970년 1월 1일 0시 0분 0초를 기준으로 지난 시간을 초 단위로 돌려준다."
   ]
  },
  {
   "cell_type": "code",
   "execution_count": 55,
   "metadata": {},
   "outputs": [
    {
     "data": {
      "text/plain": [
       "1645164500.4785032"
      ]
     },
     "execution_count": 55,
     "metadata": {},
     "output_type": "execute_result"
    }
   ],
   "source": [
    "import time\n",
    "time.time()"
   ]
  },
  {
   "cell_type": "markdown",
   "metadata": {},
   "source": [
    "**time.localtime**  \n",
    "  \n",
    "time.time()이 돌려준 실수 값을 사용해 연도, 월, 일, 시, 분, 초, ... 의 형태로 바꾸어 주는 함수"
   ]
  },
  {
   "cell_type": "code",
   "execution_count": 56,
   "metadata": {},
   "outputs": [
    {
     "data": {
      "text/plain": [
       "time.struct_time(tm_year=2022, tm_mon=2, tm_mday=18, tm_hour=15, tm_min=9, tm_sec=26, tm_wday=4, tm_yday=49, tm_isdst=0)"
      ]
     },
     "execution_count": 56,
     "metadata": {},
     "output_type": "execute_result"
    }
   ],
   "source": [
    "time.localtime(time.time())"
   ]
  },
  {
   "cell_type": "markdown",
   "metadata": {},
   "source": [
    "**time.asctime**  \n",
    "  \n",
    "time.localtime에 의해서 반환된 튜플 형태의 값을 인수로 받아 날짜와 시간을 알아보기 쉬운 형태로 돌려주는 함수"
   ]
  },
  {
   "cell_type": "code",
   "execution_count": 57,
   "metadata": {},
   "outputs": [
    {
     "data": {
      "text/plain": [
       "'Fri Feb 18 15:10:34 2022'"
      ]
     },
     "execution_count": 57,
     "metadata": {},
     "output_type": "execute_result"
    }
   ],
   "source": [
    "time.asctime(time.localtime(time.time()))"
   ]
  },
  {
   "cell_type": "markdown",
   "metadata": {},
   "source": [
    "**time.ctime**  \n",
    "  \n",
    "== `time.asctime(time.localtime(time.time()))`\n",
    "  \n",
    "다른 점은 ctime은 항상 현재 시간만을 돌려준다는 점 "
   ]
  },
  {
   "cell_type": "code",
   "execution_count": 58,
   "metadata": {},
   "outputs": [
    {
     "data": {
      "text/plain": [
       "'Fri Feb 18 15:12:23 2022'"
      ]
     },
     "execution_count": 58,
     "metadata": {},
     "output_type": "execute_result"
    }
   ],
   "source": [
    "time.ctime()"
   ]
  },
  {
   "cell_type": "markdown",
   "metadata": {},
   "source": [
    "**time.strftime**  \n",
    "  \n",
    "`time.strftime('출력할 형식 포맷 코드', time.localtime(time.time()))`  \n",
    "시간에 관계된 것을 세밀하게 표현하는 여러가지 포맷코드를 제공한다.\n",
    "\n",
    "\n"
   ]
  },
  {
   "cell_type": "code",
   "execution_count": 60,
   "metadata": {},
   "outputs": [
    {
     "data": {
      "text/plain": [
       "'02/18/22'"
      ]
     },
     "execution_count": 60,
     "metadata": {},
     "output_type": "execute_result"
    }
   ],
   "source": [
    "import time\n",
    "time.strftime('%x', time.localtime(time.time()))\n",
    "#현재 설정된 로케일에 기반한 날짜 출력"
   ]
  },
  {
   "cell_type": "code",
   "execution_count": 61,
   "metadata": {},
   "outputs": [
    {
     "data": {
      "text/plain": [
       "'Fri Feb 18 15:14:05 2022'"
      ]
     },
     "execution_count": 61,
     "metadata": {},
     "output_type": "execute_result"
    }
   ],
   "source": [
    "time.strftime('%c', time.localtime(time.time()))\n",
    "#날짜와 시간을 출력"
   ]
  },
  {
   "cell_type": "markdown",
   "metadata": {},
   "source": [
    "**time.sleep**  \n",
    "  \n",
    "주로 루프 안에서 많이 사용한다."
   ]
  },
  {
   "cell_type": "code",
   "execution_count": 62,
   "metadata": {},
   "outputs": [
    {
     "name": "stdout",
     "output_type": "stream",
     "text": [
      "0\n",
      "1\n",
      "2\n",
      "3\n",
      "4\n",
      "5\n",
      "6\n",
      "7\n",
      "8\n",
      "9\n"
     ]
    }
   ],
   "source": [
    "#sleep1.py\n",
    "import time\n",
    "for i in range(10):\n",
    "    print(i)\n",
    "    time.sleep(1)\n",
    "\n",
    "#1초 간격으로 0부터 9까지의 숫자를 출력한다. "
   ]
  },
  {
   "cell_type": "markdown",
   "metadata": {},
   "source": [
    "##### calendar\n",
    "\n",
    "파이썬에서 달력을 볼 수 있게 해주는 모듈이다.\n",
    "\n",
    "**calendar.calendar(연도)**를 사용하면 그 해의 전체 달력을 볼 수 있다."
   ]
  },
  {
   "cell_type": "code",
   "execution_count": 63,
   "metadata": {},
   "outputs": [
    {
     "name": "stdout",
     "output_type": "stream",
     "text": [
      "                                  2022\n",
      "\n",
      "      January                   February                   March\n",
      "Mo Tu We Th Fr Sa Su      Mo Tu We Th Fr Sa Su      Mo Tu We Th Fr Sa Su\n",
      "                1  2          1  2  3  4  5  6          1  2  3  4  5  6\n",
      " 3  4  5  6  7  8  9       7  8  9 10 11 12 13       7  8  9 10 11 12 13\n",
      "10 11 12 13 14 15 16      14 15 16 17 18 19 20      14 15 16 17 18 19 20\n",
      "17 18 19 20 21 22 23      21 22 23 24 25 26 27      21 22 23 24 25 26 27\n",
      "24 25 26 27 28 29 30      28                        28 29 30 31\n",
      "31\n",
      "\n",
      "       April                      May                       June\n",
      "Mo Tu We Th Fr Sa Su      Mo Tu We Th Fr Sa Su      Mo Tu We Th Fr Sa Su\n",
      "             1  2  3                         1             1  2  3  4  5\n",
      " 4  5  6  7  8  9 10       2  3  4  5  6  7  8       6  7  8  9 10 11 12\n",
      "11 12 13 14 15 16 17       9 10 11 12 13 14 15      13 14 15 16 17 18 19\n",
      "18 19 20 21 22 23 24      16 17 18 19 20 21 22      20 21 22 23 24 25 26\n",
      "25 26 27 28 29 30         23 24 25 26 27 28 29      27 28 29 30\n",
      "                          30 31\n",
      "\n",
      "        July                     August                  September\n",
      "Mo Tu We Th Fr Sa Su      Mo Tu We Th Fr Sa Su      Mo Tu We Th Fr Sa Su\n",
      "             1  2  3       1  2  3  4  5  6  7                1  2  3  4\n",
      " 4  5  6  7  8  9 10       8  9 10 11 12 13 14       5  6  7  8  9 10 11\n",
      "11 12 13 14 15 16 17      15 16 17 18 19 20 21      12 13 14 15 16 17 18\n",
      "18 19 20 21 22 23 24      22 23 24 25 26 27 28      19 20 21 22 23 24 25\n",
      "25 26 27 28 29 30 31      29 30 31                  26 27 28 29 30\n",
      "\n",
      "      October                   November                  December\n",
      "Mo Tu We Th Fr Sa Su      Mo Tu We Th Fr Sa Su      Mo Tu We Th Fr Sa Su\n",
      "                1  2          1  2  3  4  5  6                1  2  3  4\n",
      " 3  4  5  6  7  8  9       7  8  9 10 11 12 13       5  6  7  8  9 10 11\n",
      "10 11 12 13 14 15 16      14 15 16 17 18 19 20      12 13 14 15 16 17 18\n",
      "17 18 19 20 21 22 23      21 22 23 24 25 26 27      19 20 21 22 23 24 25\n",
      "24 25 26 27 28 29 30      28 29 30                  26 27 28 29 30 31\n",
      "31\n",
      "\n"
     ]
    }
   ],
   "source": [
    "import calendar\n",
    "print(calendar.calendar(2022))"
   ]
  },
  {
   "cell_type": "code",
   "execution_count": 64,
   "metadata": {},
   "outputs": [
    {
     "name": "stdout",
     "output_type": "stream",
     "text": [
      "                                  2022\n",
      "\n",
      "      January                   February                   March\n",
      "Mo Tu We Th Fr Sa Su      Mo Tu We Th Fr Sa Su      Mo Tu We Th Fr Sa Su\n",
      "                1  2          1  2  3  4  5  6          1  2  3  4  5  6\n",
      " 3  4  5  6  7  8  9       7  8  9 10 11 12 13       7  8  9 10 11 12 13\n",
      "10 11 12 13 14 15 16      14 15 16 17 18 19 20      14 15 16 17 18 19 20\n",
      "17 18 19 20 21 22 23      21 22 23 24 25 26 27      21 22 23 24 25 26 27\n",
      "24 25 26 27 28 29 30      28                        28 29 30 31\n",
      "31\n",
      "\n",
      "       April                      May                       June\n",
      "Mo Tu We Th Fr Sa Su      Mo Tu We Th Fr Sa Su      Mo Tu We Th Fr Sa Su\n",
      "             1  2  3                         1             1  2  3  4  5\n",
      " 4  5  6  7  8  9 10       2  3  4  5  6  7  8       6  7  8  9 10 11 12\n",
      "11 12 13 14 15 16 17       9 10 11 12 13 14 15      13 14 15 16 17 18 19\n",
      "18 19 20 21 22 23 24      16 17 18 19 20 21 22      20 21 22 23 24 25 26\n",
      "25 26 27 28 29 30         23 24 25 26 27 28 29      27 28 29 30\n",
      "                          30 31\n",
      "\n",
      "        July                     August                  September\n",
      "Mo Tu We Th Fr Sa Su      Mo Tu We Th Fr Sa Su      Mo Tu We Th Fr Sa Su\n",
      "             1  2  3       1  2  3  4  5  6  7                1  2  3  4\n",
      " 4  5  6  7  8  9 10       8  9 10 11 12 13 14       5  6  7  8  9 10 11\n",
      "11 12 13 14 15 16 17      15 16 17 18 19 20 21      12 13 14 15 16 17 18\n",
      "18 19 20 21 22 23 24      22 23 24 25 26 27 28      19 20 21 22 23 24 25\n",
      "25 26 27 28 29 30 31      29 30 31                  26 27 28 29 30\n",
      "\n",
      "      October                   November                  December\n",
      "Mo Tu We Th Fr Sa Su      Mo Tu We Th Fr Sa Su      Mo Tu We Th Fr Sa Su\n",
      "                1  2          1  2  3  4  5  6                1  2  3  4\n",
      " 3  4  5  6  7  8  9       7  8  9 10 11 12 13       5  6  7  8  9 10 11\n",
      "10 11 12 13 14 15 16      14 15 16 17 18 19 20      12 13 14 15 16 17 18\n",
      "17 18 19 20 21 22 23      21 22 23 24 25 26 27      19 20 21 22 23 24 25\n",
      "24 25 26 27 28 29 30      28 29 30                  26 27 28 29 30 31\n",
      "31\n"
     ]
    }
   ],
   "source": [
    "calendar.prcal(2022)\n",
    "#이도 같은 결과"
   ]
  },
  {
   "cell_type": "code",
   "execution_count": 65,
   "metadata": {},
   "outputs": [
    {
     "name": "stdout",
     "output_type": "stream",
     "text": [
      "   February 2022\n",
      "Mo Tu We Th Fr Sa Su\n",
      "    1  2  3  4  5  6\n",
      " 7  8  9 10 11 12 13\n",
      "14 15 16 17 18 19 20\n",
      "21 22 23 24 25 26 27\n",
      "28\n"
     ]
    }
   ],
   "source": [
    "calendar.prmonth(2022, 2)"
   ]
  },
  {
   "cell_type": "markdown",
   "metadata": {},
   "source": [
    "**calendar.weekday**  \n",
    "weekday(연도, 월, 일) 함수는 그 날짜에 해당하는 요일 정보를 돌려준다.\n",
    "월: 0, ..., 일: 6"
   ]
  },
  {
   "cell_type": "code",
   "execution_count": 66,
   "metadata": {},
   "outputs": [
    {
     "data": {
      "text/plain": [
       "4"
      ]
     },
     "execution_count": 66,
     "metadata": {},
     "output_type": "execute_result"
    }
   ],
   "source": [
    "calendar.weekday(2022, 2, 18)"
   ]
  },
  {
   "cell_type": "markdown",
   "metadata": {},
   "source": [
    "**calendar.monthrange**  \n",
    "monthrange(연도, 월) 함수는 입력받은 달의 1일이 무슨 요일인지와 그 달이 며칠까지 있는지를 튜플 형태로 돌려준다."
   ]
  },
  {
   "cell_type": "code",
   "execution_count": 67,
   "metadata": {},
   "outputs": [
    {
     "data": {
      "text/plain": [
       "(1, 28)"
      ]
     },
     "execution_count": 67,
     "metadata": {},
     "output_type": "execute_result"
    }
   ],
   "source": [
    "calendar.monthrange(2022, 2)"
   ]
  },
  {
   "cell_type": "markdown",
   "metadata": {},
   "source": [
    "##### random\n",
    "\n",
    "난수를 발생시키는 모듈"
   ]
  },
  {
   "cell_type": "code",
   "execution_count": 68,
   "metadata": {},
   "outputs": [
    {
     "data": {
      "text/plain": [
       "0.4094485869717398"
      ]
     },
     "execution_count": 68,
     "metadata": {},
     "output_type": "execute_result"
    }
   ],
   "source": [
    "import random\n",
    "random.random()\n",
    "\n",
    "## 0.0에서 1.0 사이의 실수 중 난수 값을 돌려준다"
   ]
  },
  {
   "cell_type": "code",
   "execution_count": 69,
   "metadata": {},
   "outputs": [
    {
     "data": {
      "text/plain": [
       "4"
      ]
     },
     "execution_count": 69,
     "metadata": {},
     "output_type": "execute_result"
    }
   ],
   "source": [
    "random.randint(1, 10)\n",
    "\n",
    "# 1과 10 사이의 정수 중에서 난수 값을 돌려준다."
   ]
  },
  {
   "cell_type": "code",
   "execution_count": 70,
   "metadata": {},
   "outputs": [
    {
     "name": "stdout",
     "output_type": "stream",
     "text": [
      "3\n",
      "1\n",
      "4\n",
      "2\n",
      "5\n"
     ]
    }
   ],
   "source": [
    "# random_pop.py\n",
    "import random\n",
    "def random_pop(data):\n",
    "    number = random.randint(0, len(data)-1)\n",
    "    return data.pop(number)\n",
    "\n",
    "if __name__ == \"__main__\":\n",
    "    data = [1, 2, 3, 4, 5]\n",
    "    while data: \n",
    "        print(random_pop(data))\n",
    "\n",
    "# 리스트 요소 중에서 무작위로 하나를 선택해 꺼낸 다음 돌려주는 함수."
   ]
  },
  {
   "cell_type": "code",
   "execution_count": 71,
   "metadata": {},
   "outputs": [],
   "source": [
    "def random_pop(data):\n",
    "    number = random.choice(data)\n",
    "    data.remove(number)\n",
    "    return number\n",
    "\n",
    "# 좀 더 직관적으로 만든 random_pop함수"
   ]
  },
  {
   "cell_type": "code",
   "execution_count": 72,
   "metadata": {},
   "outputs": [
    {
     "data": {
      "text/plain": [
       "[4, 3, 1, 5, 2]"
      ]
     },
     "execution_count": 72,
     "metadata": {},
     "output_type": "execute_result"
    }
   ],
   "source": [
    "## 리스트의 항목을 무작위로 섞고 싶을 때\n",
    "import random\n",
    "data = [1, 2, 3, 4, 5]\n",
    "random.shuffle(data)\n",
    "data"
   ]
  },
  {
   "cell_type": "markdown",
   "metadata": {},
   "source": [
    "##### webbrowser\n",
    "\n",
    "시스템에서 사용하는 기본 웹 브라우저를 자동으로 실행"
   ]
  },
  {
   "cell_type": "code",
   "execution_count": 74,
   "metadata": {},
   "outputs": [
    {
     "data": {
      "text/plain": [
       "True"
      ]
     },
     "execution_count": 74,
     "metadata": {},
     "output_type": "execute_result"
    }
   ],
   "source": [
    "import webbrowser\n",
    "webbrowser.open(\"http://google.com\")\n",
    "\n",
    "# 웹브라우저가 이미 실행된 상태라면 입력 주소로 이동, \n",
    "# 실행되지 않은 상태라면 새로 실행 후 이동"
   ]
  },
  {
   "cell_type": "code",
   "execution_count": 75,
   "metadata": {},
   "outputs": [
    {
     "data": {
      "text/plain": [
       "True"
      ]
     },
     "execution_count": 75,
     "metadata": {},
     "output_type": "execute_result"
    }
   ],
   "source": [
    "webbrowser.open_new(\"http://google.com\")\n",
    "\n",
    "# 이미 웹 브라우저가 실행된 상태이더라도 새로운 창으로 열리게 함"
   ]
  },
  {
   "cell_type": "markdown",
   "metadata": {},
   "source": [
    "> ##### 스레드를 다루는 threading 모듈"
   ]
  },
  {
   "cell_type": "code",
   "execution_count": 76,
   "metadata": {},
   "outputs": [
    {
     "name": "stdout",
     "output_type": "stream",
     "text": [
      "Start\n",
      "working:0\n",
      "\n",
      "working:1\n",
      "\n",
      "working:2\n",
      "\n",
      "working:3\n",
      "\n",
      "working:4\n",
      "\n",
      "working:0\n",
      "\n",
      "working:1\n",
      "\n",
      "working:2\n",
      "\n",
      "working:3\n",
      "\n",
      "working:4\n",
      "\n",
      "working:0\n",
      "\n",
      "working:1\n",
      "\n",
      "working:2\n",
      "\n",
      "working:3\n",
      "\n",
      "working:4\n",
      "\n",
      "working:0\n",
      "\n",
      "working:1\n",
      "\n",
      "working:2\n",
      "\n",
      "working:3\n",
      "\n",
      "working:4\n",
      "\n",
      "working:0\n",
      "\n",
      "working:1\n",
      "\n",
      "working:2\n",
      "\n",
      "working:3\n",
      "\n",
      "working:4\n",
      "\n",
      "End\n"
     ]
    }
   ],
   "source": [
    "# thread_test.py\n",
    "import time\n",
    "\n",
    "def long_task():  # 5초의 시간이 걸리는 함수\n",
    "    for i in range(5):\n",
    "        time.sleep(1)  # 1초간 대기한다.\n",
    "        print(\"working:%s\\n\" % i)\n",
    "\n",
    "print(\"Start\")\n",
    "\n",
    "for i in range(5):  # long_task를 5회 수행한다.\n",
    "    long_task()\n",
    "\n",
    "print(\"End\")\n",
    "\n",
    "#25초 소요"
   ]
  },
  {
   "cell_type": "code",
   "execution_count": 78,
   "metadata": {},
   "outputs": [
    {
     "name": "stdout",
     "output_type": "stream",
     "text": [
      "Start\n",
      "End\n",
      "working:0\n",
      "working:0\n",
      "working:0\n",
      "\n",
      "\n",
      "working:0\n",
      "\n",
      "working:0\n",
      "\n",
      "\n",
      "working:1\n",
      "\n",
      "working:1\n",
      "working:1\n",
      "\n",
      "working:1\n",
      "\n",
      "\n",
      "working:1\n",
      "\n",
      "working:2\n",
      "\n",
      "working:2\n",
      "working:2\n",
      "working:2\n",
      "working:2\n",
      "\n",
      "\n",
      "\n",
      "\n",
      "working:3\n",
      "\n",
      "working:3\n",
      "working:3\n",
      "working:3\n",
      "\n",
      "\n",
      "working:3\n",
      "\n",
      "\n",
      "working:4\n",
      "\n",
      "working:4\n",
      "working:4\n",
      "working:4\n",
      "\n",
      "\n",
      "working:4\n",
      "\n",
      "\n"
     ]
    }
   ],
   "source": [
    "# thread_test.py\n",
    "import time\n",
    "import threading  # 스레드를 생성하기 위해서는 threading 모듈이 필요하다.\n",
    "\n",
    "def long_task():\n",
    "    for i in range(5):\n",
    "        time.sleep(1)\n",
    "        print(\"working:%s\\n\" % i)\n",
    "\n",
    "print(\"Start\")\n",
    "\n",
    "threads = []\n",
    "for i in range(5):\n",
    "    t = threading.Thread(target=long_task)  # 스레드를 생성한다.\n",
    "    threads.append(t) \n",
    "\n",
    "for t in threads:\n",
    "    t.start()  # 스레드를 실행한다.\n",
    "\n",
    "print(\"End\")\n",
    "\n",
    "# 5초 소요\n",
    "# threading.Thread 를 사용해 만든 스레드 객체가 동시 작업을 가능하게 해 주기 때문\n",
    "# start와 end가 먼저출력된다."
   ]
  },
  {
   "cell_type": "code",
   "execution_count": 79,
   "metadata": {},
   "outputs": [
    {
     "name": "stdout",
     "output_type": "stream",
     "text": [
      "Start\n",
      "working:0\n",
      "\n",
      "working:0\n",
      "\n",
      "working:0\n",
      "\n",
      "working:0\n",
      "\n",
      "working:0\n",
      "\n",
      "working:1\n",
      "working:1\n",
      "\n",
      "working:1\n",
      "\n",
      "working:1\n",
      "working:1\n",
      "\n",
      "\n",
      "\n",
      "working:2\n",
      "working:2\n",
      "working:2\n",
      "\n",
      "\n",
      "working:2\n",
      "\n",
      "\n",
      "working:2\n",
      "\n",
      "working:3\n",
      "\n",
      "working:3\n",
      "working:3\n",
      "working:3\n",
      "working:3\n",
      "\n",
      "\n",
      "\n",
      "\n",
      "working:4\n",
      "\n",
      "working:4\n",
      "working:4\n",
      "working:4\n",
      "working:4\n",
      "\n",
      "\n",
      "\n",
      "\n",
      "End\n"
     ]
    }
   ],
   "source": [
    "# thread_test.py\n",
    "import time\n",
    "import threading\n",
    "\n",
    "def long_task():\n",
    "    for i in range(5):\n",
    "        time.sleep(1)\n",
    "        print(\"working:%s\\n\" % i)\n",
    "\n",
    "print(\"Start\")\n",
    "\n",
    "threads = []\n",
    "for i in range(5):\n",
    "    t = threading.Thread(target=long_task)\n",
    "    threads.append(t)\n",
    "\n",
    "for t in threads:\n",
    "    t.start()\n",
    "\n",
    "for t in threads:\n",
    "    t.join()  # join으로 스레드가 종료될때까지 기다린다.\n",
    "\n",
    "print(\"End\")"
   ]
  }
 ],
 "metadata": {
  "interpreter": {
   "hash": "bde2cb37ed552133069133180f69a05a0b37739abedd10b32dad52c475ef7da5"
  },
  "kernelspec": {
   "display_name": "Python 3.9.1 64-bit",
   "language": "python",
   "name": "python3"
  },
  "language_info": {
   "codemirror_mode": {
    "name": "ipython",
    "version": 3
   },
   "file_extension": ".py",
   "mimetype": "text/x-python",
   "name": "python",
   "nbconvert_exporter": "python",
   "pygments_lexer": "ipython3",
   "version": "3.9.1"
  },
  "orig_nbformat": 4
 },
 "nbformat": 4,
 "nbformat_minor": 2
}
