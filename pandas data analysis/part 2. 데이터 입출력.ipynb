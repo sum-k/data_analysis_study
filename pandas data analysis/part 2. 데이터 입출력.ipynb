{
 "cells": [
  {
   "cell_type": "markdown",
   "metadata": {},
   "source": [
    "# Part 2. 데이터 입출력\n",
    "## 1. 외부 파일 읽어오기\n",
    "판다스는 다양한 형태의 외부 파일을 읽어와 데이터 프레임으로 변환하는 함수를 제공한다.  \n",
    "반대로 데이터프레임을 다양한 유형의 파일로 저장할 수도 있다.  \n",
    "\n",
    "File Format | Reader   | Writer\n",
    "------------|----------|--------\n",
    "CSV         | read_csv |to_csv\n",
    "HTML        |read_html |to_html\n",
    "MS Excel    |read_excel|to_excel\n",
    "SQL         |read_sql  |to_sql\n",
    "  \n",
    "### 1-1. CSV 파일\n",
    "CSV: 쉼표로 열(데이터 값)을 구분, 줄바꿈으로 행을 구분  \n",
    "`CSV 파일 -> 데이터프레임 : pandas.read_csv(\"파일 경로(이름)*\", header = 0(default), index_col = False)`  \n",
    "  \n",
    "header 옵션 : '열 이름'이 되는 행을 지정  \n",
    "index_col 옵션 : '행 주소'가 되는 열을 지정"
   ]
  },
  {
   "cell_type": "code",
   "execution_count": 1,
   "metadata": {},
   "outputs": [
    {
     "name": "stdout",
     "output_type": "stream",
     "text": [
      "   c0  c1  c2  c3\n",
      "0   0   1   4   7\n",
      "1   1   2   5   8\n",
      "2   2   3   6   9\n"
     ]
    }
   ],
   "source": [
    "import pandas as pd\n",
    "\n",
    "file_path = 'read_csv_sample.csv'\n",
    "\n",
    "df1 = pd.read_csv(file_path)\n",
    "print(df1)"
   ]
  },
  {
   "cell_type": "code",
   "execution_count": 2,
   "metadata": {},
   "outputs": [
    {
     "name": "stdout",
     "output_type": "stream",
     "text": [
      "    0   1   2   3\n",
      "0  c0  c1  c2  c3\n",
      "1   0   1   4   7\n",
      "2   1   2   5   8\n",
      "3   2   3   6   9\n",
      "\n",
      "\n",
      "   c0  c1  c2  c3\n",
      "0   0   1   4   7\n",
      "1   1   2   5   8\n",
      "2   2   3   6   9\n",
      "\n",
      "\n",
      "    c1  c2  c3\n",
      "c0            \n",
      "0    1   4   7\n",
      "1    2   5   8\n",
      "2    3   6   9\n"
     ]
    }
   ],
   "source": [
    "df2 = pd.read_csv(file_path, header=None)  # 정수형 인덱스를 열 이름으로 자동 할당\n",
    "print(df2)\n",
    "\n",
    "print('\\n')\n",
    "\n",
    "df3 = pd.read_csv(file_path, index_col=None) # default\n",
    "print(df3)\n",
    "\n",
    "print('\\n')\n",
    "\n",
    "df4 = pd.read_csv(file_path, index_col='c0')\n",
    "print(df4)"
   ]
  },
  {
   "cell_type": "markdown",
   "metadata": {},
   "source": [
    "csv 파일에 따라 쉼표 대신 탭이나 공백으로 텍스트를 구분하기도 한다.   \n",
    "이때는 구분자(sep 또는 delimiter) 옵션을 알맞게 입력해야 한다.  \n",
    "\n",
    "옵션  |설명 \n",
    "------|----\n",
    "path|파일의 위치, url\n",
    "sep, delimiter|텍스트 데이터를 필드별로 구분하는 문자\n",
    "header|열 이름으로 사용될 행의 번호\n",
    "index_col|행 인덱스로 사용할 열의 번호 또는 열 이름\n",
    "names| 열 이름으로 사용할 문자열의 리스트\n",
    "skiprows| 처음 몇 줄을 skip할 것인지 설정\n",
    "parse_dates| 날짜 텍스트를 datetime64로 변환할 것인지 설정\n",
    "skip_footer|마지막 몇 줄을 skip할 것인지 설정\n",
    "encoding| 텍스트 인코딩 종류를 지정(ex: 'utf-8')"
   ]
  },
  {
   "cell_type": "markdown",
   "metadata": {},
   "source": [
    "### 1-2. EXCEL 파일\n",
    "\n",
    "read_csv() 함수와 거의 비슷하며, 대부분의 옵션을 그대로 사용할 수 있다.  \n",
    "`Excel 파일 -> 데이터프레임 : pandas.read_excel(\"파일 경로(이름)*\")`  "
   ]
  },
  {
   "cell_type": "code",
   "execution_count": 3,
   "metadata": {},
   "outputs": [
    {
     "name": "stdout",
     "output_type": "stream",
     "text": [
      "  전력량 (억㎾h) 발전 전력별  1990  1991  1992  1993  1994  1995  1996  1997  ...  2007  \\\n",
      "0        남한     합계  1077  1186  1310  1444  1650  1847  2055  2244  ...  4031   \n",
      "1       NaN     수력    64    51    49    60    41    55    52    54  ...    50   \n",
      "2       NaN     화력   484   573   696   803  1022  1122  1264  1420  ...  2551   \n",
      "3       NaN    원자력   529   563   565   581   587   670   739   771  ...  1429   \n",
      "4       NaN    신재생     -     -     -     -     -     -     -     -  ...     -   \n",
      "5        북한     합계   277   263   247   221   231   230   213   193  ...   236   \n",
      "6       NaN     수력   156   150   142   133   138   142   125   107  ...   133   \n",
      "7       NaN     화력   121   113   105    88    93    88    88    86  ...   103   \n",
      "8       NaN    원자력     -     -     -     -     -     -     -     -  ...     -   \n",
      "\n",
      "   2008  2009  2010  2011  2012  2013  2014  2015  2016  \n",
      "0  4224  4336  4747  4969  5096  5171  5220  5281  5404  \n",
      "1    56    56    65    78    77    84    78    58    66  \n",
      "2  2658  2802  3196  3343  3430  3581  3427  3402  3523  \n",
      "3  1510  1478  1486  1547  1503  1388  1564  1648  1620  \n",
      "4     -     -     -     -    86   118   151   173   195  \n",
      "5   255   235   237   211   215   221   216   190   239  \n",
      "6   141   125   134   132   135   139   130   100   128  \n",
      "7   114   110   103    79    80    82    86    90   111  \n",
      "8     -     -     -     -     -     -     -     -     -  \n",
      "\n",
      "[9 rows x 29 columns]\n",
      "\n",
      "\n",
      "          0       1     2     3     4     5     6     7     8     9   ...  \\\n",
      "0  전력량 (억㎾h)  발전 전력별  1990  1991  1992  1993  1994  1995  1996  1997  ...   \n",
      "1         남한      합계  1077  1186  1310  1444  1650  1847  2055  2244  ...   \n",
      "2        NaN      수력    64    51    49    60    41    55    52    54  ...   \n",
      "3        NaN      화력   484   573   696   803  1022  1122  1264  1420  ...   \n",
      "4        NaN     원자력   529   563   565   581   587   670   739   771  ...   \n",
      "5        NaN     신재생     -     -     -     -     -     -     -     -  ...   \n",
      "6         북한      합계   277   263   247   221   231   230   213   193  ...   \n",
      "7        NaN      수력   156   150   142   133   138   142   125   107  ...   \n",
      "8        NaN      화력   121   113   105    88    93    88    88    86  ...   \n",
      "9        NaN     원자력     -     -     -     -     -     -     -     -  ...   \n",
      "\n",
      "     19    20    21    22    23    24    25    26    27    28  \n",
      "0  2007  2008  2009  2010  2011  2012  2013  2014  2015  2016  \n",
      "1  4031  4224  4336  4747  4969  5096  5171  5220  5281  5404  \n",
      "2    50    56    56    65    78    77    84    78    58    66  \n",
      "3  2551  2658  2802  3196  3343  3430  3581  3427  3402  3523  \n",
      "4  1429  1510  1478  1486  1547  1503  1388  1564  1648  1620  \n",
      "5     -     -     -     -     -    86   118   151   173   195  \n",
      "6   236   255   235   237   211   215   221   216   190   239  \n",
      "7   133   141   125   134   132   135   139   130   100   128  \n",
      "8   103   114   110   103    79    80    82    86    90   111  \n",
      "9     -     -     -     -     -     -     -     -     -     -  \n",
      "\n",
      "[10 rows x 29 columns]\n"
     ]
    }
   ],
   "source": [
    "import pandas as pd\n",
    "\n",
    "df1 = pd.read_excel('남북한발전전력량.xlsx') # default: header = 0\n",
    "df2 = pd.read_excel('남북한발전전력량.xlsx', header = None) # 정수형 인덱스를 열 이름으로 자동 할당\n",
    "\n",
    "print(df1)\n",
    "print('\\n')\n",
    "print(df2)"
   ]
  },
  {
   "cell_type": "markdown",
   "metadata": {},
   "source": [
    "### 1-3. JSON 파일\n",
    "\n",
    "JSON: 데이터 공유를 목적으로 개발된 특수한 파일 형식  \n",
    "파이썬 딕셔너리와 비슷하게 'key:value' 구조를 갖고, 구조가 중첩되는 방식에 따라 옵션을 다르게 적용한다.  \n",
    "`JSON 파일 -> 데이터프레임 : pandas.read_json(\"파일 경로(이름)*\")`"
   ]
  },
  {
   "cell_type": "code",
   "execution_count": 4,
   "metadata": {},
   "outputs": [
    {
     "name": "stdout",
     "output_type": "stream",
     "text": [
      "           name  year        developer opensource\n",
      "pandas           2008    Wes Mckinneye       True\n",
      "NumPy            2006  Travis Oliphant       True\n",
      "matplotlib       2003   John D. Hunter       True\n",
      "\n",
      "\n",
      "Index(['pandas', 'NumPy', 'matplotlib'], dtype='object')\n"
     ]
    }
   ],
   "source": [
    "import pandas as pd\n",
    "\n",
    "df = pd.read_json(\"read_json_sample.json\")\n",
    "print(df)\n",
    "print(\"\\n\")\n",
    "print(df.index)"
   ]
  },
  {
   "cell_type": "markdown",
   "metadata": {},
   "source": [
    "## 2. 웹(web)에서 가져오기\n",
    "\n",
    "### 2-1. HTML 웹 페이지에서 표 속성 가져오기\n",
    "\n",
    "판다스 read_html() 함수는 HTML 웹 페이지에 있는 `<table>` 태그에서 표 형식의 데이터를 모두 찾아 데이터 프레임으로 변환한다.  \n",
    "따라서 여러 개의 데이터프레임을 원소로 갖는 리스트가 반환된다.  \n",
    "`HTML 표 속성 읽기: pandas.read_html(\"웹 주소(url)\" 또는 \"HTML 파일 경로(이름)*\")`  \n",
    "    "
   ]
  },
  {
   "cell_type": "code",
   "execution_count": 8,
   "metadata": {},
   "outputs": [
    {
     "name": "stdout",
     "output_type": "stream",
     "text": [
      "2\n",
      "\n",
      "\n",
      "[   Unnamed: 0  c0  c1  c2  c3\n",
      "0           0   0   1   4   7\n",
      "1           1   1   2   5   8\n",
      "2           2   2   3   6   9,          name  year        developer  opensource\n",
      "0       NumPy  2006  Travis Oliphant        True\n",
      "1  matplotlib  2003   John D. Hunter        True\n",
      "2      pandas  2008    Wes Mckinneye        True]\n"
     ]
    }
   ],
   "source": [
    "import pandas as pd\n",
    "\n",
    "url = 'sample.html'\n",
    "\n",
    "tables = pd.read_html(url)\n",
    "\n",
    "print(len(tables))\n",
    "print('\\n')\n",
    "print(tables)"
   ]
  },
  {
   "cell_type": "code",
   "execution_count": 9,
   "metadata": {},
   "outputs": [
    {
     "name": "stdout",
     "output_type": "stream",
     "text": [
      "tables[0]\n",
      "   Unnamed: 0  c0  c1  c2  c3\n",
      "0           0   0   1   4   7\n",
      "1           1   1   2   5   8\n",
      "2           2   2   3   6   9\n",
      "\n",
      "\n",
      "tables[1]\n",
      "         name  year        developer  opensource\n",
      "0       NumPy  2006  Travis Oliphant        True\n",
      "1  matplotlib  2003   John D. Hunter        True\n",
      "2      pandas  2008    Wes Mckinneye        True\n",
      "\n",
      "\n"
     ]
    }
   ],
   "source": [
    "for i in range(len(tables)):\n",
    "    print(\"tables[%s]\" % i)\n",
    "    print(tables[i])\n",
    "    print('\\n')"
   ]
  },
  {
   "cell_type": "code",
   "execution_count": 10,
   "metadata": {},
   "outputs": [
    {
     "name": "stdout",
     "output_type": "stream",
     "text": [
      "            year        developer  opensource\n",
      "name                                         \n",
      "NumPy       2006  Travis Oliphant        True\n",
      "matplotlib  2003   John D. Hunter        True\n",
      "pandas      2008    Wes Mckinneye        True\n"
     ]
    }
   ],
   "source": [
    "df = tables[1]\n",
    "df.set_index(['name'], inplace=True)\n",
    "\n",
    "print(df)"
   ]
  },
  {
   "cell_type": "markdown",
   "metadata": {},
   "source": [
    "### 2-2. 웹 스크래핑\n",
    "\n",
    "스크래핑한 내용을 파이썬 리스트, 딕셔너리 등으로 정리한 후 DataFrame()함수에 리스트나 딕셔너리 형태로 전달해 데이터프레임으로 변환하기"
   ]
  },
  {
   "cell_type": "code",
   "execution_count": 13,
   "metadata": {},
   "outputs": [
    {
     "name": "stdout",
     "output_type": "stream",
     "text": [
      "{}\n",
      "\n",
      "\n",
      "Empty DataFrame\n",
      "Columns: []\n",
      "Index: []\n"
     ]
    }
   ],
   "source": [
    "# 미국 ETF 리스트 가져오기\n",
    "\n",
    "from bs4 import BeautifulSoup\n",
    "import requests\n",
    "import re\n",
    "import pandas as pd\n",
    "\n",
    "url = \"https://en.wikipedia.org/wiki/List_of_American_exchange-traded_funds\"\n",
    "resp = requests.get(url)\n",
    "soup = BeautifulSoup(resp.text, 'lxml') # 스크래핑   \n",
    "rows = soup.select('div > ul > li') \n",
    "    \n",
    "etfs = {} # 딕셔너리 형태로 저장\n",
    "for row in rows:\n",
    "    \n",
    "    try:\n",
    "        etf_name = re.findall('^(.*) \\(NYSE', row.text)\n",
    "        etf_market = re.findall('\\((.*)\\|', row.text)\n",
    "        etf_ticker = re.findall('NYSE Arca\\|(.*)\\)', row.text)\n",
    "        \n",
    "        if (len(etf_ticker) > 0) & (len(etf_market) > 0) & (len(etf_name) > 0):\n",
    "            etfs[etf_ticker[0]] = [etf_market[0], etf_name[0]] ## 리스트를 원소로 갖는 딕셔너리를 정의하는 법\n",
    "\n",
    "    except AttributeError as err:\n",
    "        pass    \n",
    "\n",
    "print(etfs)\n",
    "print('\\n')\n",
    "\n",
    "df = pd.DataFrame(etfs)\n",
    "print(df)"
   ]
  },
  {
   "cell_type": "markdown",
   "metadata": {},
   "source": [
    "> **데이터베이스에서 판다스로 데이터를 가져오는 방법**  \n",
    "> 판다스는 read_sql() 함수를 이용하면 데이터베이스로부터 데이터를 불러올 수 있다.  \n",
    "> 이때 읽어온 데이터는 데이터프레임 포맷으로 저장된다."
   ]
  },
  {
   "cell_type": "markdown",
   "metadata": {},
   "source": [
    "## 3. API 활용하여 데이터 수집하기\n",
    "\n",
    "대부분의 API는 판다스에서 쉽게 읽어올 수 있는 파일 형식을 지원한다. 따라서 API를 통해 가져온 데이터를 판다스 데이터프레임으로 손쉽게 변환할 수 있다."
   ]
  },
  {
   "cell_type": "code",
   "execution_count": 15,
   "metadata": {},
   "outputs": [],
   "source": [
    "# ## google 지오코딩 API 통해 위도, 경도 데이터 가져오기 \n",
    "\n",
    "# # 라이브러리 가져오기\n",
    "# import googlemaps\n",
    "# import pandas as pd\n",
    "\n",
    "# # my_key = \"----발급받은 API 키를 입력-----\"\n",
    "\n",
    "# # 구글맵스 객체 생성하기\n",
    "# maps = googlemaps.Client(key=my_key)  # my key값 입력\n",
    "\n",
    "# lat = []  #위도\n",
    "# lng = []  #경도\n",
    "\n",
    "# # 장소(또는 주소) 리스트\n",
    "# places = [\"서울시청\", \"국립국악원\", \"해운대해수욕장\"]\n",
    "\n",
    "# i=0\n",
    "# for place in places:   \n",
    "#     i = i + 1\n",
    "#     try:\n",
    "#         print(i, place)\n",
    "#         # 지오코딩 API 결과값 호출하여 geo_location 변수에 저장\n",
    "#         geo_location = maps.geocode(place)[0].get('geometry')\n",
    "#         lat.append(geo_location['location']['lat'])\n",
    "#         lng.append(geo_location['location']['lng'])\n",
    "        \n",
    "#     except:\n",
    "#         lat.append('')\n",
    "#         lng.append('')\n",
    "#         print(i)\n",
    "\n",
    "# # 데이터프레임으로 변환하기\n",
    "# df = pd.DataFrame({'위도':lat, '경도':lng}, index=places)\n",
    "# print('\\n')\n",
    "# print(df)"
   ]
  },
  {
   "cell_type": "markdown",
   "metadata": {},
   "source": [
    "## 4. 데이터 저장하기\n",
    "\n",
    "### 4-1. CSV 파일로 저장\n",
    "\n",
    "`CSV 파일로 저장 : DataFrame 객체.to_csv(\"파일 이름(경로)\")`"
   ]
  },
  {
   "cell_type": "code",
   "execution_count": 16,
   "metadata": {},
   "outputs": [
    {
     "name": "stdout",
     "output_type": "stream",
     "text": [
      "      algol basic c++\n",
      "name                 \n",
      "Jerry     A     C  B+\n",
      "Riah     A+     B   C\n",
      "Paul      B    B+  C+\n"
     ]
    }
   ],
   "source": [
    "import pandas as pd\n",
    "\n",
    "data = {'name':['Jerry', 'Riah', 'Paul'],\n",
    "       'algol':['A', 'A+','B'],\n",
    "       'basic':['C', 'B', 'B+'],\n",
    "       'c++':['B+', 'C','C+']}\n",
    "\n",
    "df = pd.DataFrame(data)\n",
    "df.set_index('name', inplace=True)\n",
    "print(df)\n",
    "\n",
    "df.to_csv('./df_sample.csv')"
   ]
  },
  {
   "cell_type": "markdown",
   "metadata": {},
   "source": [
    "### 4-2. JSON 파일로 저장\n",
    "\n",
    "`JSON 파일로 저장 : DataFrame 객체.to_json(\"파일 이름(경로)\")`"
   ]
  },
  {
   "cell_type": "code",
   "execution_count": 19,
   "metadata": {},
   "outputs": [
    {
     "name": "stdout",
     "output_type": "stream",
     "text": [
      "      algol basic c++\n",
      "name                 \n",
      "Jerry     A     C  B+\n",
      "Riah     A+     B   C\n",
      "Paul      B    B+  C+\n"
     ]
    }
   ],
   "source": [
    "data = {'name':['Jerry', 'Riah', 'Paul'],\n",
    "       'algol':['A', 'A+','B'],\n",
    "       'basic':['C', 'B', 'B+'],\n",
    "       'c++':['B+', 'C','C+']}\n",
    "\n",
    "df = pd.DataFrame(data)\n",
    "df.set_index('name', inplace=True)\n",
    "print(df)\n",
    "\n",
    "df.to_json('./df_sample.json')"
   ]
  },
  {
   "cell_type": "markdown",
   "metadata": {},
   "source": [
    "### 4-3. Excel 파일로 저장\n",
    "\n",
    "`Excel 파일로 저장 : DataFrame 객체.to_excel(\"파일 이름(경로)\")`"
   ]
  },
  {
   "cell_type": "code",
   "execution_count": 20,
   "metadata": {},
   "outputs": [
    {
     "name": "stdout",
     "output_type": "stream",
     "text": [
      "      algol basic c++\n",
      "name                 \n",
      "Jerry     A     C  B+\n",
      "Riah     A+     B   C\n",
      "Paul      B    B+  C+\n"
     ]
    }
   ],
   "source": [
    "data = {'name':['Jerry', 'Riah', 'Paul'],\n",
    "       'algol':['A', 'A+','B'],\n",
    "       'basic':['C', 'B', 'B+'],\n",
    "       'c++':['B+', 'C','C+']}\n",
    "\n",
    "df = pd.DataFrame(data)\n",
    "df.set_index('name', inplace=True)\n",
    "print(df)\n",
    "\n",
    "df.to_excel('./df_sample.xlsx')"
   ]
  },
  {
   "cell_type": "markdown",
   "metadata": {},
   "source": [
    "### 4-4. 여러 개의 데이터프레임을 하나의 Excel 파일로 저장\n",
    "\n",
    "판다스 ExcelWriter() 함수는 Excel 워크북 객체를 생성한다.  \n",
    "또한 sheet_name 옵션에 Excel 파일의 시트 이름을 입력하여 삽입되는 시트 위치를 지정할 수 있다.  \n",
    "데이터프레임을 삽입하는 시트 이름을 다르게 설정하면, 같은 Excel 파일의 서로 다른 시트에 여러 데이터프레임을 구분하여 저장한다.  \n",
    "`데이터프레임 여러 개를 Excel 파일로 저장 : pandas.ExcelWriter(\"파일 이름(경로)\")`"
   ]
  },
  {
   "cell_type": "code",
   "execution_count": 21,
   "metadata": {},
   "outputs": [
    {
     "name": "stdout",
     "output_type": "stream",
     "text": [
      "      algol basic c++\n",
      "name                 \n",
      "Jerry     A     C  B+\n",
      "Riah     A+     B   C\n",
      "Paul      B    B+  C+\n",
      "\n",
      "\n",
      "    c1  c2  c3  c4\n",
      "c0                \n",
      "1    4   7  10  13\n",
      "2    5   8  11  14\n",
      "3    6   9  12  15\n"
     ]
    }
   ],
   "source": [
    "data1 = {'name':['Jerry', 'Riah', 'Paul'],\n",
    "       'algol':['A', 'A+','B'],\n",
    "       'basic':['C', 'B', 'B+'],\n",
    "       'c++':['B+', 'C','C+']}\n",
    "\n",
    "data2 = {'c0':[1,2,3],\n",
    "        'c1':[4,5,6],\n",
    "         'c2':[7,8,9,],\n",
    "        'c3':[10,11,12],\n",
    "        'c4':[13,14,15]}\n",
    "\n",
    "df1 = pd.DataFrame(data1)\n",
    "df1.set_index('name', inplace=True)\n",
    "print(df1)\n",
    "print('\\n')\n",
    "\n",
    "df2 = pd.DataFrame(data2)\n",
    "df2.set_index('c0', inplace=True)\n",
    "print(df2)\n",
    "\n",
    "writer = pd.ExcelWriter('./df_excelwriter.xlsx')\n",
    "df1.to_excel(writer, sheet_name=\"sheet1\")\n",
    "df2.to_excel(writer, sheet_name=\"sheet2\")\n",
    "writer.save()"
   ]
  }
 ],
 "metadata": {
  "interpreter": {
   "hash": "bde2cb37ed552133069133180f69a05a0b37739abedd10b32dad52c475ef7da5"
  },
  "kernelspec": {
   "display_name": "Python 3",
   "language": "python",
   "name": "python3"
  },
  "language_info": {
   "codemirror_mode": {
    "name": "ipython",
    "version": 3
   },
   "file_extension": ".py",
   "mimetype": "text/x-python",
   "name": "python",
   "nbconvert_exporter": "python",
   "pygments_lexer": "ipython3",
   "version": "3.9.1"
  }
 },
 "nbformat": 4,
 "nbformat_minor": 2
}
